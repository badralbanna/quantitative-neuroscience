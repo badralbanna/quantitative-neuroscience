{
 "cells": [
  {
   "cell_type": "markdown",
   "metadata": {},
   "source": [
    "# Homework 4: Hypothesis testing and Power Analysis \n",
    "\n",
    "* Come up with examples \n",
    "* Practice basic tests\n",
    "* Compare basic tests to nonparametric\n",
    "* Bootsrapping\n",
    "* Power analysis\n",
    "* ANOVA?"
   ]
  }
 ],
 "metadata": {
  "language_info": {
   "name": "python"
  },
  "orig_nbformat": 4
 },
 "nbformat": 4,
 "nbformat_minor": 2
}
