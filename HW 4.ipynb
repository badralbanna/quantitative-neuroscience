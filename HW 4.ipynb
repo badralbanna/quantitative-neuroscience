{
 "cells": [
  {
   "cell_type": "markdown",
   "metadata": {},
   "source": [
    "# Homework 4: Hypothesis testing and Power Analysis \n",
    "\n",
    "* Practice basic tests\n",
    "* Compare basic tests to nonparametric\n",
    "* Bootstrapping\n",
    "* Power analysis"
   ]
  },
  {
   "cell_type": "code",
   "execution_count": 19,
   "metadata": {},
   "outputs": [],
   "source": [
    "# Only need to run this cell once to generate data\n",
    "%run \"HW 4 data generator.py\""
   ]
  },
  {
   "cell_type": "code",
   "execution_count": 10,
   "metadata": {},
   "outputs": [],
   "source": [
    "# Setting up the notebook \n",
    "import os\n",
    "import numpy as np\n",
    "import pandas as pd\n",
    "import scipy.stats as sps\n",
    "import pingouin as pg\n",
    "import statsmodels.stats.power as smp\n",
    "import dabest as db\n",
    "import matplotlib as mpl\n",
    "import matplotlib.pyplot as plt"
   ]
  },
  {
   "cell_type": "markdown",
   "metadata": {},
   "source": [
    "## Problem 4.1: sample types and parametric statistics "
   ]
  },
  {
   "cell_type": "markdown",
   "metadata": {},
   "source": [
    "### 4.1.1 \n",
    "\n",
    "For each of the comparisons below describe whether it warrants a _one sample_, _paired sample_, or _two sample_ statistical test. In each case, briefly explain why. \n",
    "\n",
    "1. Comparing the spontaneously nosepoke frequency of a mouse before and after a small electrical shock. \n",
    "2. Comparing whether mRNA expression for a particular gene is non-zero.\n",
    "3. Comparing BOLD contrast in the amygdala  between participants from Philadelphia and Pittsburgh during Steelers games"
   ]
  },
  {
   "cell_type": "markdown",
   "metadata": {},
   "source": []
  },
  {
   "cell_type": "markdown",
   "metadata": {},
   "source": [
    "### 4.1.2\n",
    "\n",
    "`Y1` and `Y2` represent data from two independently sampled groups. Plot the data below. "
   ]
  },
  {
   "cell_type": "code",
   "execution_count": 12,
   "metadata": {},
   "outputs": [],
   "source": [
    "# Loading the variables\n",
    "with open(os.path.join(\"data\", \"P4-1-Y1_data.npy\"), \"rb\") as f:\n",
    "    Y1 = np.load(f)\n",
    "with open(os.path.join(\"data\", \"P4-1-Y2_data.npy\"), \"rb\") as f:\n",
    "    Y2 = np.load(f)\n"
   ]
  },
  {
   "cell_type": "markdown",
   "metadata": {},
   "source": [
    "### 4.1.3\n",
    "\n",
    "Show that the data below is normally distributed. Calculate the effect size (Cohen's d). Calculate the statistical power and significance. "
   ]
  },
  {
   "cell_type": "markdown",
   "metadata": {},
   "source": []
  },
  {
   "cell_type": "markdown",
   "metadata": {},
   "source": [
    "## Problem 4.2: Nonparametric statistics\n",
    "\n",
    "### 4.2.1\n",
    "\n",
    "`Y1` and `Y2` represent data from two independently sampled groups. Plot the data below. "
   ]
  },
  {
   "cell_type": "code",
   "execution_count": 20,
   "metadata": {},
   "outputs": [],
   "source": [
    "# Loading the variables\n",
    "with open(os.path.join(\"data\", \"P4-2-Z1_data.npy\"), \"rb\") as f:\n",
    "    Z1 = np.load(f)\n",
    "with open(os.path.join(\"data\", \"P4-2-Z2_data.npy\"), \"rb\") as f:\n",
    "    Z2 = np.load(f)"
   ]
  },
  {
   "cell_type": "code",
   "execution_count": null,
   "metadata": {},
   "outputs": [],
   "source": []
  },
  {
   "cell_type": "markdown",
   "metadata": {},
   "source": [
    "### 4.2.2\n",
    "\n",
    "Demonstrate that these data are not normally distributed."
   ]
  },
  {
   "cell_type": "code",
   "execution_count": null,
   "metadata": {},
   "outputs": [],
   "source": []
  },
  {
   "cell_type": "markdown",
   "metadata": {},
   "source": [
    "### 4.2.3 \n",
    "\n",
    "Use the appropriate test to calculate the statistical significance of the difference between these two groups."
   ]
  },
  {
   "cell_type": "markdown",
   "metadata": {},
   "source": [
    "## Problem 4.3: Bootstrapping\n",
    "\n",
    "Pick one of the pairs of variables above and use `dabest` or `pingouin` to characterize the  effect size distribution using bootstrapping. "
   ]
  },
  {
   "cell_type": "code",
   "execution_count": null,
   "metadata": {},
   "outputs": [],
   "source": []
  }
 ],
 "metadata": {
  "kernelspec": {
   "display_name": "Python 3.10.6 ('py3-qn')",
   "language": "python",
   "name": "python3"
  },
  "language_info": {
   "codemirror_mode": {
    "name": "ipython",
    "version": 3
   },
   "file_extension": ".py",
   "mimetype": "text/x-python",
   "name": "python",
   "nbconvert_exporter": "python",
   "pygments_lexer": "ipython3",
   "version": "3.8.13"
  },
  "orig_nbformat": 4,
  "vscode": {
   "interpreter": {
    "hash": "8427839d926cfa02cf98146f41fa7aa1f3aedf26d017c65310c4e12a8a7b9def"
   }
  }
 },
 "nbformat": 4,
 "nbformat_minor": 2
}
