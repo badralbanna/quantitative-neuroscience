{
 "cells": [
  {
   "cell_type": "markdown",
   "metadata": {},
   "source": [
    "# Homework 4: Hypothesis testing and Power Analysis \n",
    "\n",
    "* Practice basic tests\n",
    "* Compare basic tests to nonparametric\n",
    "* Bootsrapping\n",
    "* Power analysis\n",
    "* ANOVA?"
   ]
  },
  {
   "cell_type": "code",
   "execution_count": null,
   "metadata": {},
   "outputs": [],
   "source": [
    "# Only need to run this cell once to generate data\n",
    "%run \"HW 4 data generator.py\""
   ]
  },
  {
   "cell_type": "code",
   "execution_count": null,
   "metadata": {},
   "outputs": [],
   "source": [
    "# Setting up the notebook \n",
    "import os\n",
    "import numpy as np\n",
    "import pandas as pd\n",
    "import scipy.stats as sps\n",
    "import statsmodels.stats.power as smp\n",
    "import matplotlib as mpl\n",
    "import matplotlib.pyplot as plt"
   ]
  },
  {
   "cell_type": "markdown",
   "metadata": {},
   "source": [
    "## Problem 4.1: sample types and parametric statistics "
   ]
  },
  {
   "cell_type": "markdown",
   "metadata": {},
   "source": [
    "### 4.1.1 \n",
    "\n",
    "For each of the comparisons below describe whether it warrants a _one sample_, _paired sample_, or _two sample_ statistical test. In each case, briefly explain why. \n",
    "\n",
    "1. Comparing the spontaneously nosepoke frequency of a mouse before and after a small electrical shock. \n",
    "2. Comparing whether mRNA expression for a particular gene is non-zero.\n",
    "3. Comparing BOLD contrast in the amygdala  between participants from Philadelphia and Pittsburgh during Steelers games"
   ]
  },
  {
   "cell_type": "markdown",
   "metadata": {},
   "source": []
  },
  {
   "cell_type": "markdown",
   "metadata": {},
   "source": [
    "### 4.1.2\n",
    "\n",
    "Assuming the data below "
   ]
  },
  {
   "cell_type": "markdown",
   "metadata": {},
   "source": []
  },
  {
   "cell_type": "markdown",
   "metadata": {},
   "source": [
    "## Problem 4.2: Nonparametric statistics"
   ]
  },
  {
   "cell_type": "code",
   "execution_count": null,
   "metadata": {},
   "outputs": [],
   "source": []
  },
  {
   "cell_type": "markdown",
   "metadata": {},
   "source": [
    "## Problem 4.3: Bootstrapping"
   ]
  },
  {
   "cell_type": "code",
   "execution_count": null,
   "metadata": {},
   "outputs": [],
   "source": []
  },
  {
   "cell_type": "markdown",
   "metadata": {},
   "source": [
    "## Problem 4.4: Power analysis"
   ]
  },
  {
   "cell_type": "code",
   "execution_count": null,
   "metadata": {},
   "outputs": [],
   "source": []
  }
 ],
 "metadata": {
  "language_info": {
   "name": "python"
  },
  "orig_nbformat": 4
 },
 "nbformat": 4,
 "nbformat_minor": 2
}
