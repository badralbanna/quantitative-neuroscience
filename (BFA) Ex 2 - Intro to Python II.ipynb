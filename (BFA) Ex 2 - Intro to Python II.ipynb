{
 "cells": [
  {
   "cell_type": "markdown",
   "metadata": {},
   "source": [
    "# Exercise 2, Introduction to Python, part 2: variable types, syntax, and logic\n",
    "\n",
    "Last class we got out feet wet. In class today, we'll work thorugh most of the key basics along with introducing our first two packages for data science: `numpy` and `scipy`.\n",
    "\n",
    "We are essentially covering the core of the Python standard Library (this is what you are installing when you \"install python\"). [The doumentaion for all the tools included can be found here](https://docs.python.org/3.8/library/index.html). \n",
    "\n",
    "It's also worth noting that python is very forgiving for a lot of user decisions relating to formatting, naming, etc. but the community has decided on a set of standards documented in [Python Enhabncement Proposal 8 (aka PEP 8)](https://www.python.org/dev/peps/pep-0008/). It's worth taking a read, but there are a few things important conventions worth knowing:\n",
    "\n",
    "1. names should reflect purpose not implimentation\n",
    "2. indents are made with 4 spaces (not 2 spaces, not tabs)\n",
    "3. variables, functions should be named all_lower_case_with_underscores\n",
    "4. class objects should be named in CamelCase\n",
    "5. packages should generally have short onewordlowercase names\n",
    "\n",
    "In general, _any_ programming requires constantly checking the docs associated with the code. I usually keep tabs open to the documentation I need. For quick reference these can be found under `Help` in the menubar. \n",
    "\n",
    "In Jupyter you can also access the documentation for a function directly when you have typed by pressing `Shift-TAB` or opening the `Conetxtual Help` window. "
   ]
  },
  {
   "cell_type": "markdown",
   "metadata": {},
   "source": [
    "## Table of Contents\n",
    "\n",
    "* [2.1 Python variable types](#python_types)\n",
    "    * [Introducing sets](#sets)\n",
    "    * [Introducing formatted strings](#fstrings)\n",
    "    * [+= syntax](#plus-equals)\n",
    "    * [Type Exercises](#type-ex)\n",
    "* [2.2 Function syntax](#functions)\n",
    "* [2.3 Control](#control)\n",
    "    * [`if` problems](#if)\n",
    "    * [`for` loop problems](#for)\n",
    "    * [`while` loop problems](#while)\n",
    "* [2.4 Accessing packages](#packages)\n",
    "    * [e.g. `itertools`](#itertools)\n",
    "* [2.5 Introducing `numpy`](#intro-numpy)\n",
    "    * [Creating 1D `numpy` arrays](#create-arrays)\n",
    "    * [Basic operations with numbers](#numbers)\n",
    "    * [Array properties and dtype](#dtype)\n",
    "    * [Manipulating arrays](#manipulating)\n",
    "    * [Dealing with NaNs](#NaN)\n",
    "    * [Univariate operations with arrays](#univariate-ops)\n",
    "    * [Bivariate operations with arrays](#bivariate-ops) \n",
    "    * [Subtleties: views vs copies](#subtleties)\n",
    "    * [`numpy` exercises](#numpy-exercises) \n",
    "* [2.6 Introducing `scipy`](#intro-scipy)\n",
    "    * [`scipy` exercises](#scipy-exercises)"
   ]
  },
  {
   "cell_type": "markdown",
   "metadata": {},
   "source": [
    "## 2.1 Python variable types <a name=\"python_types\">\n",
    "    \n",
    "Last class, we introduced the fundamental variable types that python uses\n",
    "\n",
    "* Numbers\n",
    "* Strings (and formatted strings)\n",
    "* Lists\n",
    "* Booleans (True / False)\n",
    "* Tuples\n",
    "* Dictionaries\n",
    "\n",
    "Today we will review these and add one more\n",
    "\n",
    "* Sets"
   ]
  },
  {
   "cell_type": "markdown",
   "metadata": {},
   "source": [
    "### 2.1.1 Introducing sets <a name=\"sets\">\n",
    "\n",
    "There is one variable type built into Python that we did not discuss: Sets. Like a list or tuple it is a combination of other variables, but unlike these other types there is\n",
    "\n",
    "1. There is no notion of the order (so no subscripting aka indexing)\n",
    "2. It comes with functions that make sense for sets (intersection, union, etc)\n",
    "    \n",
    "Sets can be created from lists or tuples using the `set(.)` command."
   ]
  },
  {
   "cell_type": "code",
   "execution_count": 2,
   "metadata": {},
   "outputs": [
    {
     "data": {
      "text/plain": [
       "{1, 2, 3, 4, 5, 7, 10}"
      ]
     },
     "execution_count": 2,
     "metadata": {},
     "output_type": "execute_result"
    }
   ],
   "source": [
    "a = [1,1,1,2,3,2,5,7,4,7,7, 10]\n",
    "\n",
    "b = set(a)\n",
    "b"
   ]
  },
  {
   "cell_type": "code",
   "execution_count": 3,
   "metadata": {},
   "outputs": [
    {
     "ename": "TypeError",
     "evalue": "'set' object does not support indexing",
     "output_type": "error",
     "traceback": [
      "\u001b[0;31m---------------------------------------------------------------------------\u001b[0m",
      "\u001b[0;31mTypeError\u001b[0m                                 Traceback (most recent call last)",
      "\u001b[0;32m<ipython-input-3-54af0eb47770>\u001b[0m in \u001b[0;36m<module>\u001b[0;34m()\u001b[0m\n\u001b[0;32m----> 1\u001b[0;31m \u001b[0mb\u001b[0m\u001b[0;34m[\u001b[0m\u001b[0;36m0\u001b[0m\u001b[0;34m]\u001b[0m\u001b[0;34m\u001b[0m\u001b[0m\n\u001b[0m",
      "\u001b[0;31mTypeError\u001b[0m: 'set' object does not support indexing"
     ]
    }
   ],
   "source": [
    "b[0]"
   ]
  },
  {
   "cell_type": "markdown",
   "metadata": {},
   "source": [
    "or you can create them directly using curly brackets `{.}`"
   ]
  },
  {
   "cell_type": "code",
   "execution_count": 4,
   "metadata": {},
   "outputs": [],
   "source": [
    "# EXERCISE\n",
    "\n",
    "c = {3, 6, 7, 9, 10}"
   ]
  },
  {
   "cell_type": "code",
   "execution_count": 10,
   "metadata": {},
   "outputs": [
    {
     "data": {
      "text/plain": [
       "{1, 2, 4, 5}"
      ]
     },
     "execution_count": 10,
     "metadata": {},
     "output_type": "execute_result"
    }
   ],
   "source": [
    "# EXERCISE\n",
    "# What can we do with another set `c`? \n",
    "# Use jupyter's autofill command `TAB` to find out what functions there are. (Type `b.` and then \n",
    "# press `TAB`)\n",
    "\n",
    "b.difference(c)"
   ]
  },
  {
   "cell_type": "code",
   "execution_count": 14,
   "metadata": {},
   "outputs": [],
   "source": [
    "# EXERCISE\n",
    "# Note that many functions have FUNCTION_update version. What is the difference?\n",
    "# Play around and find out. Make sure to check what `b` and `c` equal after you run your function\n",
    "\n",
    "\n",
    "d = b.difference_update(c)"
   ]
  },
  {
   "cell_type": "code",
   "execution_count": 16,
   "metadata": {},
   "outputs": [
    {
     "data": {
      "text/plain": [
       "NoneType"
      ]
     },
     "execution_count": 16,
     "metadata": {},
     "output_type": "execute_result"
    }
   ],
   "source": [
    "type(d)"
   ]
  },
  {
   "cell_type": "code",
   "execution_count": 18,
   "metadata": {},
   "outputs": [],
   "source": [
    "# EXERCISE\n",
    "# Play around with defining and manipulating sets here using autocomplete. \n",
    "\n",
    "\n"
   ]
  },
  {
   "cell_type": "markdown",
   "metadata": {},
   "source": [
    "### 2.1.2 Introducting formatted strings <a name=\"fstring\">\n",
    "\n",
    "Very often, you want to be able to create strings that incorperates information from varaibles (for printing for example). These are called formatted strings and Python provides three ways of creating them.\n",
    "\n",
    "1. % syntax\n",
    "2. STRING.format syntax\n",
    "3. f-string syntax\n",
    "\n",
    "We're going to ignore (1) since this is mostly depreciated this point, and we're going to ignore (2) since (3) is way easier."
   ]
  },
  {
   "cell_type": "markdown",
   "metadata": {},
   "source": [
    "#### f-string syntax\n",
    "\n",
    "Basically, you can insert the string version of variables in a string if you prepend`f` to the string and use `{ }` to surround the variable name. \n",
    "\n",
    "_Read the [python docs of string formatting](https://docs.python.org/3/tutorial/inputoutput.html#formatted-string-literals)_"
   ]
  },
  {
   "cell_type": "code",
   "execution_count": 17,
   "metadata": {},
   "outputs": [
    {
     "data": {
      "text/plain": [
       "'Ayla is 2 years old'"
      ]
     },
     "execution_count": 17,
     "metadata": {},
     "output_type": "execute_result"
    }
   ],
   "source": [
    "age = 2\n",
    "\n",
    "f\"Ayla is {age} years old\""
   ]
  },
  {
   "cell_type": "markdown",
   "metadata": {},
   "source": [
    "You can even do calculations using python code"
   ]
  },
  {
   "cell_type": "code",
   "execution_count": 18,
   "metadata": {},
   "outputs": [
    {
     "data": {
      "text/plain": [
       "'Ayla is 2 years old, but if you ask her she says she is almost 3'"
      ]
     },
     "execution_count": 18,
     "metadata": {},
     "output_type": "execute_result"
    }
   ],
   "source": [
    "f\"Ayla is {age} years old, but if you ask her she says she is almost {age+1}\""
   ]
  },
  {
   "cell_type": "markdown",
   "metadata": {},
   "source": [
    "You can also ask python to format the way variables are included. For example, you can add padding "
   ]
  },
  {
   "cell_type": "code",
   "execution_count": 19,
   "metadata": {},
   "outputs": [
    {
     "data": {
      "text/plain": [
       "'Ayla is          2 years old'"
      ]
     },
     "execution_count": 19,
     "metadata": {},
     "output_type": "execute_result"
    }
   ],
   "source": [
    "f\"Ayla is {age:10} years old\""
   ]
  },
  {
   "cell_type": "markdown",
   "metadata": {},
   "source": [
    "or specify the precision of a number"
   ]
  },
  {
   "cell_type": "code",
   "execution_count": 23,
   "metadata": {},
   "outputs": [
    {
     "name": "stdout",
     "output_type": "stream",
     "text": [
      "A circle's circumference divided by its diameter is around 3.14 \n",
      "\t but much closer to 3.141592653589793116\n"
     ]
    }
   ],
   "source": [
    "from math import pi\n",
    "\n",
    "my_string = f\"A circle's circumference divided by its diameter is around {pi:.3} \\n\\t but much closer to {pi:.20}\"\n",
    "print(my_string)"
   ]
  },
  {
   "cell_type": "markdown",
   "metadata": {},
   "source": [
    "There is a **lot** more you can ask Python to do in how it actually converts the variable to a string.To understand more read on [the format specifier mini-language](https://docs.python.org/3/library/string.html#formatspec). "
   ]
  },
  {
   "cell_type": "markdown",
   "metadata": {},
   "source": [
    "### 2.1.3 += Syntax <a name=\"plus-equals\">\n",
    "\n",
    "Very often, you want to modify a variable using an arithmatic operator (like `+`, `*`) etc. and resave that variable under the same name. You could write "
   ]
  },
  {
   "cell_type": "code",
   "execution_count": 24,
   "metadata": {},
   "outputs": [
    {
     "data": {
      "text/plain": [
       "7"
      ]
     },
     "execution_count": 24,
     "metadata": {},
     "output_type": "execute_result"
    }
   ],
   "source": [
    "a = 5\n",
    "\n",
    "a = a + 2\n",
    "a"
   ]
  },
  {
   "cell_type": "markdown",
   "metadata": {},
   "source": [
    "or you could use the syntax `+=`"
   ]
  },
  {
   "cell_type": "code",
   "execution_count": 55,
   "metadata": {},
   "outputs": [
    {
     "data": {
      "text/plain": [
       "7"
      ]
     },
     "execution_count": 55,
     "metadata": {},
     "output_type": "execute_result"
    }
   ],
   "source": [
    "a = 5\n",
    "\n",
    "a += 2\n",
    "a"
   ]
  },
  {
   "cell_type": "code",
   "execution_count": 28,
   "metadata": {},
   "outputs": [
    {
     "data": {
      "text/plain": [
       "7"
      ]
     },
     "execution_count": 28,
     "metadata": {},
     "output_type": "execute_result"
    }
   ],
   "source": [
    "a = 5\n",
    "\n",
    "# Try seeing what other `?=` operators there are.\n",
    "\n",
    "a += 2\n",
    "a"
   ]
  },
  {
   "cell_type": "markdown",
   "metadata": {},
   "source": [
    "### 2.1.4 Variable type excrcises <a name=\"type-ex\">"
   ]
  },
  {
   "cell_type": "code",
   "execution_count": 31,
   "metadata": {},
   "outputs": [
    {
     "data": {
      "text/plain": [
       "[7, 7, 5, 5, 3, 1, 1]"
      ]
     },
     "execution_count": 31,
     "metadata": {},
     "output_type": "execute_result"
    }
   ],
   "source": [
    "# EXERCISE\n",
    "# Find a list method to sort the list below\n",
    "\n",
    "r = [1, 5, 7, 1, 3, 5, 7]\n",
    "\n",
    "\n",
    "r.sort(reverse=True)\n",
    "r"
   ]
  },
  {
   "cell_type": "code",
   "execution_count": 42,
   "metadata": {},
   "outputs": [
    {
     "name": "stdout",
     "output_type": "stream",
     "text": [
      "jpeg\n",
      "jpeg\n"
     ]
    }
   ],
   "source": [
    "# EXERCISE\n",
    "# find a string method that you can use to extract the file extension from the file name below. \n",
    "\n",
    "file_name = 'numpy.rocks.jpeg'\n",
    "\n",
    "index = file_name.rfind(\".\")\n",
    "extension = file_name[index+1:]\n",
    "print(extension)\n",
    "\n",
    "file_name.split(\".\")\n",
    "extension2 = file_name.split('.')[-1]\n",
    "print(extension2)"
   ]
  },
  {
   "cell_type": "markdown",
   "metadata": {},
   "source": [
    "## 2.2 Function syntax <a name=\"function\">"
   ]
  },
  {
   "cell_type": "code",
   "execution_count": 48,
   "metadata": {},
   "outputs": [
    {
     "ename": "NameError",
     "evalue": "name 'default1' is not defined",
     "output_type": "error",
     "traceback": [
      "\u001b[0;31m---------------------------------------------------------------------------\u001b[0m",
      "\u001b[0;31mNameError\u001b[0m                                 Traceback (most recent call last)",
      "\u001b[0;32m<ipython-input-48-d58bc525e2d9>\u001b[0m in \u001b[0;36m<module>\u001b[0;34m()\u001b[0m\n\u001b[0;32m----> 1\u001b[0;31m \u001b[0;32mdef\u001b[0m \u001b[0mfunction_name\u001b[0m\u001b[0;34m(\u001b[0m\u001b[0marg1\u001b[0m\u001b[0;34m,\u001b[0m \u001b[0marg2\u001b[0m\u001b[0;34m,\u001b[0m \u001b[0mkeyword1\u001b[0m\u001b[0;34m=\u001b[0m\u001b[0mdefault1\u001b[0m\u001b[0;34m,\u001b[0m \u001b[0mkeyword2\u001b[0m\u001b[0;34m=\u001b[0m\u001b[0mdefault2\u001b[0m\u001b[0;34m)\u001b[0m\u001b[0;34m:\u001b[0m\u001b[0;34m\u001b[0m\u001b[0m\n\u001b[0m\u001b[1;32m      2\u001b[0m     \u001b[0;32mreturn\u001b[0m \u001b[0moutput\u001b[0m\u001b[0;34m\u001b[0m\u001b[0m\n",
      "\u001b[0;31mNameError\u001b[0m: name 'default1' is not defined"
     ]
    }
   ],
   "source": [
    "def function_name(arg1, arg2, keyword1=default1, keyword2=default2):\n",
    "    return output "
   ]
  },
  {
   "cell_type": "code",
   "execution_count": 49,
   "metadata": {},
   "outputs": [
    {
     "ename": "NameError",
     "evalue": "name 'default' is not defined",
     "output_type": "error",
     "traceback": [
      "\u001b[0;31m---------------------------------------------------------------------------\u001b[0m",
      "\u001b[0;31mNameError\u001b[0m                                 Traceback (most recent call last)",
      "\u001b[0;32m<ipython-input-49-643b9f094a66>\u001b[0m in \u001b[0;36m<module>\u001b[0;34m()\u001b[0m\n\u001b[0;32m----> 1\u001b[0;31m \u001b[0;32mdef\u001b[0m \u001b[0mfunction_name\u001b[0m\u001b[0;34m(\u001b[0m\u001b[0;34m*\u001b[0m\u001b[0margs\u001b[0m\u001b[0;34m,\u001b[0m \u001b[0mkeyword1\u001b[0m\u001b[0;34m=\u001b[0m\u001b[0mdefault\u001b[0m\u001b[0;34m,\u001b[0m \u001b[0;34m**\u001b[0m\u001b[0mkwargs\u001b[0m\u001b[0;34m)\u001b[0m\u001b[0;34m:\u001b[0m\u001b[0;34m\u001b[0m\u001b[0m\n\u001b[0m\u001b[1;32m      2\u001b[0m     \u001b[0;31m# args is a tulple\u001b[0m\u001b[0;34m\u001b[0m\u001b[0;34m\u001b[0m\u001b[0m\n\u001b[1;32m      3\u001b[0m     \u001b[0;31m# kwargs is a dictionary of key value pairs\u001b[0m\u001b[0;34m\u001b[0m\u001b[0;34m\u001b[0m\u001b[0m\n\u001b[1;32m      4\u001b[0m     \u001b[0;32mreturn\u001b[0m \u001b[0moutput\u001b[0m\u001b[0;34m\u001b[0m\u001b[0m\n",
      "\u001b[0;31mNameError\u001b[0m: name 'default' is not defined"
     ]
    }
   ],
   "source": [
    "def function_name(*args, keyword1=default, **kwargs):\n",
    "    # args is a tulple \n",
    "    # kwargs is a dictionary of key value pairs\n",
    "    return output"
   ]
  },
  {
   "cell_type": "code",
   "execution_count": 43,
   "metadata": {},
   "outputs": [],
   "source": [
    "def counting_args(*args):\n",
    "    return len(args)"
   ]
  },
  {
   "cell_type": "code",
   "execution_count": 46,
   "metadata": {},
   "outputs": [
    {
     "data": {
      "text/plain": [
       "1"
      ]
     },
     "execution_count": 46,
     "metadata": {},
     "output_type": "execute_result"
    }
   ],
   "source": [
    "counting_args(2)"
   ]
  },
  {
   "cell_type": "markdown",
   "metadata": {},
   "source": [
    "## 2.3 Control <a name=\"control\">"
   ]
  },
  {
   "cell_type": "markdown",
   "metadata": {},
   "source": [
    "### 2.3.1 `if` exercises <a name=\"if\">"
   ]
  },
  {
   "cell_type": "code",
   "execution_count": 58,
   "metadata": {},
   "outputs": [
    {
     "data": {
      "text/plain": [
       "True"
      ]
     },
     "execution_count": 58,
     "metadata": {},
     "output_type": "execute_result"
    }
   ],
   "source": [
    "# PROBLEM\n",
    "# Write a script below that prints \"even\" if `a` is even and \"odd\" if it is odd. \n",
    "# Hint: use the modulo operator %\n",
    "# next wrap this in a function called check_parity\n",
    "\n",
    "def check_parity(num, returnbool=False):\n",
    "    # checking the parity \n",
    "    parity = num%2 \n",
    "\n",
    "    # returning the parity to the user\n",
    "    if (parity==0):\n",
    "        if returnbool:\n",
    "            return(True)\n",
    "        else:\n",
    "            return('even')\n",
    "    elif (parity='cat'):\n",
    "        print('huh?')\n",
    "    else: # parity = 1\n",
    "        if returnbool:\n",
    "            return(False)\n",
    "        else:\n",
    "            return('odd')\n",
    "\n",
    "num=6\n",
    "check_parity(num, returnbool=True)"
   ]
  },
  {
   "cell_type": "code",
   "execution_count": 60,
   "metadata": {},
   "outputs": [
    {
     "name": "stdout",
     "output_type": "stream",
     "text": [
      "Mean is 4.67\n"
     ]
    }
   ],
   "source": [
    "# PROBLEM\n",
    "# Write a Python program to print the mean, median, and mode of three given numbers, `a`, `b`, `c`. \n",
    "# Have it print the output nicely using f-strings. \n",
    "# next wrap this in a function called stat, include a keyword argument to pick which stat (mean, median, and mode) you want.\n",
    "\n",
    "a = 3\n",
    "b = 7\n",
    "c = 4\n",
    "\n",
    "mean = (a + b + c) / 3. \n",
    "print(f\"Mean is {mean:.3}\")\n",
    "\n",
    "if a == b:\n",
    "    median = a\n",
    "    mode = a\n",
    "elif b == c:\n",
    "    median = b\n",
    "    mode = b\n",
    "elif (a<b):\n",
    "    if c??????\n",
    "    ....\n",
    "    \n"
   ]
  },
  {
   "cell_type": "markdown",
   "metadata": {},
   "source": [
    "### 2.3.2 `for` loop exercises <a name=\"for\">"
   ]
  },
  {
   "cell_type": "code",
   "execution_count": null,
   "metadata": {},
   "outputs": [],
   "source": [
    "# EXERCISE \n",
    "# Write a Python program to print each element of the list and how often it appears\n",
    "# Hint: lists have methods of counting counting the number of items. Think about how sets might help you here.  \n",
    "\n",
    "r = [1, 5, 7, 1, 3, 5, 7]\n",
    "\n",
    "\n",
    "for i in set(r):\n",
    "    ...\n",
    "\n",
    "\n"
   ]
  },
  {
   "cell_type": "code",
   "execution_count": 63,
   "metadata": {},
   "outputs": [
    {
     "name": "stdout",
     "output_type": "stream",
     "text": [
      "0 Amar\n",
      "1 Terra\n",
      "2 Nick\n",
      "0 Amar\n",
      "1 Terra\n",
      "2 Nick\n"
     ]
    }
   ],
   "source": [
    "# for pairs of objects use zip to iterate over both \n",
    "\n",
    "a = range(0, 3)\n",
    "b = ['Amar', 'Terra', 'Nick']\n",
    "\n",
    "for num, name in zip(a, b):\n",
    "    print(num, name)\n",
    "    \n",
    "for num, name in enumerate(b):\n",
    "    print(num, name)"
   ]
  },
  {
   "cell_type": "code",
   "execution_count": 45,
   "metadata": {},
   "outputs": [],
   "source": [
    "# EXERCISE \n",
    "# Use list comprehension syntax to construct a list that squares each element of the list `nums` below\n",
    "\n",
    "nums = [-2.4, 1.2, 5.7, -5, 4.3]\n",
    "\n",
    "\n"
   ]
  },
  {
   "cell_type": "code",
   "execution_count": 68,
   "metadata": {},
   "outputs": [
    {
     "data": {
      "text/plain": [
       "[1.44, 32.49, 18.49]"
      ]
     },
     "execution_count": 68,
     "metadata": {},
     "output_type": "execute_result"
    }
   ],
   "source": [
    "# EXERCISE \n",
    "# Use list comprehension syntax with if to construct a list that squares each positive element of the list `nums` below\n",
    "# and ignores all negative items\n",
    "\n",
    "nums = [-2.4, 1.2, 5.7, -5, 4.3]\n",
    "\n",
    "num_squares = [i**2 for i in nums]\n",
    "num_squares\n",
    "\n",
    "num_squares_pos = [i**2 for i in nums if i > 0]\n",
    "num_squares_pos"
   ]
  },
  {
   "cell_type": "code",
   "execution_count": null,
   "metadata": {},
   "outputs": [],
   "source": [
    "# PROBLEM \n",
    "# Write a Python program to print the mean, median, and mode of a list `nums` of arbitrary length.\n",
    "# Have it print the output nicely using f-strings. \n",
    "\n",
    "nums = [1, 1, 3, 5.7, 7, 8.3, 4.6, 5] \n",
    "\n",
    "\n",
    "\n",
    "\n"
   ]
  },
  {
   "cell_type": "markdown",
   "metadata": {},
   "source": [
    "### 2.3.3 `while` loop exerscises <a name=\"while\">"
   ]
  },
  {
   "cell_type": "code",
   "execution_count": null,
   "metadata": {},
   "outputs": [],
   "source": [
    "# PROBLEM \n",
    "# Write a while loop that spits out Fibonacci sequence up until 100. \n",
    "\n",
    "1, 1, 2, 3, 5, ...\n",
    "    \n",
    "\n",
    "\n",
    "\n"
   ]
  },
  {
   "cell_type": "markdown",
   "metadata": {},
   "source": [
    "## 2.4 Accessing packages <a name=\"packages\">\n",
    "\n",
    "You can acess packages using \n",
    "* `import...`: to import a package under its original name \n",
    "* `import...as...`: to importpackage under a new name\n",
    "* `from...import...`: to import particular functions from a package into your namespace without importing the whole package. \n",
    "\n",
    "Technically, there is one more way but the Python community will be very, very angry with you if you do this (and you **don't** want to see the Python community get angry).\n",
    "\n",
    "* `from...import *` to import all functions from a package into your namespace.\n",
    "    \n",
    "The Python distribution comes with a lot of submoidules. To get used to accessing packages and looking things up we'll play with two."
   ]
  },
  {
   "cell_type": "markdown",
   "metadata": {},
   "source": [
    "## 2.4.1 e.g. itertools <a name=\"itertools\">\n",
    "\n",
    "This is a package for common tasks one enounters when they want to iterate over a collection of objects. "
   ]
  },
  {
   "cell_type": "code",
   "execution_count": 37,
   "metadata": {},
   "outputs": [],
   "source": [
    "# EXERCISE \n",
    "# Find a function in the itertools package that allows you to iterate over every combination of one element in `A` and one in `B` \n",
    "# (e.g. (1, 'y')). Import it and use list comprehension to construct a list of all combinations.\n",
    "\n",
    "A = [1, 2, 3]\n",
    "B = ['x', 'y', 'z']\n",
    "\n",
    "\n",
    "from itertools import function_name \n",
    "\n",
    "function_name()\n",
    "\n",
    "import itertools as it\n",
    "\n",
    "it.function_name()\n",
    "\n",
    "...\n"
   ]
  },
  {
   "cell_type": "markdown",
   "metadata": {},
   "source": [
    "## 2.5 Introduction to `numpy` <a name=\"intro-numpy\">\n",
    "    \n",
    "`numpy` is the heart of using python for fast, efficient data processing. Python has many advantages, but it was not optimized for data manipulation - instead it was optimized for ease of use and flexiblity. Specifically, the way that python stores sets is not efficient for computations. Each element of a list is really a \"pointer\" to a memeory location that contains the object in question. These locations could be all over the place so as you can imagine if you need to conduct operations that require manipulating many elements at the same time this will be very slow as the program must constantly search all over memory to complete the task. \n",
    "    \n",
    "`numpy` introduces the notion of an `array` which stores elements sequentially in memory for fast processing. These arrays are typically numbers but they can contain any other type of python object and even custom types (see [dtype section](#dtype)). Furthermore, these arrays can be _multidimensional_ (e.g. 2D like a matrix, 3D etc.) \n",
    "    \n",
    "In addition to `arrays` numpy comes with efficient versions of many basic mathematical expressions (i.e. `np.cos`, `np.exp`, etc.) and constants (`np.pi` and `np.e`)\n",
    "    \n",
    "    \n",
    "Much of what is below comes from existing websites\n",
    "* [Numpy Beginners Tutorial](https://numpy.org/doc/stable/user/absolute_beginners.html)\n",
    "* [Numpy Tutorial on Linear Algebra](https://numpy.org/doc/stable/user/tutorial-svd.html)\n",
    "    \n",
    "If you are familiar with MatLab you may want to look at [NumPy for MatLab users](https://numpy.org/doc/stable/user/numpy-for-matlab-users.html).\n",
    "    \n",
    "Typically when numpy is imported it is renamed `np` so that you aren't stuck typing `numpy` every time you want to do anything."
   ]
  },
  {
   "cell_type": "code",
   "execution_count": 70,
   "metadata": {},
   "outputs": [],
   "source": [
    "# Let's go!\n",
    "\n",
    "import numpy as np"
   ]
  },
  {
   "cell_type": "markdown",
   "metadata": {},
   "source": [
    "### 2.5.1 Creating `numpy` arrays <a name=\"create-arrays\">\n",
    "    \n",
    "There are many ways to create numpy arrays:\n",
    "* `np.array(.)` \n",
    "* `np.zeros(.)` \n",
    "* `np.ones(.)`\n",
    "* `np.full(.)`\n",
    "* `np.empty(.)` \n",
    "* `np.arange(.)`\n",
    "* `np.linspace(.)`\n",
    "    \n",
    "`np.array(.)` converts another list object to an array"
   ]
  },
  {
   "cell_type": "code",
   "execution_count": 71,
   "metadata": {},
   "outputs": [
    {
     "data": {
      "text/plain": [
       "array([1, 2, 3, 4, 5, 6])"
      ]
     },
     "execution_count": 71,
     "metadata": {},
     "output_type": "execute_result"
    }
   ],
   "source": [
    "# Creating an array from a list\n",
    "\n",
    "a = np.array([1, 2, 3, 4, 5, 6])\n",
    "a"
   ]
  },
  {
   "cell_type": "code",
   "execution_count": 72,
   "metadata": {},
   "outputs": [
    {
     "name": "stdout",
     "output_type": "stream",
     "text": [
      "[1 2 3 4]\n",
      "6\n"
     ]
    }
   ],
   "source": [
    "# They can be indexed just like lists\n",
    "\n",
    "print(a[0:4])\n",
    "print(a[-1])"
   ]
  },
  {
   "cell_type": "markdown",
   "metadata": {},
   "source": [
    "They can also be indexed in really useful ways that lists can't. For example, if you wanted to spit out the 1st, 3rd, and 4th elements of a list you might try"
   ]
  },
  {
   "cell_type": "code",
   "execution_count": 73,
   "metadata": {},
   "outputs": [
    {
     "ename": "TypeError",
     "evalue": "list indices must be integers or slices, not list",
     "output_type": "error",
     "traceback": [
      "\u001b[0;31m---------------------------------------------------------------------------\u001b[0m",
      "\u001b[0;31mTypeError\u001b[0m                                 Traceback (most recent call last)",
      "\u001b[0;32m<ipython-input-73-7da5ff6125b4>\u001b[0m in \u001b[0;36m<module>\u001b[0;34m()\u001b[0m\n\u001b[1;32m      2\u001b[0m \u001b[0;34m\u001b[0m\u001b[0m\n\u001b[1;32m      3\u001b[0m \u001b[0ma\u001b[0m \u001b[0;34m=\u001b[0m \u001b[0;34m[\u001b[0m\u001b[0;36m10\u001b[0m\u001b[0;34m,\u001b[0m\u001b[0;36m20\u001b[0m\u001b[0;34m,\u001b[0m\u001b[0;36m30\u001b[0m\u001b[0;34m,\u001b[0m\u001b[0;36m40\u001b[0m\u001b[0;34m,\u001b[0m\u001b[0;36m50\u001b[0m\u001b[0;34m]\u001b[0m\u001b[0;34m\u001b[0m\u001b[0m\n\u001b[0;32m----> 4\u001b[0;31m \u001b[0ma\u001b[0m\u001b[0;34m[\u001b[0m\u001b[0;34m[\u001b[0m\u001b[0;36m1\u001b[0m\u001b[0;34m,\u001b[0m\u001b[0;36m3\u001b[0m\u001b[0;34m,\u001b[0m\u001b[0;36m4\u001b[0m\u001b[0;34m]\u001b[0m\u001b[0;34m]\u001b[0m\u001b[0;34m\u001b[0m\u001b[0m\n\u001b[0m",
      "\u001b[0;31mTypeError\u001b[0m: list indices must be integers or slices, not list"
     ]
    }
   ],
   "source": [
    "# Oops\n",
    "\n",
    "a = [10,20,30,40,50]\n",
    "a[[1,3,4]]"
   ]
  },
  {
   "cell_type": "code",
   "execution_count": 74,
   "metadata": {},
   "outputs": [
    {
     "data": {
      "text/plain": [
       "array([20, 40, 50])"
      ]
     },
     "execution_count": 74,
     "metadata": {},
     "output_type": "execute_result"
    }
   ],
   "source": [
    "# But if you make `a` an array....\n",
    "\n",
    "a = np.array([10,20,30,40,50])\n",
    "a[[1,3,4]]"
   ]
  },
  {
   "cell_type": "markdown",
   "metadata": {},
   "source": [
    "The `==` operator also acts _on each element_ of the array **and** the array subscripting allows a Boolean list of equal length to be used. Putting these two facts together you can subselect elements of the array using conditions. "
   ]
  },
  {
   "cell_type": "code",
   "execution_count": 78,
   "metadata": {},
   "outputs": [
    {
     "name": "stdout",
     "output_type": "stream",
     "text": [
      "[ True False False False False]\n",
      "[10]\n"
     ]
    },
    {
     "data": {
      "text/plain": [
       "array([10])"
      ]
     },
     "execution_count": 78,
     "metadata": {},
     "output_type": "execute_result"
    }
   ],
   "source": [
    "print(a==10)\n",
    "print(a[a==10])\n",
    "\n",
    "ind = (a==10)\n",
    "a[ind]"
   ]
  },
  {
   "cell_type": "markdown",
   "metadata": {},
   "source": [
    "If you want to know is _any_ elements of the array or _all_ elements of the array meet a critera use the `.any()` or `.all()` methods. "
   ]
  },
  {
   "cell_type": "code",
   "execution_count": 7,
   "metadata": {},
   "outputs": [
    {
     "name": "stdout",
     "output_type": "stream",
     "text": [
      "True\n",
      "False\n"
     ]
    }
   ],
   "source": [
    "print((a > 20).any())\n",
    "print((a > 20).all())"
   ]
  },
  {
   "cell_type": "code",
   "execution_count": 82,
   "metadata": {},
   "outputs": [
    {
     "data": {
      "text/plain": [
       "array([[ 1,  2,  3],\n",
       "       [10, 12, 13]])"
      ]
     },
     "execution_count": 82,
     "metadata": {},
     "output_type": "execute_result"
    }
   ],
   "source": [
    "# You can use a list of lists to create a multidimensional array\n",
    "# NOTE: each of the sub-lists MUST be the same length.\n",
    "\n",
    "a = np.array([[1, 2, 3], [10, 12, 13]])\n",
    "a"
   ]
  },
  {
   "cell_type": "code",
   "execution_count": 84,
   "metadata": {},
   "outputs": [
    {
     "name": "stdout",
     "output_type": "stream",
     "text": [
      "2\n",
      "[10 12 13]\n",
      "[ 3 13]\n"
     ]
    }
   ],
   "source": [
    "# Indexing uses two coordinates ARRAY[ROW, COL]\n",
    "# can also ask numpy to spit out an entire row or column using `:`\n",
    "\n",
    "print(a[0,1])\n",
    "print(a[1,:])\n",
    "print(a[:,2])"
   ]
  },
  {
   "cell_type": "markdown",
   "metadata": {},
   "source": [
    "`np.ones(.)`, `np.zeros(.)`, `np.empty(.)` take a number or a tuple to create an element "
   ]
  },
  {
   "cell_type": "code",
   "execution_count": 10,
   "metadata": {},
   "outputs": [
    {
     "data": {
      "text/plain": [
       "array([1., 1., 1., 1., 1., 1.])"
      ]
     },
     "execution_count": 10,
     "metadata": {},
     "output_type": "execute_result"
    }
   ],
   "source": [
    "# ones and zeros do exactly what you might expect\n",
    "np.ones(6)"
   ]
  },
  {
   "cell_type": "code",
   "execution_count": 11,
   "metadata": {},
   "outputs": [
    {
     "data": {
      "text/plain": [
       "array([[1., 1.],\n",
       "       [1., 1.],\n",
       "       [1., 1.]])"
      ]
     },
     "execution_count": 11,
     "metadata": {},
     "output_type": "execute_result"
    }
   ],
   "source": [
    "np.ones((3,2))"
   ]
  },
  {
   "cell_type": "markdown",
   "metadata": {},
   "source": [
    "`np.empty(.)` is a bit more subtle. Use this command if you know you'll be replacing the elements. It just crates an array without clearning memory so the numbers a garbage. It's faster than the other operations. "
   ]
  },
  {
   "cell_type": "code",
   "execution_count": 12,
   "metadata": {},
   "outputs": [
    {
     "data": {
      "text/plain": [
       "array([ 1.72723371e-077, -2.00389702e+000,  2.47032823e-323,\n",
       "        0.00000000e+000,  0.00000000e+000,  0.00000000e+000,\n",
       "        1.72723371e-077, -1.73059924e-077,  1.21518768e-046,\n",
       "        7.64704033e-309])"
      ]
     },
     "execution_count": 12,
     "metadata": {},
     "output_type": "execute_result"
    }
   ],
   "source": [
    "np.empty(10)"
   ]
  },
  {
   "cell_type": "markdown",
   "metadata": {},
   "source": [
    "`np.full(., .)` creates arrays filled with a specific values. "
   ]
  },
  {
   "cell_type": "code",
   "execution_count": 13,
   "metadata": {},
   "outputs": [
    {
     "data": {
      "text/plain": [
       "array([3.14, 3.14, 3.14, 3.14, 3.14, 3.14, 3.14, 3.14, 3.14, 3.14])"
      ]
     },
     "execution_count": 13,
     "metadata": {},
     "output_type": "execute_result"
    }
   ],
   "source": [
    "np.full(10, 3.14)"
   ]
  },
  {
   "cell_type": "code",
   "execution_count": 87,
   "metadata": {},
   "outputs": [
    {
     "data": {
      "text/plain": [
       "array([[[10., 10.],\n",
       "        [10., 10.],\n",
       "        [10., 10.]],\n",
       "\n",
       "       [[10., 10.],\n",
       "        [10., 10.],\n",
       "        [10., 10.]],\n",
       "\n",
       "       [[10., 10.],\n",
       "        [10., 10.],\n",
       "        [10., 10.]],\n",
       "\n",
       "       [[10., 10.],\n",
       "        [10., 10.],\n",
       "        [10., 10.]],\n",
       "\n",
       "       [[10., 10.],\n",
       "        [10., 10.],\n",
       "        [10., 10.]],\n",
       "\n",
       "       [[10., 10.],\n",
       "        [10., 10.],\n",
       "        [10., 10.]],\n",
       "\n",
       "       [[10., 10.],\n",
       "        [10., 10.],\n",
       "        [10., 10.]],\n",
       "\n",
       "       [[10., 10.],\n",
       "        [10., 10.],\n",
       "        [10., 10.]],\n",
       "\n",
       "       [[10., 10.],\n",
       "        [10., 10.],\n",
       "        [10., 10.]],\n",
       "\n",
       "       [[10., 10.],\n",
       "        [10., 10.],\n",
       "        [10., 10.]]])"
      ]
     },
     "execution_count": 87,
     "metadata": {},
     "output_type": "execute_result"
    }
   ],
   "source": [
    "# All of these functions have a function_like version. Use jupyter's `Shift+TAB` or `Contextual Help` fratures to figure out what they do. \n",
    "\n",
    "a = np.ones((10, 3, 2))\n",
    "np.full_like(a, 10)"
   ]
  },
  {
   "cell_type": "markdown",
   "metadata": {},
   "source": [
    "You can also generate sequential numbers one of two ways: `np.arange(.)`, `np.linspace(.)`. `np.arange(.)` works just like range but it creates a numpy array. Just like range the initial number is inlcuded but final number is not. "
   ]
  },
  {
   "cell_type": "code",
   "execution_count": 90,
   "metadata": {},
   "outputs": [
    {
     "data": {
      "text/plain": [
       "array([ 1,  2,  3,  4,  5,  6,  7,  8,  9, 10, 11, 12, 13, 14])"
      ]
     },
     "execution_count": 90,
     "metadata": {},
     "output_type": "execute_result"
    }
   ],
   "source": [
    "# np.arange(START, STOP, STEP)\n",
    "\n",
    "np.arange(1,15,1)"
   ]
  },
  {
   "cell_type": "code",
   "execution_count": 16,
   "metadata": {},
   "outputs": [
    {
     "data": {
      "text/plain": [
       "array([ 1,  3,  5,  7,  9, 11, 13])"
      ]
     },
     "execution_count": 16,
     "metadata": {},
     "output_type": "execute_result"
    }
   ],
   "source": [
    "np.arange(1,15,2)"
   ]
  },
  {
   "cell_type": "markdown",
   "metadata": {},
   "source": [
    "`np.linspace(START, END, LENGTH)` is similar but you specify how long you'd like the array to be with the third argument. Also note that the linspace command creates an array that **includes** the initial and final values. "
   ]
  },
  {
   "cell_type": "code",
   "execution_count": 17,
   "metadata": {},
   "outputs": [
    {
     "data": {
      "text/plain": [
       "array([ 1.        ,  1.14141414,  1.28282828,  1.42424242,  1.56565657,\n",
       "        1.70707071,  1.84848485,  1.98989899,  2.13131313,  2.27272727,\n",
       "        2.41414141,  2.55555556,  2.6969697 ,  2.83838384,  2.97979798,\n",
       "        3.12121212,  3.26262626,  3.4040404 ,  3.54545455,  3.68686869,\n",
       "        3.82828283,  3.96969697,  4.11111111,  4.25252525,  4.39393939,\n",
       "        4.53535354,  4.67676768,  4.81818182,  4.95959596,  5.1010101 ,\n",
       "        5.24242424,  5.38383838,  5.52525253,  5.66666667,  5.80808081,\n",
       "        5.94949495,  6.09090909,  6.23232323,  6.37373737,  6.51515152,\n",
       "        6.65656566,  6.7979798 ,  6.93939394,  7.08080808,  7.22222222,\n",
       "        7.36363636,  7.50505051,  7.64646465,  7.78787879,  7.92929293,\n",
       "        8.07070707,  8.21212121,  8.35353535,  8.49494949,  8.63636364,\n",
       "        8.77777778,  8.91919192,  9.06060606,  9.2020202 ,  9.34343434,\n",
       "        9.48484848,  9.62626263,  9.76767677,  9.90909091, 10.05050505,\n",
       "       10.19191919, 10.33333333, 10.47474747, 10.61616162, 10.75757576,\n",
       "       10.8989899 , 11.04040404, 11.18181818, 11.32323232, 11.46464646,\n",
       "       11.60606061, 11.74747475, 11.88888889, 12.03030303, 12.17171717,\n",
       "       12.31313131, 12.45454545, 12.5959596 , 12.73737374, 12.87878788,\n",
       "       13.02020202, 13.16161616, 13.3030303 , 13.44444444, 13.58585859,\n",
       "       13.72727273, 13.86868687, 14.01010101, 14.15151515, 14.29292929,\n",
       "       14.43434343, 14.57575758, 14.71717172, 14.85858586, 15.        ])"
      ]
     },
     "execution_count": 17,
     "metadata": {},
     "output_type": "execute_result"
    }
   ],
   "source": [
    "np.linspace(1, 15, 100)"
   ]
  },
  {
   "cell_type": "markdown",
   "metadata": {},
   "source": [
    "`numpy`'s random subpackage also includes ways of creating arrays with random values. \n",
    "\n",
    "* `np.random.rand(SHAPE)`: create an array of numbers randomly drawn from the uniform distribution between 0 and 1\n",
    "* `np.radom.normal(MEAN, STD, SIZE)`: create an array of numbers ranomdly drawn from the normal distribution with mean = MEAN and standard deviation = STD"
   ]
  },
  {
   "cell_type": "code",
   "execution_count": 19,
   "metadata": {},
   "outputs": [
    {
     "data": {
      "text/plain": [
       "array([0.16107924, 0.46138581, 0.84169722, 0.74788522, 0.33576545,\n",
       "       0.67227811, 0.3438143 , 0.28527916, 0.21011425, 0.62332055])"
      ]
     },
     "execution_count": 19,
     "metadata": {},
     "output_type": "execute_result"
    }
   ],
   "source": [
    "np.random.rand(10)"
   ]
  },
  {
   "cell_type": "code",
   "execution_count": 3,
   "metadata": {},
   "outputs": [
    {
     "data": {
      "text/plain": [
       "array([ 1.49555856,  0.05535424,  0.80209243,  1.86000699,  1.5123017 ,\n",
       "        0.78244057,  1.4744679 , -1.22436699,  1.49711188,  0.58870249])"
      ]
     },
     "execution_count": 3,
     "metadata": {},
     "output_type": "execute_result"
    }
   ],
   "source": [
    "np.random.normal(1, 1, 10)"
   ]
  },
  {
   "cell_type": "code",
   "execution_count": 18,
   "metadata": {},
   "outputs": [],
   "source": [
    "# EXERCISE\n",
    "# Create some arrays and use the Boolean subscripting (e.g. a[a >20]) to select elements of the array. \n",
    "\n",
    "\n",
    "\n",
    "\n"
   ]
  },
  {
   "cell_type": "markdown",
   "metadata": {},
   "source": [
    "### 2.5.2 Basic operations with numbers <a name=\"numbers\">\n",
    "    \n",
    "You can do standard arithmatic with numbers and arrays (`+`, `*`, etc.). This applies the operation pointwise across each element of the array "
   ]
  },
  {
   "cell_type": "code",
   "execution_count": 20,
   "metadata": {},
   "outputs": [
    {
     "data": {
      "text/plain": [
       "array([10, 20, 30, 40, 50, 60, 70, 80, 90])"
      ]
     },
     "execution_count": 20,
     "metadata": {},
     "output_type": "execute_result"
    }
   ],
   "source": [
    "10*np.arange(1,10)"
   ]
  },
  {
   "cell_type": "code",
   "execution_count": 10,
   "metadata": {},
   "outputs": [
    {
     "data": {
      "text/plain": [
       "array([11, 21, 31, 41, 51, 61, 71, 81, 91])"
      ]
     },
     "execution_count": 10,
     "metadata": {},
     "output_type": "execute_result"
    }
   ],
   "source": [
    "10*np.arange(1,10) + 1"
   ]
  },
  {
   "cell_type": "markdown",
   "metadata": {},
   "source": [
    "You can apply any function you want across an array. "
   ]
  },
  {
   "cell_type": "code",
   "execution_count": 82,
   "metadata": {},
   "outputs": [
    {
     "data": {
      "text/plain": [
       "array([   1,    4,    9,   16,   25,   36,   49,   64,   81,  100,  121,\n",
       "        144,  169,  196,  225,  256,  289,  324,  361,  400,  441,  484,\n",
       "        529,  576,  625,  676,  729,  784,  841,  900,  961, 1024, 1089,\n",
       "       1156, 1225, 1296, 1369, 1444, 1521, 1600, 1681, 1764, 1849, 1936,\n",
       "       2025, 2116, 2209, 2304, 2401, 2500, 2601, 2704, 2809, 2916, 3025,\n",
       "       3136, 3249, 3364, 3481, 3600, 3721, 3844, 3969, 4096, 4225, 4356,\n",
       "       4489, 4624, 4761, 4900, 5041, 5184, 5329, 5476, 5625, 5776, 5929,\n",
       "       6084, 6241, 6400, 6561, 6724, 6889, 7056, 7225, 7396, 7569, 7744,\n",
       "       7921, 8100, 8281, 8464, 8649, 8836, 9025, 9216, 9409, 9604, 9801])"
      ]
     },
     "execution_count": 82,
     "metadata": {},
     "output_type": "execute_result"
    }
   ],
   "source": [
    "def squareer(x):\n",
    "    return x**2\n",
    "\n",
    "a = np.arange(1,100)\n",
    "squareer(a)"
   ]
  },
  {
   "cell_type": "markdown",
   "metadata": {},
   "source": [
    "### 2.5.3 Array properties and dtype <a name=\"dtype\">"
   ]
  },
  {
   "cell_type": "markdown",
   "metadata": {},
   "source": [
    "To find the shape and number of dimensions of an array you can use the `ARRAY.shape` and `ARRAY.ndim` variables. "
   ]
  },
  {
   "cell_type": "code",
   "execution_count": 90,
   "metadata": {},
   "outputs": [
    {
     "name": "stdout",
     "output_type": "stream",
     "text": [
      "(10, 5)\n",
      "2\n"
     ]
    }
   ],
   "source": [
    "a = np.empty((10,5))\n",
    "\n",
    "print(a.shape)\n",
    "print(a.ndim)"
   ]
  },
  {
   "cell_type": "markdown",
   "metadata": {},
   "source": [
    "In order to store arrays efficiently, numpy needs to know something about what type of data is in an array. This is called the array's `dtype`. To access an array's dtype use the `ARRAY.dtype` variable. "
   ]
  },
  {
   "cell_type": "code",
   "execution_count": 110,
   "metadata": {},
   "outputs": [
    {
     "data": {
      "text/plain": [
       "dtype('int64')"
      ]
     },
     "execution_count": 110,
     "metadata": {},
     "output_type": "execute_result"
    }
   ],
   "source": [
    "a.dtype"
   ]
  },
  {
   "cell_type": "code",
   "execution_count": 92,
   "metadata": {},
   "outputs": [
    {
     "data": {
      "text/plain": [
       "array(['hi', 'there'], dtype='<U5')"
      ]
     },
     "execution_count": 92,
     "metadata": {},
     "output_type": "execute_result"
    }
   ],
   "source": [
    "# EXERCISE\n",
    "# Try to interpret the number in the dtype for the array below\n",
    "\n",
    "np.array(['hi', 'there'])"
   ]
  },
  {
   "cell_type": "markdown",
   "metadata": {},
   "source": [
    "### 2.5.4 Maniplulating arrays <a name=\"manipulating\">\n",
    "    \n",
    "Numpy provides **a lot** of ways to manipulate arrays. [Check out the API reference here.](https://numpy.org/devdocs/reference/routines.array-manipulation.html) Here we will only look at a few key ones\n",
    "    \n",
    "* `ARRAY.reshape(a, newshape)`, `ARRAY.flatten(.)`, `np.transpose(a)`\n",
    "* `np.concatenate(.)`, `np.hstack(.)`, `np.c_`, `np.vstack(.)`, `np.r_`, `np.split(.)`\n",
    "* `ARRAY.sort(.)`, `ARRAY.argsort(.)`, `ARRAY.searchsorted(.)`"
   ]
  },
  {
   "cell_type": "code",
   "execution_count": 94,
   "metadata": {},
   "outputs": [
    {
     "data": {
      "text/plain": [
       "array([0, 1, 2, 3, 4, 5, 6, 7, 8, 9])"
      ]
     },
     "execution_count": 94,
     "metadata": {},
     "output_type": "execute_result"
    }
   ],
   "source": [
    "a = np.arange(0,10)\n",
    "a"
   ]
  },
  {
   "cell_type": "code",
   "execution_count": 95,
   "metadata": {},
   "outputs": [
    {
     "data": {
      "text/plain": [
       "array([[0, 1],\n",
       "       [2, 3],\n",
       "       [4, 5],\n",
       "       [6, 7],\n",
       "       [8, 9]])"
      ]
     },
     "execution_count": 95,
     "metadata": {},
     "output_type": "execute_result"
    }
   ],
   "source": [
    "b = a.reshape((5,2))\n",
    "b"
   ]
  },
  {
   "cell_type": "code",
   "execution_count": 96,
   "metadata": {},
   "outputs": [
    {
     "data": {
      "text/plain": [
       "array([[0, 1, 2, 3, 4],\n",
       "       [5, 6, 7, 8, 9]])"
      ]
     },
     "execution_count": 96,
     "metadata": {},
     "output_type": "execute_result"
    }
   ],
   "source": [
    "c = b.reshape((2,5))\n",
    "c"
   ]
  },
  {
   "cell_type": "markdown",
   "metadata": {},
   "source": [
    "If you want to \"flatten\" a multidimensional array to a 1D array can use `ARRAY.reshape(-1)` or `ARRAY.flatten()`"
   ]
  },
  {
   "cell_type": "code",
   "execution_count": 97,
   "metadata": {},
   "outputs": [
    {
     "name": "stdout",
     "output_type": "stream",
     "text": [
      "flatten\n",
      "[0 1 2 3 4 5 6 7 8 9]\n",
      "\n",
      "reshape\n",
      "[0 1 2 3 4 5 6 7 8 9]\n",
      "\n"
     ]
    }
   ],
   "source": [
    "print(f\"flatten\\n{c.flatten()}\\n\")\n",
    "print(f\"reshape\\n{c.reshape(-1)}\\n\")"
   ]
  },
  {
   "cell_type": "code",
   "execution_count": 53,
   "metadata": {},
   "outputs": [
    {
     "name": "stdout",
     "output_type": "stream",
     "text": [
      "concatenate\n",
      " [[1. 1.]\n",
      " [1. 1.]\n",
      " [1. 1.]\n",
      " [1. 1.]\n",
      " [1. 1.]\n",
      " [1. 1.]]\n",
      "\n",
      "hstack\n",
      "[[1. 1.]\n",
      " [1. 1.]\n",
      " [1. 1.]\n",
      " [1. 1.]\n",
      " [1. 1.]\n",
      " [1. 1.]]\n",
      "\n",
      "c_\n",
      "[[1. 1.]\n",
      " [1. 1.]\n",
      " [1. 1.]\n",
      " [1. 1.]\n",
      " [1. 1.]\n",
      " [1. 1.]]\n",
      "\n"
     ]
    }
   ],
   "source": [
    "# np.concatenate, np.vstack and np.r_ all allow you to combine arrays \"vertically\" (along axis 0)\n",
    "\n",
    "a = np.ones((3, 2))\n",
    "b = np.ones((3, 2))\n",
    "\n",
    "print(f\"concatenate\\n {np.concatenate([a, b], axis=0)}\\n\")\n",
    "print(f\"hstack\\n{np.vstack([a, b])}\\n\")\n",
    "print(f\"r_\\n{np.r_[a, b]}\\n\")"
   ]
  },
  {
   "cell_type": "code",
   "execution_count": 50,
   "metadata": {},
   "outputs": [
    {
     "name": "stdout",
     "output_type": "stream",
     "text": [
      "concatenate\n",
      " [[1. 1. 1. 1.]\n",
      " [1. 1. 1. 1.]\n",
      " [1. 1. 1. 1.]]\n",
      "\n",
      "hstack\n",
      "[[1. 1. 1. 1.]\n",
      " [1. 1. 1. 1.]\n",
      " [1. 1. 1. 1.]]\n",
      "\n",
      "c_\n",
      "[[1. 1. 1. 1.]\n",
      " [1. 1. 1. 1.]\n",
      " [1. 1. 1. 1.]]\n",
      "\n"
     ]
    }
   ],
   "source": [
    "# np.concatenate, np.hstack, and np.c_ all allow you to combine arrays \"horizontally\" (along axis 1)\n",
    "\n",
    "a = np.ones((3, 2))\n",
    "b = np.ones((3, 2))\n",
    "\n",
    "print(f\"concatenate\\n {np.concatenate([a, b], axis=1)}\\n\")\n",
    "print(f\"hstack\\n{np.hstack([a, b])}\\n\")\n",
    "print(f\"c_\\n{np.c_[a, b]}\\n\")"
   ]
  },
  {
   "cell_type": "code",
   "execution_count": 8,
   "metadata": {},
   "outputs": [
    {
     "name": "stdout",
     "output_type": "stream",
     "text": [
      "2D array \n",
      "[[ 1  2  3  4  5  6  7  8  9 10]\n",
      " [ 2  4  6  8 10 12 14 16 18 20]\n",
      " [ 3  6  9 12 15 18 21 24 27 30]]\n",
      "\n",
      "[[ 1  2  3  4  5  6  7  8  9 10]\n",
      " [ 2  4  6  8 10 12 14 16 18 20]\n",
      " [ 3  6  9 12 15 18 21 24 27 30]\n",
      " [ 4  8 12 16 20 24 28 32 36 40]\n",
      " [ 5 10 15 20 25 30 35 40 45 50]]\n",
      "[[ 1  2  3  4  5  6  7  8  9 10]\n",
      " [ 2  4  6  8 10 12 14 16 18 20]\n",
      " [ 3  6  9 12 15 18 21 24 27 30]\n",
      " [ 4  8 12 16 20 24 28 32 36 40]\n",
      " [ 5 10 15 20 25 30 35 40 45 50]]\n"
     ]
    }
   ],
   "source": [
    "# EXERCISE\n",
    "# Build a 2D array where the first row is the first 10 multiples of 1, \n",
    "# the second is the first 10 multiples of 2, \n",
    "# ..., and the last row is the first 10 multiples of 5. \n",
    "\n",
    "import numpy as np\n",
    "\n",
    "my_work_array=np.array([1,2,3,4,5,6,7,8,9,10])\n",
    "\n",
    "array1 = my_work_array*1\n",
    "array2 = my_work_array*2\n",
    "array3 = my_work_array*3\n",
    "array4 = my_work_array*4\n",
    "array5 = my_work_array*5\n",
    "\n",
    "print(f\"2D array \\n{np.vstack([array1, array2, array3])}\\n\")\n",
    "\n",
    "#---------------\n",
    "\n",
    "my_work_array=np.arange(1, 11)\n",
    "\n",
    "arrays = 5 * [None]\n",
    "for i in range(1,6):\n",
    "    arrays[i-1] = i * my_work_array\n",
    "\n",
    "print(np.vstack(arrays))\n",
    "\n",
    "my_work_array=np.arange(1, 11)\n",
    "\n",
    "#--------------\n",
    "\n",
    "arrays = [] #unkown length\n",
    "for i in range(1,6):\n",
    "    arrays.append(i * my_work_array)\n",
    "\n",
    "print(np.vstack(arrays))\n",
    "\n",
    "#--------------\n",
    "\n",
    "arrays = [i*my_work_array for i in range(1,6)]\n",
    "new_array = np.vstack(arrays)"
   ]
  },
  {
   "cell_type": "code",
   "execution_count": 7,
   "metadata": {},
   "outputs": [
    {
     "data": {
      "text/plain": [
       "['C', 'E', 'M', 'T', 'N']"
      ]
     },
     "execution_count": 7,
     "metadata": {},
     "output_type": "execute_result"
    }
   ],
   "source": [
    "names = [\"AK\", \"BA\", \"AO\", \"CB\", \"EM\", \"MJ\", \"TS\", \"NL\", \"AZ\"]\n",
    "\n",
    "first_initials = [name[0] for name in names if name[0] not in [\"B\", \"A\"]]\n",
    "first_initials"
   ]
  },
  {
   "cell_type": "markdown",
   "metadata": {},
   "source": [
    "To sort arrays use the `np.sort(ARRAY)`, `np.argsort(ARRAY)`, `np.searchsorted(ARRAY, VALUE)` commands. `ARRAY.sort()` **does not return anything**. It simply sorts and resaves a a sorted version of an array (i.e. it acts \"in-place\")"
   ]
  },
  {
   "cell_type": "code",
   "execution_count": 98,
   "metadata": {},
   "outputs": [
    {
     "data": {
      "text/plain": [
       "array([0, 1, 3, 3, 4, 6, 7, 8, 9])"
      ]
     },
     "execution_count": 98,
     "metadata": {},
     "output_type": "execute_result"
    }
   ],
   "source": [
    "a = np.array([3, 7, 4, 6, 1, 0, 8, 9, 3])\n",
    "\n",
    "a.sort()\n",
    "a"
   ]
  },
  {
   "cell_type": "markdown",
   "metadata": {},
   "source": [
    "There is a command to ranomly shuffle arrays that operates in the same way. "
   ]
  },
  {
   "cell_type": "code",
   "execution_count": 101,
   "metadata": {},
   "outputs": [
    {
     "data": {
      "text/plain": [
       "array([4, 0, 3, 6, 3, 9, 8, 7, 1])"
      ]
     },
     "execution_count": 101,
     "metadata": {},
     "output_type": "execute_result"
    }
   ],
   "source": [
    "# Try re-running this to see that `a` is shuffled differently each time. \n",
    "\n",
    "np.random.shuffle(a)\n",
    "a"
   ]
  },
  {
   "cell_type": "markdown",
   "metadata": {},
   "source": [
    "`np.argsort(ARRAY)` returns a list of indicies that _would_ sort `ARRAY`"
   ]
  },
  {
   "cell_type": "code",
   "execution_count": 123,
   "metadata": {},
   "outputs": [
    {
     "data": {
      "text/plain": [
       "array([70, 50, 20, 60, 30, 40,  0, 80, 10])"
      ]
     },
     "execution_count": 123,
     "metadata": {},
     "output_type": "execute_result"
    }
   ],
   "source": [
    "a = 10*np.arange(0,9)\n",
    "np.random.shuffle(a)\n",
    "a"
   ]
  },
  {
   "cell_type": "code",
   "execution_count": 10,
   "metadata": {},
   "outputs": [],
   "source": [
    "# EXCERSISE\n",
    "# Using argsort, sort the names accoring to their birth month. \n",
    "\n",
    "names = np.array(['Anne', 'Abel', 'Adam', 'Ali', 'Allison'])\n",
    "birth_months = np.array([2, 7, 1, 11, 5])\n",
    "\n",
    "\n",
    "\n"
   ]
  },
  {
   "cell_type": "code",
   "execution_count": 25,
   "metadata": {},
   "outputs": [
    {
     "data": {
      "text/plain": [
       "array([False,  True, False,  True, False])"
      ]
     },
     "execution_count": 25,
     "metadata": {},
     "output_type": "execute_result"
    }
   ],
   "source": [
    "birth_months > 5"
   ]
  },
  {
   "cell_type": "code",
   "execution_count": 29,
   "metadata": {},
   "outputs": [
    {
     "data": {
      "text/plain": [
       "array(['Adam', 'Anne', 'Allison', 'Abel'], dtype='<U7')"
      ]
     },
     "execution_count": 29,
     "metadata": {},
     "output_type": "execute_result"
    }
   ],
   "source": [
    "# What if you want to 1. select a sebset by a criteria, \n",
    "# 2. sort the remianing values\n",
    "\n",
    "early_names = names[birth_months < 11]\n",
    "early_birth_months = birth_months[birth_months < 11]\n",
    "\n",
    "early_names[early_birth_months.argsort()]\n",
    "\n",
    "#-----------\n",
    "\n",
    "names[birth_months < 11][birth_months[birth_months < 11].argsort()]\n"
   ]
  },
  {
   "cell_type": "code",
   "execution_count": 22,
   "metadata": {},
   "outputs": [
    {
     "name": "stdout",
     "output_type": "stream",
     "text": [
      "['Adam', 'Anne', 'Allison', 'Abel', 'Ali']\n",
      "['Adam', 'Anne', 'Allison', 'Abel', 'Ali']\n"
     ]
    }
   ],
   "source": [
    "new_names = []\n",
    "for index in birth_months.argsort():\n",
    "    new_names.append(names[index])\n",
    "print(new_names)\n",
    "\n",
    "print([names[index] for index in birth_months if birth_month[index] > 5])\n"
   ]
  },
  {
   "cell_type": "code",
   "execution_count": 16,
   "metadata": {},
   "outputs": [
    {
     "data": {
      "text/plain": [
       "array([2, 0, 4, 1, 3])"
      ]
     },
     "execution_count": 16,
     "metadata": {},
     "output_type": "execute_result"
    }
   ],
   "source": [
    "np.argsort(birth_months)"
   ]
  },
  {
   "cell_type": "markdown",
   "metadata": {},
   "source": [
    "### 2.5.5 Dealing with NaN <a name=\"NaN\">"
   ]
  },
  {
   "cell_type": "markdown",
   "metadata": {},
   "source": [
    "`numpy` includes functionality for missing data via `np.nan` (Not a number) and extremely large numebrs with `np.Infinity`. Arrays can include these values along with other objects. Numpy also includes many functions for dealing with arrays that have NaNs:\n",
    "\n",
    "* `np.nan_to_num(ARRAY)`: replaces np.nans with 0 and np.Infinity with a large number. (Can change the value with nan= keyword argument)\n",
    "* `np.nanmean(ARRAY)`: mean ignoring nans\n",
    "\n"
   ]
  },
  {
   "cell_type": "code",
   "execution_count": 103,
   "metadata": {},
   "outputs": [],
   "source": [
    "a = np.array([1.2, 3.4, np.nan, 10.1])"
   ]
  },
  {
   "cell_type": "code",
   "execution_count": 5,
   "metadata": {},
   "outputs": [
    {
     "data": {
      "text/plain": [
       "array([ 1.2,  3.4,  0. , 10.1])"
      ]
     },
     "execution_count": 5,
     "metadata": {},
     "output_type": "execute_result"
    }
   ],
   "source": [
    "np.nan_to_num(a)"
   ]
  },
  {
   "cell_type": "code",
   "execution_count": 9,
   "metadata": {},
   "outputs": [
    {
     "data": {
      "text/plain": [
       "array([  1.2,   3.4, 100. ,  10.1])"
      ]
     },
     "execution_count": 9,
     "metadata": {},
     "output_type": "execute_result"
    }
   ],
   "source": [
    "np.nan_to_num(a, nan=100)"
   ]
  },
  {
   "cell_type": "code",
   "execution_count": 104,
   "metadata": {},
   "outputs": [
    {
     "data": {
      "text/plain": [
       "nan"
      ]
     },
     "execution_count": 104,
     "metadata": {},
     "output_type": "execute_result"
    }
   ],
   "source": [
    "# taking the regular means results in a nan value\n",
    "\n",
    "a.mean()"
   ]
  },
  {
   "cell_type": "code",
   "execution_count": 8,
   "metadata": {},
   "outputs": [
    {
     "data": {
      "text/plain": [
       "4.8999999999999995"
      ]
     },
     "execution_count": 8,
     "metadata": {},
     "output_type": "execute_result"
    }
   ],
   "source": [
    "# using nanmean ignoes the np.NaN. \n",
    "\n",
    "np.nanmean(a)"
   ]
  },
  {
   "cell_type": "markdown",
   "metadata": {},
   "source": [
    "### 2.5.6 Univerate operations <a name=\"univariate-ops\">"
   ]
  },
  {
   "cell_type": "markdown",
   "metadata": {},
   "source": [
    "Numpy provides a **lot** of functions. Go to [the numpy reference](https://numpy.org/doc/stable/reference/ufuncs.html#available-ufuncs) to see what is available. Most important ones are `np.mean`, `np.sum`, `np.maximum`, `np.minimum`, etc. "
   ]
  },
  {
   "cell_type": "markdown",
   "metadata": {},
   "source": [
    "**EXERCISE**\n",
    "\n",
    "Find the values of \n",
    "\n",
    "$$2\\cos(x/\\pi +3) -5$$\n",
    "\n",
    "for \n",
    "\n",
    "$$ x = 0, .5, 1.0, 1.5, \\dots, 12$$"
   ]
  },
  {
   "cell_type": "code",
   "execution_count": null,
   "metadata": {},
   "outputs": [],
   "source": [
    "\n",
    "\n",
    "\n",
    "\n",
    "\n",
    "\n",
    "\n"
   ]
  },
  {
   "cell_type": "code",
   "execution_count": 35,
   "metadata": {},
   "outputs": [
    {
     "data": {
      "text/plain": [
       "array([1.33333333, 5.        , 1.        , 3.33333333, 4.33333333])"
      ]
     },
     "execution_count": 35,
     "metadata": {},
     "output_type": "execute_result"
    }
   ],
   "source": [
    "# EXERCISE\n",
    "# Find the maximum value of each column of the array below. \n",
    "# Also find the maximum of each row\n",
    "\n",
    "A = np.array([[1, 3, 4, 6, 2],\n",
    "             [ 4, 10, -5, 3, 4], \n",
    "             [-1, 2, 4, 1, 7]])\n",
    "\n",
    "\n",
    "\n",
    "\n",
    "A.mean(axis=0)"
   ]
  },
  {
   "cell_type": "markdown",
   "metadata": {},
   "source": [
    "### 2.5.7 Bivariate operations <a name=\"bivariate-ops\">"
   ]
  },
  {
   "cell_type": "markdown",
   "metadata": {},
   "source": [
    "`numpy` also provides a number of ways to combine arrays. Standard operators like `*` and `+` operate _pointwise_. In other words the two arrays must bethe same size and these operators combine each entry. "
   ]
  },
  {
   "cell_type": "code",
   "execution_count": 36,
   "metadata": {},
   "outputs": [
    {
     "data": {
      "text/plain": [
       "array([ 6, 12, 18])"
      ]
     },
     "execution_count": 36,
     "metadata": {},
     "output_type": "execute_result"
    }
   ],
   "source": [
    "# EXERCISE\n",
    "# Define two 2D arrays of the same size and combine them \n",
    "# using pointwise operators\n",
    "\n",
    "\n",
    "#-------------------\n",
    "B = np.array([1,2,3])\n",
    "C = np.array([5,10,15])\n",
    "print(B + C)\n",
    "\n",
    "\n",
    "#------------------\n",
    "\n"
   ]
  },
  {
   "cell_type": "markdown",
   "metadata": {},
   "source": [
    "Of course, very often we want to do _matrix_ multiplication. This is represented in Python 3 by the `@` symbol. "
   ]
  },
  {
   "cell_type": "code",
   "execution_count": 105,
   "metadata": {},
   "outputs": [
    {
     "data": {
      "text/plain": [
       "array([[6.63108246e-01, 1.62049698e-04, 9.24321936e-01],\n",
       "       [4.67295051e-01, 8.48641985e-01, 6.77422139e-01],\n",
       "       [4.59392603e-01, 6.57151357e-02, 5.16733748e-01],\n",
       "       [1.33045597e-01, 2.93061717e-01, 6.26867226e-01]])"
      ]
     },
     "execution_count": 105,
     "metadata": {},
     "output_type": "execute_result"
    }
   ],
   "source": [
    "a = np.random.rand(4,3)\n",
    "a"
   ]
  },
  {
   "cell_type": "code",
   "execution_count": 106,
   "metadata": {},
   "outputs": [
    {
     "data": {
      "text/plain": [
       "array([1, 2, 3])"
      ]
     },
     "execution_count": 106,
     "metadata": {},
     "output_type": "execute_result"
    }
   ],
   "source": [
    "b = np.arange(1,4)\n",
    "b"
   ]
  },
  {
   "cell_type": "code",
   "execution_count": 56,
   "metadata": {},
   "outputs": [],
   "source": [
    "# days X products\n",
    "sales = np.array([[3, 0, 0], \n",
    "                  [2, 2, 0], \n",
    "                  [1, 0, 1],\n",
    "                  [0, 4, 1],\n",
    "                  [0, 1, 4]])\n",
    "\n",
    "sales_2 = np.array([[3, 2, 1, 0, 0], \n",
    "                    [0, 2, 0, 4, 1],\n",
    "                    [0, 0, 1, 1, 4]])\n",
    "\n",
    "# products X cost\n",
    "# 1D array\n",
    "prices = np.array([3, 5, 1])\n",
    "\n",
    "# 2D array with one column\n",
    "prices_wtf = np.array([[3], [5], [1]])\n",
    "# 2D array with one row\n",
    "prices_wtf_2 = np.array([[3, 5, 1]])\n",
    "\n",
    "\n",
    "\n",
    "price_labels = np.array([\"cookies\", \"brownies\", \"apples\"])\n",
    "                    \n",
    "prices_w_taxes = np.array([[3, 5, 1], \n",
    "                           [0.3, 0.5, 0]])"
   ]
  },
  {
   "cell_type": "code",
   "execution_count": 46,
   "metadata": {},
   "outputs": [
    {
     "data": {
      "text/plain": [
       "(5, 3)"
      ]
     },
     "execution_count": 46,
     "metadata": {},
     "output_type": "execute_result"
    }
   ],
   "source": [
    "sales.shape"
   ]
  },
  {
   "cell_type": "code",
   "execution_count": 47,
   "metadata": {},
   "outputs": [
    {
     "data": {
      "text/plain": [
       "(3,)"
      ]
     },
     "execution_count": 47,
     "metadata": {},
     "output_type": "execute_result"
    }
   ],
   "source": [
    "prices.shape"
   ]
  },
  {
   "cell_type": "code",
   "execution_count": 49,
   "metadata": {},
   "outputs": [
    {
     "ename": "ValueError",
     "evalue": "shapes (3,) and (5,3) not aligned: 3 (dim 0) != 5 (dim 0)",
     "output_type": "error",
     "traceback": [
      "\u001b[0;31m---------------------------------------------------------------------------\u001b[0m",
      "\u001b[0;31mValueError\u001b[0m                                Traceback (most recent call last)",
      "\u001b[0;32m<ipython-input-49-0f84eb128398>\u001b[0m in \u001b[0;36m<module>\u001b[0;34m()\u001b[0m\n\u001b[1;32m      2\u001b[0m \u001b[0;31m# Why doesn't this work? products does not line up with itself\u001b[0m\u001b[0;34m\u001b[0m\u001b[0;34m\u001b[0m\u001b[0m\n\u001b[1;32m      3\u001b[0m \u001b[0;34m\u001b[0m\u001b[0m\n\u001b[0;32m----> 4\u001b[0;31m \u001b[0mprices\u001b[0m \u001b[0;34m@\u001b[0m \u001b[0msales\u001b[0m\u001b[0;34m\u001b[0m\u001b[0m\n\u001b[0m",
      "\u001b[0;31mValueError\u001b[0m: shapes (3,) and (5,3) not aligned: 3 (dim 0) != 5 (dim 0)"
     ]
    }
   ],
   "source": [
    "# Oops \n",
    "# Why doesn't this work? products does not line up with itself \n",
    "\n",
    "prices @ sales"
   ]
  },
  {
   "cell_type": "code",
   "execution_count": 51,
   "metadata": {},
   "outputs": [
    {
     "data": {
      "text/plain": [
       "array([ 9, 16,  4, 21,  9])"
      ]
     },
     "execution_count": 51,
     "metadata": {},
     "output_type": "execute_result"
    }
   ],
   "source": [
    "# This works\n",
    "\n",
    "sales @ prices"
   ]
  },
  {
   "cell_type": "code",
   "execution_count": 53,
   "metadata": {},
   "outputs": [
    {
     "data": {
      "text/plain": [
       "(3, 1)"
      ]
     },
     "execution_count": 53,
     "metadata": {},
     "output_type": "execute_result"
    }
   ],
   "source": [
    "# Comparing 2D array shapes \n",
    "\n",
    "prices_wtf.shape"
   ]
  },
  {
   "cell_type": "code",
   "execution_count": 57,
   "metadata": {},
   "outputs": [
    {
     "data": {
      "text/plain": [
       "(1, 3)"
      ]
     },
     "execution_count": 57,
     "metadata": {},
     "output_type": "execute_result"
    }
   ],
   "source": [
    "prices_wtf_2.shape"
   ]
  },
  {
   "cell_type": "code",
   "execution_count": 58,
   "metadata": {},
   "outputs": [
    {
     "data": {
      "text/plain": [
       "(5, 3)"
      ]
     },
     "execution_count": 58,
     "metadata": {},
     "output_type": "execute_result"
    }
   ],
   "source": [
    "sales.shape"
   ]
  },
  {
   "cell_type": "code",
   "execution_count": 59,
   "metadata": {},
   "outputs": [
    {
     "data": {
      "text/plain": [
       "array([[ 9],\n",
       "       [16],\n",
       "       [ 4],\n",
       "       [21],\n",
       "       [ 9]])"
      ]
     },
     "execution_count": 59,
     "metadata": {},
     "output_type": "execute_result"
    }
   ],
   "source": [
    "# How do I multiply these?\n",
    "\n",
    "sales @ prices_wtf"
   ]
  },
  {
   "cell_type": "code",
   "execution_count": 60,
   "metadata": {},
   "outputs": [],
   "source": [
    "# How do I do this calculation with taxes?\n",
    "\n",
    "# sales @ prices_w_taxes?\n",
    "# prices_w_taxes @ sales?\n",
    "# Something else?\n",
    "\n"
   ]
  },
  {
   "cell_type": "code",
   "execution_count": 66,
   "metadata": {},
   "outputs": [
    {
     "data": {
      "text/plain": [
       "(3, 2)"
      ]
     },
     "execution_count": 66,
     "metadata": {},
     "output_type": "execute_result"
    }
   ],
   "source": [
    "prices_w_taxes.transpose().shape"
   ]
  },
  {
   "cell_type": "code",
   "execution_count": 65,
   "metadata": {},
   "outputs": [
    {
     "data": {
      "text/plain": [
       "array([[3. , 0.3],\n",
       "       [5. , 0.5],\n",
       "       [1. , 0. ]])"
      ]
     },
     "execution_count": 65,
     "metadata": {},
     "output_type": "execute_result"
    }
   ],
   "source": [
    "prices_w_taxes.swapaxes(0, 1)"
   ]
  },
  {
   "cell_type": "code",
   "execution_count": 63,
   "metadata": {},
   "outputs": [
    {
     "data": {
      "text/plain": [
       "(5, 3)"
      ]
     },
     "execution_count": 63,
     "metadata": {},
     "output_type": "execute_result"
    }
   ],
   "source": [
    "sales.shape"
   ]
  },
  {
   "cell_type": "code",
   "execution_count": 68,
   "metadata": {},
   "outputs": [
    {
     "data": {
      "text/plain": [
       "array([[ 9. ,  0.9],\n",
       "       [16. ,  1.6],\n",
       "       [ 4. ,  0.3],\n",
       "       [21. ,  2. ],\n",
       "       [ 9. ,  0.5]])"
      ]
     },
     "execution_count": 68,
     "metadata": {},
     "output_type": "execute_result"
    }
   ],
   "source": [
    "# Answer in days X type of cost\n",
    "sales @ prices_w_taxes.transpose()"
   ]
  },
  {
   "cell_type": "code",
   "execution_count": 75,
   "metadata": {},
   "outputs": [
    {
     "data": {
      "text/plain": [
       "0"
      ]
     },
     "execution_count": 75,
     "metadata": {},
     "output_type": "execute_result"
    }
   ],
   "source": [
    "pr = {\"cookies\": 0, \"brownies\": 1, \"apples\": 2}\n",
    "days = {\"Mon\": 0, \"Tue\": 1, \"Wed\": 2, \"Thus\":3, \"Fri\":4}\n",
    "pr[\"cookies\"]"
   ]
  },
  {
   "cell_type": "code",
   "execution_count": 74,
   "metadata": {},
   "outputs": [
    {
     "data": {
      "text/plain": [
       "array([[3, 0, 0],\n",
       "       [2, 2, 0],\n",
       "       [1, 0, 1],\n",
       "       [0, 4, 1],\n",
       "       [0, 1, 4]])"
      ]
     },
     "execution_count": 74,
     "metadata": {},
     "output_type": "execute_result"
    }
   ],
   "source": [
    "sales"
   ]
  },
  {
   "cell_type": "code",
   "execution_count": 76,
   "metadata": {},
   "outputs": [
    {
     "data": {
      "text/plain": [
       "3"
      ]
     },
     "execution_count": 76,
     "metadata": {},
     "output_type": "execute_result"
    }
   ],
   "source": [
    "sales[days[\"Mon\"], pr[\"cookies\"]]"
   ]
  },
  {
   "cell_type": "code",
   "execution_count": 78,
   "metadata": {},
   "outputs": [
    {
     "name": "stdout",
     "output_type": "stream",
     "text": [
      "Collecting xarray\n",
      "\u001b[?25l  Downloading https://files.pythonhosted.org/packages/ff/dc/52adc6d2b65602a82a5cf153c107090bb00933d330ebd1715d058ce1a058/xarray-0.16.0-py3-none-any.whl (704kB)\n",
      "\u001b[K    100% |████████████████████████████████| 706kB 4.1MB/s eta 0:00:01\n",
      "\u001b[?25hRequirement already satisfied: numpy>=1.15 in /ihome/crc/install/python/miniconda3-3.7/lib/python3.7/site-packages (from xarray) (1.15.4)\n",
      "Collecting pandas>=0.25 (from xarray)\n",
      "\u001b[?25l  Downloading https://files.pythonhosted.org/packages/74/69/18b96b520519818e00b04dd08d7cbc5e764f1465f5a280cf96173f34c54e/pandas-1.1.2-cp37-cp37m-manylinux1_x86_64.whl (10.5MB)\n",
      "\u001b[K    100% |████████████████████████████████| 10.5MB 1.5MB/s eta 0:00:01 42% |█████████████▋                  | 4.5MB 41.9MB/s eta 0:00:01�███████▎           | 6.6MB 39.9MB/s eta 0:00:01███████████████████████▊    | 9.1MB 44.8MB/s eta 0:00:01\n",
      "\u001b[?25hCollecting setuptools>=41.2 (from xarray)\n",
      "\u001b[?25l  Downloading https://files.pythonhosted.org/packages/44/a6/7fb6e8b3f4a6051e72e4e2218889351f0ee484b9ee17e995f5ccff780300/setuptools-50.3.0-py3-none-any.whl (785kB)\n",
      "\u001b[K    100% |████████████████████████████████| 788kB 4.5MB/s eta 0:00:01 |█████████▋                      | 235kB 45.8MB/s eta 0:00:01\n",
      "\u001b[?25hRequirement already satisfied: pytz>=2017.2 in /ihome/crc/install/python/miniconda3-3.7/lib/python3.7/site-packages (from pandas>=0.25->xarray) (2018.5)\n",
      "Requirement already satisfied: python-dateutil>=2.7.3 in /ihome/crc/install/python/miniconda3-3.7/lib/python3.7/site-packages (from pandas>=0.25->xarray) (2.7.3)\n",
      "Requirement already satisfied: six>=1.5 in /ihome/crc/install/python/miniconda3-3.7/lib/python3.7/site-packages (from python-dateutil>=2.7.3->pandas>=0.25->xarray) (1.11.0)\n",
      "Installing collected packages: pandas, setuptools, xarray\n",
      "  Found existing installation: pandas 0.23.4\n",
      "    Uninstalling pandas-0.23.4:\n",
      "\u001b[31mCould not install packages due to an EnvironmentError: [Errno 13] Permission denied: '/ihome/crc/install/python/miniconda3-3.7/lib/python3.7/site-packages/pandas-0.23.4.dist-info/INSTALLER'\n",
      "Consider using the `--user` option or check the permissions.\n",
      "\u001b[0m\n",
      "\u001b[33mYou are using pip version 18.0, however version 20.2.3 is available.\n",
      "You should consider upgrading via the 'pip install --upgrade pip' command.\u001b[0m\n"
     ]
    }
   ],
   "source": []
  },
  {
   "cell_type": "code",
   "execution_count": 79,
   "metadata": {},
   "outputs": [
    {
     "ename": "ModuleNotFoundError",
     "evalue": "No module named 'xarray'",
     "output_type": "error",
     "traceback": [
      "\u001b[0;31m---------------------------------------------------------------------------\u001b[0m",
      "\u001b[0;31mModuleNotFoundError\u001b[0m                       Traceback (most recent call last)",
      "\u001b[0;32m<ipython-input-79-04450197f83b>\u001b[0m in \u001b[0;36m<module>\u001b[0;34m()\u001b[0m\n\u001b[0;32m----> 1\u001b[0;31m \u001b[0;32mimport\u001b[0m \u001b[0mxarray\u001b[0m \u001b[0;32mas\u001b[0m \u001b[0mxa\u001b[0m\u001b[0;34m\u001b[0m\u001b[0m\n\u001b[0m",
      "\u001b[0;31mModuleNotFoundError\u001b[0m: No module named 'xarray'"
     ]
    }
   ],
   "source": [
    "import xarray as xa"
   ]
  },
  {
   "cell_type": "markdown",
   "metadata": {},
   "source": [
    "### 2.5.8 Subtleties: views vs copies <a name=\"subtleties\">\n",
    "\n",
    "* `np.copy(.)` or `ARRAY.copy()`\n",
    "* `np.split(.)` vs `np.array_split(.)`"
   ]
  },
  {
   "cell_type": "markdown",
   "metadata": {},
   "source": [
    "### 2.5.8 `numpy` exercises <a name=\"numpy-exercises\">"
   ]
  },
  {
   "cell_type": "code",
   "execution_count": null,
   "metadata": {},
   "outputs": [],
   "source": [
    "# create three matricies and conatenate"
   ]
  },
  {
   "cell_type": "code",
   "execution_count": null,
   "metadata": {},
   "outputs": [],
   "source": []
  },
  {
   "cell_type": "markdown",
   "metadata": {},
   "source": [
    "## 2.6 Introduction to `scipy` <a name=\"scipy-intro\">\n",
    "    \n",
    "`scipy` is a package which contains a number of convinience functions for mathematics and data analysis\n",
    "    \n",
    "* **scipy.cluster**: Vector quantization / Kmeans\n",
    "* **scipy.constants**: Physical and mathematical constants\n",
    "* **scipy.fftpack**: Fourier transform\n",
    "* **scipy.integrate**: Integration routines\n",
    "* **scipy.interpolate**: Interpolation\n",
    "* **scipy.io**: Data input and output\n",
    "* **scipy.linalg**: Linear algebra routines\n",
    "* **scipy.ndimage**: n-dimensional image package\n",
    "* **scipy.odr**: Orthogonal distance regression\n",
    "* **scipy.optimize**: Optimization\n",
    "* **scipy.signal**: Signal processing\n",
    "* **scipy.sparse**: Sparse matrices\n",
    "* **scipy.spatial**: Spatial data structures and algorithms\n",
    "* **scipy.special**: Any special mathematical functions\n",
    "* **scipy.stats**: Statistics"
   ]
  },
  {
   "cell_type": "code",
   "execution_count": 23,
   "metadata": {},
   "outputs": [],
   "source": [
    "import scipy as sp"
   ]
  },
  {
   "cell_type": "markdown",
   "metadata": {},
   "source": [
    "### 2.6.1 `scipy` exercises <a name=\"scipy-exercises\">"
   ]
  },
  {
   "cell_type": "code",
   "execution_count": null,
   "metadata": {},
   "outputs": [],
   "source": [
    "# EXCERSISE\n",
    "# scipy show and tell: Pick a submodule of interest, use the jupyter autocomplete functionality or the scipy docs to find a \n",
    "# function of interest udnerstand its arguments and try to do a calculation using that function. Play around with the arguments.  \n",
    "\n",
    "\n",
    "\n",
    "\n",
    "\n",
    "\n",
    "\n"
   ]
  }
 ],
 "metadata": {
  "kernelspec": {
   "display_name": "Python 3.7",
   "language": "python",
   "name": "python3"
  },
  "language_info": {
   "codemirror_mode": {
    "name": "ipython",
    "version": 3
   },
   "file_extension": ".py",
   "mimetype": "text/x-python",
   "name": "python",
   "nbconvert_exporter": "python",
   "pygments_lexer": "ipython3",
   "version": "3.7.0"
  }
 },
 "nbformat": 4,
 "nbformat_minor": 4
}
