{
 "cells": [
  {
   "cell_type": "markdown",
   "metadata": {},
   "source": [
    "# Day 1: Welcome to the Python Neuro Bootcamp!!!\n",
    "\n",
    "<img src=\"http://blog.pascallisch.net/wp-content/uploads/2013/09/python-for-pascal.jpg\" width=\"200\" height=\"200\" />\n",
    "\n",
    "## What is Python? \n",
    "Python is a widely used programming language for general-purpose programming, created by Guido van Rossum and first released in 1991. Python is an *interpreted* language, meaning that it will read your code, line-by-line, and \"translate\" it into binary (compile) every time it's run. In contrast, *compiled* languages require you to write the full program first before running it. While compiled languages generally run faster, interpreted languages can often approach the speed of compiled languages with proper use of third-party libraries. One advantage of interpreted languages is that you can use an interactive prompt to execute single lines of code and view the results immediately. This allows you to write and test, line by line, your code.\n",
    "\n",
    "Python emphasizes code readability and a syntax that allows programmers to express concepts in fewer lines of code than might be used in languages such as C++ or Java. \n",
    "Writing \"*Pythonian*\" code means writing clear, documented code that other people (and you in six months) will understand. \n",
    "\n",
    "The goal of this bootcamp is to introduce you to Python by working through some neuro data sets that we selected based on your interests. But before we jump into hands-on analysis, we will go quickly through some basic concepts of Python programming. \n",
    "\n",
    "** A quick note about Python versions. ** Python has a few different versions available. The most common ones are Version 2 and Version 3. There are a few key differences between these versions which can cause usability issues (*i.e.*, some code written for Python 3 won't run with Python 2 without revisions). **This course is using Python 3.** We will provide some additional resources and information about version 2 on Day 5. \n",
    "\n",
    "## What are Python's main strengths and why did we choose it for this course?\n",
    "- Python is FREE!\n",
    "- Python is becoming the *de facto* standard programming language in Neuroscience.\n",
    "- There is a lot of support online, and it is easy to find an answer to your questions just by Googling it.\n",
    "- It is designed to be readable (if you write it to be so!) \n",
    "\n",
    "## What is the Jupyter Notebook and why are we using it for this course?\n",
    "\n",
    "This is a Jupyter Notebook, a space where you can combine text (this is [Markdown](https://github.com/adam-p/markdown-here/wiki/Markdown-Cheatsheet)) and code. It is an awesome educational tool! The best part is that you will be able to interact with anything that is written here, test out code, take notes, and make it your own.\n",
    "\n",
    "<img src=\"./assets/jupyterInterface1.png\" width = 600/>\n",
    "\n",
    "**In general to execute a block (text or code) click the \"Run\" button on the toolbar. This gets annoying after a while so use the keyboard shortcut `shift+enter` when a cell is selected.**\n",
    "\n",
    "**Remember to save changes that you have made to your Jupyter Notebook before navigating away from the page!** To do this in the notebook, hit the save button in the upper left of the web browswer. To close the notebook, close the tab. To close jupyter notebook in the terminal, press control + C (you may lose any unsaved changes). \n",
    "\n",
    "For more information about the Jupyter Notebook and how to use it, check out the [complete guide](https://jupyter.brynmawr.edu/services/public/dblank/Jupyter%20Notebook%20Users%20Manual.ipynb).\n",
    "\n",
    "## Where to get help:\n",
    "\n",
    "* [Python HELP](https://www.python.org/about/help/) - Collection of links to documentation if you are new to Python\n",
    "* [Python documentation](https://docs.python.org/3/) - Comprehensive Python documentation for version 3.\n",
    "* **`help()` function** - calling the built-in `help([object]`) function will invoke the python documentation.  \n",
    "* More on other [built-in functions](https://docs.python.org/3/library/functions.html) in Python 3 \n",
    "* [Tutorial](https://docs.python.org/3/tutorial/index.html) - Comprehensive Python tutorial - feel free to browse if you are hungry for more after this course! \n",
    "* [Library Reference](https://docs.python.org/3/library/index.html) - Extensive information about the standard Python library \n",
    "* [Scientific Python stack documentation: numpy, scipy, matplotlib](https://scipy.org/docs.html) - Information about some science-specific Python packages\n",
    "* [Stack Overflow](https://stackoverflow.com/) - A general forum commonly used to asked programming questions. Search for answers to your questions before posting your questions!\n",
    "\n",
    "MATLAB-to-Python cheat sheets:  \n",
    "* http://mathesaurus.sourceforge.net/matlab-numpy.html\n",
    "* http://mathesaurus.sourceforge.net/matlab-python-xref.pdf \n"
   ]
  },
  {
   "cell_type": "markdown",
   "metadata": {},
   "source": [
    "## Remember that:\n",
    "\n",
    "* Python is an interpreted language and it executes statements as it receives them.\n",
    "* It ignores lines that begin with '`#`'. These are called 'comments'. \n",
    "* Comments are great, so write them as you go along. You think you will remember, but actually you won't! :) Comments are used to document what the code is doing and why you wrote it that way.\n",
    "* Learning how to code is similar to learning any other language. It will take time and dedication to master it. Don't be frustrated, just go for it and learn from those errors!"
   ]
  },
  {
   "cell_type": "markdown",
   "metadata": {},
   "source": [
    "## Outline of this notebook\n",
    "\n",
    "Today we will go through some basic topics related to coding in Python:\n",
    "\n",
    "[1.1 Intro to Python data types](#intro)\n",
    "\n",
    "* [1.11 Numbers](#numbers)\n",
    "* [1.12 Strings](#string)\n",
    "* [1.13 Lists](#lists)\n",
    "* [1.14 Booleans, if, elif, else statements](#booleans)\n",
    "* [1.15 Tuples](#tuples)\n",
    "* [1.16 Dictionaries](#dictionaries)\n",
    "    \n",
    "[1.2 Handling errors](#errors) \n",
    "\n",
    "[1.3 Easy exercise to tie it all together](#exercise)\n",
    "\n",
    "[1.4 Appendix](#appendix)\n",
    "\n"
   ]
  },
  {
   "cell_type": "markdown",
   "metadata": {},
   "source": [
    "# 1.1 Intro to Python data types <a name=\"intro\">\n",
    "\n",
    "## 1.11 Numbers <a name=\"numbers\">\n",
    "\n",
    "Python has various \"types\" of numbers (numeric literals). We will mainly focus on **integers** (such as 1, 2, 38, -255) and **floating point numbers** (such as 7.6, -0.2628, 2.44e10, or 9e23)."
   ]
  },
  {
   "cell_type": "code",
   "execution_count": 1,
   "metadata": {},
   "outputs": [],
   "source": [
    "int_number = 56"
   ]
  },
  {
   "cell_type": "markdown",
   "metadata": {},
   "source": [
    "In the example above, we created an object named `int_number` with the value 56. If we want to know what type this object is, we can ask Python using the built-in `type()` function: "
   ]
  },
  {
   "cell_type": "code",
   "execution_count": 2,
   "metadata": {
    "collapsed": false,
    "jupyter": {
     "outputs_hidden": false
    }
   },
   "outputs": [
    {
     "data": {
      "text/plain": [
       "int"
      ]
     },
     "execution_count": 2,
     "metadata": {},
     "output_type": "execute_result"
    }
   ],
   "source": [
    "type(int_number)"
   ]
  },
  {
   "cell_type": "markdown",
   "metadata": {},
   "source": [
    "Let's look at some easy basic arithmetic operations"
   ]
  },
  {
   "cell_type": "code",
   "execution_count": 3,
   "metadata": {},
   "outputs": [],
   "source": [
    "a = 1 + 3           # addition\n",
    "b = 1 - 3           # subtraction\n",
    "c = 10.0 * 4        # multiplication \n",
    "d = 10.0 / 4        # division\n",
    "e = 8.5**3          # exponent\n",
    "f = 173 % 12        # modulo\n",
    "g = 1e2             # scientific notation  \n",
    "h = 5 * (c + a)     # parentheses for operator precedence"
   ]
  },
  {
   "cell_type": "markdown",
   "metadata": {},
   "source": [
    "To view any of the values stored in the variables assigned above in a Jupyter Notebook, we can either simply type the object's name (a, b, c, etc.) or use the `print()` function to specifically tell Python to print that object."
   ]
  },
  {
   "cell_type": "code",
   "execution_count": 4,
   "metadata": {
    "collapsed": false,
    "jupyter": {
     "outputs_hidden": false
    }
   },
   "outputs": [
    {
     "data": {
      "text/plain": [
       "2.5"
      ]
     },
     "execution_count": 4,
     "metadata": {},
     "output_type": "execute_result"
    }
   ],
   "source": [
    "d"
   ]
  },
  {
   "cell_type": "code",
   "execution_count": 5,
   "metadata": {
    "collapsed": false,
    "jupyter": {
     "outputs_hidden": false
    }
   },
   "outputs": [
    {
     "name": "stdout",
     "output_type": "stream",
     "text": [
      "2.5\n"
     ]
    }
   ],
   "source": [
    "print(d)"
   ]
  },
  {
   "cell_type": "markdown",
   "metadata": {},
   "source": [
    "The practical difference is that if you need to display more than one object, you cannot simply type the objects name sequentially because you'll get only the latest one. For example:"
   ]
  },
  {
   "cell_type": "code",
   "execution_count": 6,
   "metadata": {
    "collapsed": false,
    "jupyter": {
     "outputs_hidden": false
    }
   },
   "outputs": [
    {
     "data": {
      "text/plain": [
       "100.0"
      ]
     },
     "execution_count": 6,
     "metadata": {},
     "output_type": "execute_result"
    }
   ],
   "source": [
    "d\n",
    "e\n",
    "g"
   ]
  },
  {
   "cell_type": "markdown",
   "metadata": {},
   "source": [
    "You only get the output of `g`. To get them all, you'll have to specifically tell Python to print them all out:"
   ]
  },
  {
   "cell_type": "code",
   "execution_count": 7,
   "metadata": {
    "collapsed": false,
    "jupyter": {
     "outputs_hidden": false
    }
   },
   "outputs": [
    {
     "name": "stdout",
     "output_type": "stream",
     "text": [
      "2.5\n",
      "614.125\n",
      "100.0\n"
     ]
    }
   ],
   "source": [
    "print(d)\n",
    "print(e)\n",
    "print(g)"
   ]
  },
  {
   "cell_type": "markdown",
   "metadata": {},
   "source": [
    "## 1.12 Strings <a name=\"strings\">\n",
    "\n",
    "Strings are used in Python to record text information, such as a name, description, or sentence. Strings in Python are actually a sequence of individual characters (including invisible characters like spaces). We can create an object to hold a string or use them directly."
   ]
  },
  {
   "cell_type": "code",
   "execution_count": 8,
   "metadata": {
    "collapsed": false,
    "jupyter": {
     "outputs_hidden": false
    }
   },
   "outputs": [
    {
     "name": "stdout",
     "output_type": "stream",
     "text": [
      "Hello, Neurocoders!\n"
     ]
    },
    {
     "data": {
      "text/plain": [
       "str"
      ]
     },
     "execution_count": 8,
     "metadata": {},
     "output_type": "execute_result"
    }
   ],
   "source": [
    "# Assign the text 'Hello Neurocoders' to the variable my_string:\n",
    "my_string = \"Hello, Neurocoders!\"\n",
    "print(my_string)\n",
    "type(my_string)"
   ]
  },
  {
   "cell_type": "code",
   "execution_count": 9,
   "metadata": {
    "collapsed": false,
    "jupyter": {
     "outputs_hidden": false
    }
   },
   "outputs": [
    {
     "name": "stdout",
     "output_type": "stream",
     "text": [
      "Hello again!\n"
     ]
    }
   ],
   "source": [
    "# Using strings directly:\n",
    "print('Hello again!')"
   ]
  },
  {
   "cell_type": "markdown",
   "metadata": {},
   "source": [
    "Let's go over some basic and fun string manipulations.\n",
    "Something very useful is figuring out the length (*i.e.*, number of characters) of a string. To do that you can use another built-in function `len()`."
   ]
  },
  {
   "cell_type": "code",
   "execution_count": 10,
   "metadata": {
    "collapsed": false,
    "jupyter": {
     "outputs_hidden": false
    }
   },
   "outputs": [
    {
     "data": {
      "text/plain": [
       "19"
      ]
     },
     "execution_count": 10,
     "metadata": {},
     "output_type": "execute_result"
    }
   ],
   "source": [
    "len(my_string)\n",
    "\n",
    "# Note that the count below includes spaces!"
   ]
  },
  {
   "cell_type": "markdown",
   "metadata": {},
   "source": [
    "### Indexing\n",
    "Indexing is something that we need to learn from day 1! Doing it with strings is fun and easy. So, let's start indexing! <font color='red'>IMPORTANT NOTE: Like most programming languages, in Python the first index is a __0__!!!</font> In some languages (such as R) indexing starts at 1.  \n",
    "\n",
    "Conveniently, strings are sequences, which means Python can use indexes to call specific parts of the sequence. Let's learn how this works.\n",
    "\n",
    "Python uses brackets [ ] after an object to call its index. "
   ]
  },
  {
   "cell_type": "code",
   "execution_count": 11,
   "metadata": {
    "collapsed": false,
    "jupyter": {
     "outputs_hidden": false
    }
   },
   "outputs": [
    {
     "data": {
      "text/plain": [
       "'H'"
      ]
     },
     "execution_count": 11,
     "metadata": {},
     "output_type": "execute_result"
    }
   ],
   "source": [
    "# Show first element (in this case a letter)\n",
    "my_string[0]\n",
    "\n",
    "# now try different indexes"
   ]
  },
  {
   "cell_type": "markdown",
   "metadata": {},
   "source": [
    "### Slicing\n",
    "We can use a \":\" to perform slicing which extracts a subset of the string. For example, we can use the `START:STOP` format to get a slice out of our string:"
   ]
  },
  {
   "cell_type": "code",
   "execution_count": 12,
   "metadata": {
    "collapsed": false,
    "jupyter": {
     "outputs_hidden": false
    }
   },
   "outputs": [
    {
     "data": {
      "text/plain": [
       "'Hell'"
      ]
     },
     "execution_count": 12,
     "metadata": {},
     "output_type": "execute_result"
    }
   ],
   "source": [
    "# Grab the first three letters of my_string\n",
    "my_string[0:4]"
   ]
  },
  {
   "cell_type": "markdown",
   "metadata": {},
   "source": [
    "**Note** that the `STOP` element is excluded from the slicing. Here we're telling Python to grab everything from the 0th element up to the 3rd element, excluded. You'll notice this a lot in Python; statements are usually in the context of `\"up to, but not including\"` (slicing in Python is \"upper-bound exclusive\").\n",
    "\n",
    "If you want to grab everything from the beginning to a certain point or from a certain point to the end you can leave the `START` and `STOP` unspecified using the formats `:STOP` or `START:`\n",
    "\n",
    "An excellent discussion of why this slicing syntax (*i.e.*, starting numbering at 0 and excluding the `STOP` element) works so well is nicely summarized by Dijkstra in [this article](http://www.cs.utexas.edu/users/EWD/transcriptions/EWD08xx/EWD831.html)."
   ]
  },
  {
   "cell_type": "code",
   "execution_count": 13,
   "metadata": {
    "collapsed": false,
    "jupyter": {
     "outputs_hidden": false
    }
   },
   "outputs": [
    {
     "data": {
      "text/plain": [
       "'Hell'"
      ]
     },
     "execution_count": 13,
     "metadata": {},
     "output_type": "execute_result"
    }
   ],
   "source": [
    "my_string[:4]"
   ]
  },
  {
   "cell_type": "code",
   "execution_count": 14,
   "metadata": {
    "collapsed": false,
    "jupyter": {
     "outputs_hidden": false
    }
   },
   "outputs": [],
   "source": [
    "# Now, slice out the last word of my_string, \"Neurocoders!\"\n"
   ]
  },
  {
   "cell_type": "markdown",
   "metadata": {},
   "source": [
    "**Note** that by doing this you did not change the content of the object `my_string`."
   ]
  },
  {
   "cell_type": "code",
   "execution_count": 15,
   "metadata": {
    "collapsed": false,
    "jupyter": {
     "outputs_hidden": false
    }
   },
   "outputs": [
    {
     "name": "stdout",
     "output_type": "stream",
     "text": [
      "Hello, Neurocoders!\n"
     ]
    }
   ],
   "source": [
    "# let's check just in case\n",
    "print(my_string)"
   ]
  },
  {
   "cell_type": "markdown",
   "metadata": {},
   "source": [
    "Sometimes it might be useful to start counting from the back. For instance, if we want to slice out the string \"coders!\", we could do:"
   ]
  },
  {
   "cell_type": "code",
   "execution_count": 16,
   "metadata": {
    "collapsed": false,
    "jupyter": {
     "outputs_hidden": false
    }
   },
   "outputs": [
    {
     "data": {
      "text/plain": [
       "'coders!'"
      ]
     },
     "execution_count": 16,
     "metadata": {},
     "output_type": "execute_result"
    }
   ],
   "source": [
    "my_string[-7:]"
   ]
  },
  {
   "cell_type": "markdown",
   "metadata": {},
   "source": [
    "We can also use index and slice notation to grab elements of a sequence by a specified step size (the default is 1). To do this, we use the format `START:STOP:STEP` as shown below:"
   ]
  },
  {
   "cell_type": "code",
   "execution_count": 17,
   "metadata": {
    "collapsed": false,
    "jupyter": {
     "outputs_hidden": false
    }
   },
   "outputs": [
    {
     "data": {
      "text/plain": [
       "'Hlo ercdr'"
      ]
     },
     "execution_count": 17,
     "metadata": {},
     "output_type": "execute_result"
    }
   ],
   "source": [
    "my_string[0:18:2]"
   ]
  },
  {
   "cell_type": "markdown",
   "metadata": {},
   "source": [
    "or better:"
   ]
  },
  {
   "cell_type": "code",
   "execution_count": 18,
   "metadata": {
    "collapsed": false,
    "jupyter": {
     "outputs_hidden": false
    }
   },
   "outputs": [
    {
     "data": {
      "text/plain": [
       "'Hlo ercdr!'"
      ]
     },
     "execution_count": 18,
     "metadata": {},
     "output_type": "execute_result"
    }
   ],
   "source": [
    "my_string[::2]"
   ]
  },
  {
   "cell_type": "code",
   "execution_count": 19,
   "metadata": {},
   "outputs": [],
   "source": [
    "# Grab every third letter from the beginning to the end of my_string\n"
   ]
  },
  {
   "cell_type": "markdown",
   "metadata": {},
   "source": [
    "### String Properties\n",
    "It is important to note that strings have an important property known as *immutability*. This means that once a string is created, the elements within it cannot be changed or replaced."
   ]
  },
  {
   "cell_type": "code",
   "execution_count": 20,
   "metadata": {
    "collapsed": false,
    "jupyter": {
     "outputs_hidden": false
    }
   },
   "outputs": [
    {
     "ename": "TypeError",
     "evalue": "'str' object does not support item assignment",
     "output_type": "error",
     "traceback": [
      "\u001b[0;31m---------------------------------------------------------------------------\u001b[0m",
      "\u001b[0;31mTypeError\u001b[0m                                 Traceback (most recent call last)",
      "\u001b[0;32m<ipython-input-20-30934555b756>\u001b[0m in \u001b[0;36m<module>\u001b[0;34m()\u001b[0m\n\u001b[1;32m      1\u001b[0m \u001b[0;31m# If you try to change the first character of my_string to 'X' for example...\u001b[0m\u001b[0;34m\u001b[0m\u001b[0;34m\u001b[0m\u001b[0m\n\u001b[0;32m----> 2\u001b[0;31m \u001b[0mmy_string\u001b[0m\u001b[0;34m[\u001b[0m\u001b[0;36m0\u001b[0m\u001b[0;34m]\u001b[0m \u001b[0;34m=\u001b[0m \u001b[0;34m'X'\u001b[0m\u001b[0;34m\u001b[0m\u001b[0m\n\u001b[0m",
      "\u001b[0;31mTypeError\u001b[0m: 'str' object does not support item assignment"
     ]
    }
   ],
   "source": [
    "# If you try to change the first character of my_string to 'X' for example...\n",
    "my_string[0] = 'X'"
   ]
  },
  {
   "cell_type": "markdown",
   "metadata": {},
   "source": [
    "What we can do is manipulate strings using some basic operators, just as we did with numbers:\n",
    "\n",
    "The `+` sign will concatenate two strings and make a new (immutable) string:"
   ]
  },
  {
   "cell_type": "code",
   "execution_count": null,
   "metadata": {
    "collapsed": false,
    "jupyter": {
     "outputs_hidden": false
    }
   },
   "outputs": [],
   "source": [
    "my_string = my_string + \" Let's learn Python together!\"\n",
    "# this can also be shortened as:\n",
    "# my_string += \" Let's learn Python together!\"\n",
    "print(my_string)"
   ]
  },
  {
   "cell_type": "markdown",
   "metadata": {},
   "source": [
    "The operator `*` will repeat the preceding sequence for the specified number of times:"
   ]
  },
  {
   "cell_type": "code",
   "execution_count": null,
   "metadata": {
    "collapsed": false,
    "jupyter": {
     "outputs_hidden": false
    }
   },
   "outputs": [],
   "source": [
    "letter = 'z'\n",
    "print(letter*10)\n",
    "\n",
    "letter = 'ab'\n",
    "print(letter*6)"
   ]
  },
  {
   "cell_type": "markdown",
   "metadata": {},
   "source": [
    "### Basic built-in string methods\n",
    "\n",
    "Programming languages consist of **data structures** and **functions**. Data structures store data. Functions perform actions on data or transfrom data, similar to mathematical functions. For example, many languages include a data structure that holds rational numbers and a function that tells us a number's square root.\n",
    "\n",
    "Python is an **\"object-oriented\" programming language**: everything in it is an *object* that can store data as well as functions that act on that data. The functions associated with an object are referred to as *methods*. Methods are no different than other functions in principle – objects were invented to help programmers group together related data and functions. \n",
    "\n",
    "We use (or call) methods by writing the object's name with a period, followed by the method's name, and any parameters passed to the method in paratheses. Thus, methods are in the form:\n",
    "\n",
    "> `object.method(parameters)`\n",
    "\n",
    "in which parameters are extra arguments we can pass into the method. You can press tab after the period and a list will pop up with the methods associated with that particular object. "
   ]
  },
  {
   "cell_type": "code",
   "execution_count": null,
   "metadata": {},
   "outputs": [],
   "source": [
    "# try identifying what methods are associated with the object my_string:\n"
   ]
  },
  {
   "cell_type": "markdown",
   "metadata": {},
   "source": [
    "Here are a few useful built-in methods for strings:"
   ]
  },
  {
   "cell_type": "code",
   "execution_count": null,
   "metadata": {
    "collapsed": false,
    "jupyter": {
     "outputs_hidden": false
    }
   },
   "outputs": [],
   "source": [
    "# Replace content\n",
    "my_string.replace(\"Neurocoders\", \"Neuroscientists\")\n",
    "\n",
    "# did the content of the original my_string change?"
   ]
  },
  {
   "cell_type": "code",
   "execution_count": null,
   "metadata": {
    "collapsed": false,
    "jupyter": {
     "outputs_hidden": false
    }
   },
   "outputs": [],
   "source": [
    "# Upper Case a string\n",
    "my_string.upper()"
   ]
  },
  {
   "cell_type": "code",
   "execution_count": null,
   "metadata": {
    "collapsed": false,
    "jupyter": {
     "outputs_hidden": false
    }
   },
   "outputs": [],
   "source": [
    "# Lower case\n",
    "my_string.lower()"
   ]
  },
  {
   "cell_type": "code",
   "execution_count": null,
   "metadata": {
    "collapsed": false,
    "jupyter": {
     "outputs_hidden": false
    }
   },
   "outputs": [],
   "source": [
    "# Split the words \n",
    "my_string.split()"
   ]
  },
  {
   "cell_type": "code",
   "execution_count": null,
   "metadata": {
    "collapsed": false,
    "jupyter": {
     "outputs_hidden": false
    }
   },
   "outputs": [],
   "source": [
    "# Split by a specific element (doesn't include the element that was split on)\n",
    "my_string.split('N')"
   ]
  },
  {
   "cell_type": "markdown",
   "metadata": {},
   "source": [
    "Note that what we originally assigned to the object `my_string` **does not change** when we apply a method. Instead, each of these methods created a new string that was displayed and then deleted. In order to save the new string, you would need to assign it to a new object:"
   ]
  },
  {
   "cell_type": "code",
   "execution_count": null,
   "metadata": {
    "collapsed": false,
    "jupyter": {
     "outputs_hidden": false
    }
   },
   "outputs": [],
   "source": [
    "capitalized_my_string = my_string.upper()\n",
    "print(capitalized_my_string)"
   ]
  },
  {
   "cell_type": "markdown",
   "metadata": {},
   "source": [
    "## 1.13 Lists <a name=\"lists\">\n",
    "\n",
    "Lists are objects and can be thought of the most general version of a *sequence* in Python. Lists are one of the most versatile data types in Python. Lists work similarly to strings – you can use the `len()` function to identify how many items are in a list, and square brackets [ ] to access specific data, with the first element at index 0.\n",
    "\n",
    "You create a list by putting square brackets around a comma-separated list of other Python items (and with itmes we mean any data type in Python as lists can contain heterogeneous collection of objects):"
   ]
  },
  {
   "cell_type": "code",
   "execution_count": null,
   "metadata": {},
   "outputs": [],
   "source": [
    "my_list = [1, 2, 3]"
   ]
  },
  {
   "cell_type": "markdown",
   "metadata": {},
   "source": [
    "Unlike strings, lists are *mutable*, meaning the elements inside a list can be changed.  "
   ]
  },
  {
   "cell_type": "code",
   "execution_count": null,
   "metadata": {
    "collapsed": false,
    "jupyter": {
     "outputs_hidden": false
    }
   },
   "outputs": [],
   "source": [
    "my_list[0] = 'one'\n",
    "\n",
    "# The operation above will change the content of my_list permanently!\n",
    "print(my_list)"
   ]
  },
  {
   "cell_type": "markdown",
   "metadata": {},
   "source": [
    "**Note** that the content of `my_list` does **change** when you re-assign one element to something else.\n",
    "\n",
    "Remember what happens when we tried to do the same with `my_string`? "
   ]
  },
  {
   "cell_type": "code",
   "execution_count": null,
   "metadata": {
    "collapsed": false,
    "jupyter": {
     "outputs_hidden": false
    }
   },
   "outputs": [],
   "source": [
    "my_string[0] = 'X'"
   ]
  },
  {
   "cell_type": "markdown",
   "metadata": {},
   "source": [
    "In this case we saw that we could use the method `.replace()` to create a new altered version of `my_string` that to be saved will need to be assigned to another object, `new_string`, but the content of the original `my_string` will not change because strings are *immutable*!"
   ]
  },
  {
   "cell_type": "code",
   "execution_count": null,
   "metadata": {
    "collapsed": false,
    "jupyter": {
     "outputs_hidden": false
    }
   },
   "outputs": [],
   "source": [
    "new_string = my_string.replace('Hello', 'Howdy')\n",
    "print(new_string)\n",
    "print(my_string)"
   ]
  },
  {
   "cell_type": "markdown",
   "metadata": {},
   "source": [
    "Now back to lists! \n",
    "\n",
    "Indexing, slicing, and basic arithmetic manipulation work just as they did in strings. Try grabbing only the last element of `my_list`:"
   ]
  },
  {
   "cell_type": "code",
   "execution_count": null,
   "metadata": {},
   "outputs": [],
   "source": [
    "# Write here\n"
   ]
  },
  {
   "cell_type": "code",
   "execution_count": null,
   "metadata": {
    "collapsed": false,
    "jupyter": {
     "outputs_hidden": false
    }
   },
   "outputs": [],
   "source": [
    "# Since lists are mutable we can add elements to them by using the + sign\n",
    "my_list + [4.0]"
   ]
  },
  {
   "cell_type": "code",
   "execution_count": null,
   "metadata": {
    "collapsed": false,
    "jupyter": {
     "outputs_hidden": false
    }
   },
   "outputs": [],
   "source": [
    "# or we can duplicate their content by multiplying them as if they were numbers\n",
    "my_list * 3"
   ]
  },
  {
   "cell_type": "code",
   "execution_count": null,
   "metadata": {},
   "outputs": [],
   "source": [
    "# Now check what happened to my_list. Did it permanently change it's original content? \n"
   ]
  },
  {
   "cell_type": "markdown",
   "metadata": {},
   "source": [
    "To do so, you would have to reassign the list to make the change permanent."
   ]
  },
  {
   "cell_type": "code",
   "execution_count": null,
   "metadata": {
    "collapsed": false,
    "jupyter": {
     "outputs_hidden": false
    }
   },
   "outputs": [],
   "source": [
    "# Reassign\n",
    "my_list = my_list + [4.0]\n",
    "print(my_list)"
   ]
  },
  {
   "cell_type": "markdown",
   "metadata": {},
   "source": [
    "### Basic built-in list methods\n",
    "\n",
    "We can use the `append()` method to permanently add an item to the end of a list. `append()` adds a single element to the end of a list:"
   ]
  },
  {
   "cell_type": "code",
   "execution_count": null,
   "metadata": {
    "collapsed": false,
    "jupyter": {
     "outputs_hidden": false
    }
   },
   "outputs": [],
   "source": [
    "my_list.append('five')\n",
    "print(my_list)"
   ]
  },
  {
   "cell_type": "markdown",
   "metadata": {},
   "source": [
    "Just as with strings, you can access elements by indexing from the front of the list, using positive numbers, or from the back of the list, using negative numbers. "
   ]
  },
  {
   "cell_type": "code",
   "execution_count": null,
   "metadata": {
    "collapsed": false,
    "jupyter": {
     "outputs_hidden": false
    }
   },
   "outputs": [],
   "source": [
    "print(my_list[2])\n",
    "print(my_list[-2])"
   ]
  },
  {
   "cell_type": "markdown",
   "metadata": {},
   "source": [
    "`append()` is a very useful method. We can append any other object, including another list! That makes `my_list` a \"nested list\"."
   ]
  },
  {
   "cell_type": "code",
   "execution_count": null,
   "metadata": {
    "collapsed": false,
    "jupyter": {
     "outputs_hidden": false
    }
   },
   "outputs": [],
   "source": [
    "my_list.append([\"six\",7])\n",
    "print(my_list)"
   ]
  },
  {
   "cell_type": "markdown",
   "metadata": {},
   "source": [
    "Now you can get the nested list using:"
   ]
  },
  {
   "cell_type": "code",
   "execution_count": null,
   "metadata": {
    "collapsed": false,
    "jupyter": {
     "outputs_hidden": false
    }
   },
   "outputs": [],
   "source": [
    "my_list[-1]"
   ]
  },
  {
   "cell_type": "markdown",
   "metadata": {},
   "source": [
    "Indexes may be combined to navigate to a particular element in a nested list:"
   ]
  },
  {
   "cell_type": "code",
   "execution_count": null,
   "metadata": {
    "collapsed": false,
    "jupyter": {
     "outputs_hidden": false
    }
   },
   "outputs": [],
   "source": [
    "my_list[-1][0]"
   ]
  },
  {
   "cell_type": "markdown",
   "metadata": {},
   "source": [
    "If you want to append more than one element at the time without creating a new list, you can't just do:"
   ]
  },
  {
   "cell_type": "code",
   "execution_count": null,
   "metadata": {
    "collapsed": false,
    "jupyter": {
     "outputs_hidden": false
    }
   },
   "outputs": [],
   "source": [
    "my_list.append(8, 9, 'ten')\n",
    "print(my_list)"
   ]
  },
  {
   "cell_type": "markdown",
   "metadata": {},
   "source": [
    "You need to use anothe menthod called `extend()`:"
   ]
  },
  {
   "cell_type": "code",
   "execution_count": null,
   "metadata": {
    "collapsed": false,
    "jupyter": {
     "outputs_hidden": false
    }
   },
   "outputs": [],
   "source": [
    "my_list.extend([8, 9, 'ten'])\n",
    "print(my_list)"
   ]
  },
  {
   "cell_type": "markdown",
   "metadata": {},
   "source": [
    "This is the same as using \"in-place addition\":"
   ]
  },
  {
   "cell_type": "code",
   "execution_count": null,
   "metadata": {
    "collapsed": false,
    "jupyter": {
     "outputs_hidden": false
    }
   },
   "outputs": [],
   "source": [
    "my_list += [11, 'twelve']\n",
    "print(my_list)"
   ]
  },
  {
   "cell_type": "markdown",
   "metadata": {},
   "source": [
    "The `insert()` method injects a new element into a list at a particular index. So we could inject the number 8.5 into our list:"
   ]
  },
  {
   "cell_type": "code",
   "execution_count": null,
   "metadata": {
    "collapsed": false,
    "jupyter": {
     "outputs_hidden": false
    }
   },
   "outputs": [],
   "source": [
    "my_list.insert(7, 8.5)\n",
    "print(my_list)"
   ]
  },
  {
   "cell_type": "markdown",
   "metadata": {},
   "source": [
    "If instead you want to remove a specific element, you can use the `remove([value])` method:"
   ]
  },
  {
   "cell_type": "code",
   "execution_count": null,
   "metadata": {
    "collapsed": false,
    "jupyter": {
     "outputs_hidden": false
    }
   },
   "outputs": [],
   "source": [
    "my_list.remove(8.5)\n",
    "print(my_list)"
   ]
  },
  {
   "cell_type": "markdown",
   "metadata": {},
   "source": [
    "The `pop([index])` method is another way to remove an element from a list, but by index rather than by value."
   ]
  },
  {
   "cell_type": "code",
   "execution_count": null,
   "metadata": {},
   "outputs": [],
   "source": [
    "my_list.pop(7)\n",
    "print(my_list)"
   ]
  },
  {
   "cell_type": "markdown",
   "metadata": {},
   "source": [
    "So this removed the element at index 7, returning the value that was removed so now you can use that value in some other operation.  This is similar to using the operator `del` as `del my_list[7]`. Note that `del` doesn't return the element, it just gets rid of it:"
   ]
  },
  {
   "cell_type": "code",
   "execution_count": null,
   "metadata": {
    "collapsed": false,
    "jupyter": {
     "outputs_hidden": false
    }
   },
   "outputs": [],
   "source": [
    "del my_list[7]\n",
    "print(my_list)"
   ]
  },
  {
   "cell_type": "markdown",
   "metadata": {},
   "source": [
    "By default `pop()` used without any arguments, pops off the last index:"
   ]
  },
  {
   "cell_type": "code",
   "execution_count": null,
   "metadata": {
    "collapsed": false,
    "jupyter": {
     "outputs_hidden": false
    }
   },
   "outputs": [],
   "source": [
    "my_list.pop()\n",
    "print(my_list)"
   ]
  },
  {
   "cell_type": "markdown",
   "metadata": {},
   "source": [
    "The `sort()` method called without any argument will sort the elements in ascending order:"
   ]
  },
  {
   "cell_type": "code",
   "execution_count": null,
   "metadata": {
    "collapsed": false,
    "jupyter": {
     "outputs_hidden": false
    }
   },
   "outputs": [],
   "source": [
    "my_list.sort()\n",
    "print(my_list)"
   ]
  },
  {
   "cell_type": "markdown",
   "metadata": {},
   "source": [
    "Note that there is also the `sorted()` function that is not specific to lists and has slightly different applicability. Check out [this documentation](https://docs.python.org/3/howto/sorting.html).\n",
    "\n",
    "The `reverse()` method reverses the elements of the list in-place:"
   ]
  },
  {
   "cell_type": "code",
   "execution_count": null,
   "metadata": {},
   "outputs": [],
   "source": [
    "my_list.reverse()\n",
    "print(my_list)"
   ]
  },
  {
   "cell_type": "markdown",
   "metadata": {},
   "source": [
    "**Exercise:**\n",
    "\n",
    ">- Create a list with three string elements: \n",
    "    `sentence = ['Python.', 'learning', 'am', 'I']`;\n",
    "- Reverse the order;\n",
    "- Use the string method `.join()` to create a string `my_string` and print `my_string`.\n",
    "\n",
    "Need a [hint](https://www.decalage.info/en/python/print_list) for that last point?"
   ]
  },
  {
   "cell_type": "code",
   "execution_count": null,
   "metadata": {
    "collapsed": false,
    "jupyter": {
     "outputs_hidden": false
    }
   },
   "outputs": [],
   "source": [
    "# Here goes your code\n"
   ]
  },
  {
   "cell_type": "markdown",
   "metadata": {},
   "source": [
    "### Range\n",
    "\n",
    "The `range()` built-in function quickly creates a list of integers.\n",
    "\n",
    "The simplest way to use `range()` is to specify the number of elements or just specify the stop value:"
   ]
  },
  {
   "cell_type": "code",
   "execution_count": null,
   "metadata": {},
   "outputs": [],
   "source": [
    "range(5)"
   ]
  },
  {
   "cell_type": "markdown",
   "metadata": {},
   "source": [
    "This creates a list of 5 elements, 0 through 4. This follows the same conventions as slicing: when you specify a `START` value, it is included; when you specify a `STOP` value, it is excluded."
   ]
  },
  {
   "cell_type": "code",
   "execution_count": null,
   "metadata": {},
   "outputs": [],
   "source": [
    "# Use the function range() to create a list called \"a\" that starts from number 3 and goes to 20\n"
   ]
  },
  {
   "cell_type": "code",
   "execution_count": null,
   "metadata": {},
   "outputs": [],
   "source": [
    "# Use the function range() to create a list called even_numbers that includes all even numbers\n",
    "# from 0 to 20, 20 included\n"
   ]
  },
  {
   "cell_type": "markdown",
   "metadata": {},
   "source": [
    "[More on Lists](http://thomas-cokelaer.info/tutorials/python/lists.html) and more [list's methods](https://www.programiz.com/python-programming/methods/list/append)"
   ]
  },
  {
   "cell_type": "markdown",
   "metadata": {},
   "source": [
    "## 1.14 Booleans, special values, and if, elif, and else statements <a name=\"booleans\">\n",
    "\n",
    "<img src=\"https://upload.wikimedia.org/wikipedia/commons/7/73/PSM_V17_D740_George_Boole.jpg\" width=\"150\" height=\"150\" />\n",
    "\n",
    "George Boole (1815–1864) was an English mathematician, educator, philosopher, and logician. He first defined an algebraic system of logic that is still used today (or at least his name is still used!). \n",
    "\n",
    "A **Boolean data type** is a data type that has two values (usually denoted True and False).\n",
    "\n",
    "Python comes with Booleans that may take on the values of either `True` or `False`.  Let's walk through a few quick examples of Booleans."
   ]
  },
  {
   "cell_type": "code",
   "execution_count": null,
   "metadata": {},
   "outputs": [],
   "source": [
    "# Set object to be a boolean\n",
    "a = True \n",
    "# Note that \"True\" capitalized is recognized by Python as a special character, \n",
    "# and it's case sensitive (true or TRUE won't work!)"
   ]
  },
  {
   "cell_type": "markdown",
   "metadata": {},
   "source": [
    "We can ask Python if `a` is actually `True`:"
   ]
  },
  {
   "cell_type": "code",
   "execution_count": null,
   "metadata": {
    "collapsed": false,
    "jupyter": {
     "outputs_hidden": false
    }
   },
   "outputs": [],
   "source": [
    "a is True"
   ]
  },
  {
   "cell_type": "code",
   "execution_count": null,
   "metadata": {},
   "outputs": [],
   "source": [
    "b = False"
   ]
  },
  {
   "cell_type": "code",
   "execution_count": null,
   "metadata": {
    "collapsed": false,
    "jupyter": {
     "outputs_hidden": false
    }
   },
   "outputs": [],
   "source": [
    "b is True"
   ]
  },
  {
   "cell_type": "markdown",
   "metadata": {},
   "source": [
    "We can also ask Python to compare two numbers using \"comparison operators\". Python will answer with a boolean:"
   ]
  },
  {
   "cell_type": "code",
   "execution_count": null,
   "metadata": {
    "collapsed": false,
    "jupyter": {
     "outputs_hidden": false
    }
   },
   "outputs": [],
   "source": [
    "1 > 2"
   ]
  },
  {
   "cell_type": "markdown",
   "metadata": {},
   "source": [
    "Booleans are very useful in programming. We will see this more in depth in the next days, but let's introduce you to the concept of **if, elif, and else Statements**:\n",
    "\n",
    "`if` statements in Python allow you to tell the computer to perform alternative actions based on a certain set of results.\n",
    "\n",
    "Verbally, we can imagine we are telling the computer:\n",
    "\n",
    "\"Hey if this happens, do this\"\n",
    "\n",
    "We can then expand the idea further with `elif` and `else` statements, which allow us to tell the computer:\n",
    "\n",
    "\"Hey if this happens, do this. Else if another case happens, do this other thing. Else none of the above cases happened, do this last thing.\"\n",
    "\n",
    "We can write some \"pseudocode\" to illustrate this and then jump into coding it in Python:\n",
    "\n",
    "    if case1:\n",
    "        perform action1\n",
    "    elif case2:\n",
    "        perform action2\n",
    "    else: \n",
    "        perform action 3  \n",
    "        \n",
    " Let's try a few examples:"
   ]
  },
  {
   "cell_type": "code",
   "execution_count": null,
   "metadata": {
    "collapsed": false,
    "jupyter": {
     "outputs_hidden": false
    }
   },
   "outputs": [],
   "source": [
    "if a is True:\n",
    "    print('It was true!')"
   ]
  },
  {
   "cell_type": "code",
   "execution_count": null,
   "metadata": {},
   "outputs": [],
   "source": [
    "if b is True:\n",
    "    print('It was true!')"
   ]
  },
  {
   "cell_type": "markdown",
   "metadata": {},
   "source": [
    "Note that you have no output when you run the previous cell. This is because `b` is `False`. We can expand on this to print a message either way:"
   ]
  },
  {
   "cell_type": "code",
   "execution_count": null,
   "metadata": {
    "collapsed": false,
    "jupyter": {
     "outputs_hidden": false
    }
   },
   "outputs": [],
   "source": [
    "if b is True:\n",
    "    print('It was true!')\n",
    "else:\n",
    "    print('It was false!')"
   ]
  },
  {
   "cell_type": "markdown",
   "metadata": {},
   "source": [
    "We can expand on this even further to control for the case in which the object evaluated is not `True` or `False`:"
   ]
  },
  {
   "cell_type": "code",
   "execution_count": null,
   "metadata": {
    "collapsed": false,
    "jupyter": {
     "outputs_hidden": false
    }
   },
   "outputs": [],
   "source": [
    "c = 5.2\n",
    "if c is True:\n",
    "    print('It was true!')\n",
    "elif c is False:\n",
    "    print('It was false!')\n",
    "else: \n",
    "    print('It was not Boolean!')"
   ]
  },
  {
   "cell_type": "markdown",
   "metadata": {},
   "source": [
    "Now let's introduce **logic operators** syntax, starting with the double equals operator (`==`), which tests the equality of two objects and returns a boolean value. "
   ]
  },
  {
   "cell_type": "code",
   "execution_count": null,
   "metadata": {
    "collapsed": false,
    "jupyter": {
     "outputs_hidden": false
    }
   },
   "outputs": [],
   "source": [
    "# Example 1\n",
    "person = 'Eli'\n",
    "\n",
    "if person == 'Morgan':\n",
    "    print('Welcome Morgan!')\n",
    "elif person == 'Eli':\n",
    "    print('Welcome Eli!')\n",
    "else:\n",
    "    print(\"Welcome! what's your name?\") \n",
    "    \n",
    "# Try changing the string assigned to the object \"person\" to your name to get the \n",
    "# else output message"
   ]
  },
  {
   "cell_type": "code",
   "execution_count": null,
   "metadata": {
    "collapsed": false,
    "jupyter": {
     "outputs_hidden": false
    }
   },
   "outputs": [],
   "source": [
    "# Example 2\n",
    "# We have 20 hungry graduate students\n",
    "students = 20\n",
    "beer_cans = 20\n",
    "pizza_slices = 10 # each pizza feeds 2 graduate students\n",
    "\n",
    "if students > beer_cans or students > pizza_slices:\n",
    "    print(\"There is not enough pizza or beer!\")\n",
    "else:\n",
    "    print('Time for a rocking party!')"
   ]
  },
  {
   "cell_type": "markdown",
   "metadata": {},
   "source": [
    "Python also has a special value known as `None`. None can be used in various contexts, but is typically used to indicate that a value does not exist or has not been initialized yet. In data science, it can be used to indicate missing data (as you will see in later sessions)."
   ]
  },
  {
   "cell_type": "code",
   "execution_count": null,
   "metadata": {
    "collapsed": false,
    "jupyter": {
     "outputs_hidden": false
    }
   },
   "outputs": [],
   "source": [
    "person = None\n",
    "    \n",
    "# Test if the value is None\n",
    "if person is None:\n",
    "    print('We have not met before, what is your name?')\n",
    "    \n",
    "# Test if the value is not None\n",
    "if person is not None:\n",
    "    print('We have met. Hello ' + person + '!')"
   ]
  },
  {
   "cell_type": "markdown",
   "metadata": {},
   "source": [
    "While you can also use the double equals (`==`) operator to check whether a value is `None`, it is considered more \"Pythonic\" to test whether the value `is` None (more on this [here](https://docs.quantifiedcode.com/python-anti-patterns/readability/comparison_to_none.html))."
   ]
  },
  {
   "cell_type": "code",
   "execution_count": null,
   "metadata": {
    "collapsed": false,
    "jupyter": {
     "outputs_hidden": false
    }
   },
   "outputs": [],
   "source": [
    "print(None == None)\n",
    "print(None is None)"
   ]
  },
  {
   "cell_type": "markdown",
   "metadata": {},
   "source": [
    "## 1.15 Tuples <a name=\"tuples\">\n",
    "\n",
    "Tuples are very similar to lists but, unlike lists, they are *immutable* meaning they can not be changed. You can use tuples to present things that shouldn't be changed, such as days of the week, or dates on a calendar. \n",
    "\n",
    "Tuples are constructed by useing `()` with elements separated by commas. For example:"
   ]
  },
  {
   "cell_type": "code",
   "execution_count": null,
   "metadata": {},
   "outputs": [],
   "source": [
    "my_tuple = (1,2,'foo')"
   ]
  },
  {
   "cell_type": "code",
   "execution_count": null,
   "metadata": {
    "collapsed": false,
    "jupyter": {
     "outputs_hidden": false
    }
   },
   "outputs": [],
   "source": [
    "len(my_tuple)"
   ]
  },
  {
   "cell_type": "markdown",
   "metadata": {},
   "source": [
    "Indexing works just like for lists:"
   ]
  },
  {
   "cell_type": "code",
   "execution_count": null,
   "metadata": {
    "collapsed": false,
    "jupyter": {
     "outputs_hidden": false
    }
   },
   "outputs": [],
   "source": [
    "my_tuple[0]"
   ]
  },
  {
   "cell_type": "code",
   "execution_count": null,
   "metadata": {
    "collapsed": false,
    "jupyter": {
     "outputs_hidden": false
    }
   },
   "outputs": [],
   "source": [
    "# Slicing just like lists\n",
    "my_tuple[-1]"
   ]
  },
  {
   "cell_type": "markdown",
   "metadata": {},
   "source": [
    "But since they are immutable, you can't reassign a value to an index. So if we try:"
   ]
  },
  {
   "cell_type": "code",
   "execution_count": null,
   "metadata": {
    "collapsed": false,
    "jupyter": {
     "outputs_hidden": false
    }
   },
   "outputs": [],
   "source": [
    "my_tuple[-1] = 'goo'"
   ]
  },
  {
   "cell_type": "markdown",
   "metadata": {},
   "source": [
    "### Basic built-in tuple methods\n",
    "\n",
    "Tuples have built-in methods, but not as many as lists do as they are less versatile. Just as we did before, we can explore them by putting a \".\" after our tuple and press Tab. "
   ]
  },
  {
   "cell_type": "code",
   "execution_count": null,
   "metadata": {
    "collapsed": false,
    "jupyter": {
     "outputs_hidden": false
    }
   },
   "outputs": [],
   "source": [
    "# Use index() to enter a value and return the index\n",
    "my_tuple.index('foo')"
   ]
  },
  {
   "cell_type": "code",
   "execution_count": null,
   "metadata": {
    "collapsed": false,
    "jupyter": {
     "outputs_hidden": false
    }
   },
   "outputs": [],
   "source": [
    "# Use count() to count the number of times a value appears\n",
    "my_tuple.count(1)"
   ]
  },
  {
   "cell_type": "markdown",
   "metadata": {},
   "source": [
    "Because of this immutability, tuples can't grow. Once a tuple is made we can not add to it."
   ]
  },
  {
   "cell_type": "code",
   "execution_count": null,
   "metadata": {
    "collapsed": false,
    "jupyter": {
     "outputs_hidden": false
    }
   },
   "outputs": [],
   "source": [
    "my_tuple.append(2.2)"
   ]
  },
  {
   "cell_type": "markdown",
   "metadata": {},
   "source": [
    "You may be wondering, *\"Why bother using tuples when they have fewer available methods?\"* Even if tuples are not used as often as lists in programming, they are used when immutability is necessary (for instance as `keys` in a dictionary, as we will see next). \n",
    "\n",
    "If in your program you are passing around an object and need to make sure it does not get changed, then tuple become your solution. This provides a convenient source of data integrity."
   ]
  },
  {
   "cell_type": "markdown",
   "metadata": {},
   "source": [
    "## 1.16 Dictionaries <a name=\"dictionaries\">\n",
    "\n",
    "In any language, dictionaries associate words to words' definitions. Words might have multiple definitions, but all definitions are associated with a unique word's entry in the dictionary.\n",
    "\n",
    "This maps to the data structure very well: each entry is a `key:value` pair, in which keys are the words, and values are the definitions. If there are multiple definitions, you might instead have a list of definitions.\n",
    "\n",
    "One way to create an empty dictionary, is to use curly `{}` brackets.\n",
    "\n",
    "Let's create our first dictionary in Python:"
   ]
  },
  {
   "cell_type": "code",
   "execution_count": null,
   "metadata": {},
   "outputs": [],
   "source": [
    "my_dict = {}"
   ]
  },
  {
   "cell_type": "markdown",
   "metadata": {},
   "source": [
    "We can then inject entries into the dictionary using indexing notation to set the value for a key. So for example, if the word (key) is `'include'` and the definition (value) is `'comprise or contain as part of a whole'`, then we create the entry like this:"
   ]
  },
  {
   "cell_type": "code",
   "execution_count": null,
   "metadata": {
    "collapsed": false,
    "jupyter": {
     "outputs_hidden": false
    }
   },
   "outputs": [],
   "source": [
    "my_dict['include'] = 'comprise or contain as part of a whole.'\n",
    "print(my_dict)"
   ]
  },
  {
   "cell_type": "markdown",
   "metadata": {},
   "source": [
    "We can go on and add another `key:value` entry to `my_dict`:"
   ]
  },
  {
   "cell_type": "code",
   "execution_count": null,
   "metadata": {
    "collapsed": false,
    "jupyter": {
     "outputs_hidden": false
    }
   },
   "outputs": [],
   "source": [
    "my_dict['exclude'] = 'deny access from a place, group, or privilege.'\n",
    "print(my_dict)"
   ]
  },
  {
   "cell_type": "markdown",
   "metadata": {},
   "source": [
    "Note the repeated structure of `key:value` in the dictionary. When you inspect a dictionary, it may print the keys in alphabetical order, this is not an intrinisc characteristic of a dictionary: **there is no order for the keys in a dictionary** (*i.e.*, dictionaries are *unordered* data types).\n",
    "\n",
    "The only guarantee that a dictionary makes is that you have a single key associated with a value in the dictionary. It is an unordered mapping of *unique* keys to values.\n",
    "\n",
    "To look up the `value` of a `key` in a dictionary, use indexing notation with the `key`: "
   ]
  },
  {
   "cell_type": "code",
   "execution_count": null,
   "metadata": {
    "collapsed": false,
    "jupyter": {
     "outputs_hidden": false
    }
   },
   "outputs": [],
   "source": [
    "my_dict['exclude']"
   ]
  },
  {
   "cell_type": "code",
   "execution_count": null,
   "metadata": {},
   "outputs": [],
   "source": [
    "# now look up the other key\n"
   ]
  },
  {
   "cell_type": "code",
   "execution_count": null,
   "metadata": {},
   "outputs": [],
   "source": [
    "# What do you think will happen if we ask:\n",
    "my_dict[0]\n",
    "\n",
    "# Why?"
   ]
  },
  {
   "cell_type": "markdown",
   "metadata": {},
   "source": [
    "If you do not know the keys of the dictionary, you can use the dict method `keys()`:"
   ]
  },
  {
   "cell_type": "code",
   "execution_count": null,
   "metadata": {
    "collapsed": false,
    "jupyter": {
     "outputs_hidden": false
    }
   },
   "outputs": [],
   "source": [
    "print(my_dict.keys())"
   ]
  },
  {
   "cell_type": "markdown",
   "metadata": {},
   "source": [
    "**Examples using dictionaries:**\n",
    "Let's build a database with records holding the fields \"first\" as for first name, \"last\" as for last name, and \"year\" as year in grad school. The result of a query to this database might produce a list of dictionaries which looks something like this:"
   ]
  },
  {
   "cell_type": "code",
   "execution_count": null,
   "metadata": {
    "collapsed": false,
    "jupyter": {
     "outputs_hidden": false
    }
   },
   "outputs": [],
   "source": [
    "students = [\n",
    "    {'first': 'Daniela', 'last': 'Saderi', 'year': 6},\n",
    "    {'first': 'Charlie', 'last': 'Heller', 'year': 2},\n",
    "    {'first': 'Luci', 'last': 'Moore', 'year': 5}\n",
    "]"
   ]
  },
  {
   "cell_type": "markdown",
   "metadata": {},
   "source": [
    "**Exercise:**\n",
    ">* What's the `type` of the object `students`? What's the type of the first element of the object `students`?\n",
    "* Use indexing to pull out the for the first element (0th index) of the object `students`\n",
    "* Use indexing to pull out the `value` associated to the `key` '`first'`\n",
    "* What do you notice about this structure?"
   ]
  },
  {
   "cell_type": "code",
   "execution_count": null,
   "metadata": {},
   "outputs": [],
   "source": [
    "# Write here\n"
   ]
  },
  {
   "cell_type": "markdown",
   "metadata": {},
   "source": [
    "Another way to create a dictionary is by calling the function `dict` with a list of tuples as `(key, value)` pairs."
   ]
  },
  {
   "cell_type": "code",
   "execution_count": null,
   "metadata": {
    "collapsed": false,
    "jupyter": {
     "outputs_hidden": false
    }
   },
   "outputs": [],
   "source": [
    "lab_inventory = dict([('gauze (box)', 4), ('q-tips (packages)', 3), \n",
    "                      ('alcohol bottles', 5), ('fine FST forceps', 10)])\n",
    "print(lab_inventory)"
   ]
  },
  {
   "cell_type": "markdown",
   "metadata": {},
   "source": [
    "If there is a new delivery of 10 more boxes of gauze, here is how you add it:"
   ]
  },
  {
   "cell_type": "code",
   "execution_count": null,
   "metadata": {
    "collapsed": false,
    "jupyter": {
     "outputs_hidden": false
    }
   },
   "outputs": [],
   "source": [
    "# Access the key 'gauze (box) by indexing it as we did before, then use the \"in place addition\"\n",
    "# to add 10 more elements to the value of that key\n",
    "lab_inventory['gauze (box)'] += 10\n",
    "print(lab_inventory)"
   ]
  },
  {
   "cell_type": "markdown",
   "metadata": {},
   "source": [
    "### What Can be used as `key`?\n",
    "\n",
    "Values in dictionaries can be anything. Keys, on the other hand, must be immutable.\n",
    "\n",
    "* Integers and strings are very common keys\n",
    "* Floats (or even complex) can be used, but aren't recommended because of round-off errors\n",
    "* Tuples and frozensets (don't worry about them for now) are also allowed for keys\n",
    "* Lists and dictionaries are *not* allowed for keys because they are mutable.\n",
    "\n",
    "Let's see an example in which we would use tuples as keys:"
   ]
  },
  {
   "cell_type": "code",
   "execution_count": null,
   "metadata": {},
   "outputs": [],
   "source": [
    "connections = {}"
   ]
  },
  {
   "cell_type": "markdown",
   "metadata": {},
   "source": [
    "If we have a connection, say, _from_ New York _to_ Seattle with 100 flights, then we create an entry for that in the dictionary with key `('New York', 'Seattle')` and value 100:"
   ]
  },
  {
   "cell_type": "code",
   "execution_count": null,
   "metadata": {},
   "outputs": [],
   "source": [
    "connections[('New York', 'Seattle')] = 100"
   ]
  },
  {
   "cell_type": "markdown",
   "metadata": {},
   "source": [
    "We might also have 200 flights from Austin to New York, but 400 flights from New York to Austin:"
   ]
  },
  {
   "cell_type": "code",
   "execution_count": null,
   "metadata": {
    "collapsed": false,
    "jupyter": {
     "outputs_hidden": false
    }
   },
   "outputs": [],
   "source": [
    "connections[('Austin', 'New York')] = 200\n",
    "connections[('New York', 'Austin')] = 400\n",
    "print(connections)"
   ]
  },
  {
   "cell_type": "markdown",
   "metadata": {},
   "source": [
    "Query the key `('New York', 'Austin')`:"
   ]
  },
  {
   "cell_type": "code",
   "execution_count": null,
   "metadata": {},
   "outputs": [],
   "source": [
    "# Your code goes here\n"
   ]
  },
  {
   "cell_type": "markdown",
   "metadata": {},
   "source": [
    "### Dictionary methods\n",
    "Dictionaries are objects, and so they have methods.\n",
    "\n",
    "Let's start with the `my_dict` dictionary example from before:"
   ]
  },
  {
   "cell_type": "code",
   "execution_count": null,
   "metadata": {
    "collapsed": false,
    "jupyter": {
     "outputs_hidden": false
    }
   },
   "outputs": [],
   "source": [
    "print(my_dict)"
   ]
  },
  {
   "cell_type": "markdown",
   "metadata": {},
   "source": [
    "#### Accessing items with `get()`\n",
    "\n",
    "In addition to indexing a key to get out the value (`dict[key]`), you can also access values with the `get()` method. Get returns the value associated with a key, like indexing, but if the key doesn't exist it doesn't raise an error, but instead returns a default value `None`."
   ]
  },
  {
   "cell_type": "code",
   "execution_count": null,
   "metadata": {
    "collapsed": false,
    "jupyter": {
     "outputs_hidden": false
    }
   },
   "outputs": [],
   "source": [
    "my_dict.get('exclude')"
   ]
  },
  {
   "cell_type": "markdown",
   "metadata": {},
   "source": [
    "#### Removing items with keyword `del()`\n",
    "\n",
    "To remove an element from a dictionary, you can use the `del` keyword (same in lists).  You specify the key of the element that you want to remove using indexing notation:"
   ]
  },
  {
   "cell_type": "code",
   "execution_count": null,
   "metadata": {
    "collapsed": false,
    "jupyter": {
     "outputs_hidden": false
    }
   },
   "outputs": [],
   "source": [
    "del my_dict['exclude']\n",
    "print(my_dict)"
   ]
  },
  {
   "cell_type": "markdown",
   "metadata": {},
   "source": [
    "#### Removing items with method `pop()`\n",
    "\n",
    "You can also use the `pop()` method, similarly to the way we used it in lists. The `pop()` method expects the key that you want to remove and returns the corresponding value. This allows you to assign the value of the key that you pop out to another variable. You can also use `popitem()` to randomely remove any entry from your dictionary."
   ]
  },
  {
   "cell_type": "code",
   "execution_count": null,
   "metadata": {
    "collapsed": false,
    "jupyter": {
     "outputs_hidden": false
    }
   },
   "outputs": [],
   "source": [
    "my_dict.pop('include')\n",
    "print(my_dict)"
   ]
  },
  {
   "cell_type": "markdown",
   "metadata": {},
   "source": [
    "#### Modifying dictionaries with `update()`\n",
    "\n",
    "Let's make a new dictionary called `student` with 3 keys\n",
    "* first: YOUR FIRST NAME (add a spelling mistake here)\n",
    "* last: YOUR LAST NAME\n",
    "* age: YOUR AGE  \n",
    "\n",
    "You can use `dict` or add one entry at the time after creating the empty dictionary."
   ]
  },
  {
   "cell_type": "code",
   "execution_count": null,
   "metadata": {
    "collapsed": false,
    "jupyter": {
     "outputs_hidden": false
    }
   },
   "outputs": [],
   "source": [
    "# create your dict here\n"
   ]
  },
  {
   "cell_type": "markdown",
   "metadata": {},
   "source": [
    "Then let's say we want to modify that entry with the spelling mistake, and we want to add the middle name. How do we do that?\n",
    "\n",
    "First we create a modification (sobstitute with your entries) and then we use update() to update the original dict:"
   ]
  },
  {
   "cell_type": "code",
   "execution_count": null,
   "metadata": {
    "collapsed": false,
    "jupyter": {
     "outputs_hidden": false
    }
   },
   "outputs": [],
   "source": [
    "student_modification = {'first': 'Daniela', 'middle': 'Eli'}\n",
    "student.update(student_modification)\n",
    "print(student)"
   ]
  },
  {
   "cell_type": "markdown",
   "metadata": {},
   "source": [
    "#### More useful dict methods\n",
    "Let's start out with a `cell_count` dict that has a collection of cell types that you can count in your field of view at a confocal:"
   ]
  },
  {
   "cell_type": "code",
   "execution_count": null,
   "metadata": {},
   "outputs": [],
   "source": [
    "cell_count = {'neurons': 110, 'astrocytes': 500, 'uncategorized': 33}"
   ]
  },
  {
   "cell_type": "markdown",
   "metadata": {},
   "source": [
    "You can ask if there are pv positive neurons in your collection and Python will answer with a `False` or `True` boolean operetor:"
   ]
  },
  {
   "cell_type": "code",
   "execution_count": null,
   "metadata": {
    "collapsed": false,
    "jupyter": {
     "outputs_hidden": false
    }
   },
   "outputs": [],
   "source": [
    "'pv+' in cell_count"
   ]
  },
  {
   "cell_type": "code",
   "execution_count": null,
   "metadata": {
    "collapsed": false,
    "jupyter": {
     "outputs_hidden": false
    }
   },
   "outputs": [],
   "source": [
    "# Ask if there are any neurons\n"
   ]
  },
  {
   "cell_type": "markdown",
   "metadata": {},
   "source": [
    "If you want to know the list of cell types that are in the collection, you can use the `keys()` method:"
   ]
  },
  {
   "cell_type": "code",
   "execution_count": null,
   "metadata": {
    "collapsed": false,
    "jupyter": {
     "outputs_hidden": false
    }
   },
   "outputs": [],
   "source": [
    "cell_count.keys()"
   ]
  },
  {
   "cell_type": "markdown",
   "metadata": {},
   "source": [
    "Similarly if you want to know about the values..."
   ]
  },
  {
   "cell_type": "code",
   "execution_count": null,
   "metadata": {
    "collapsed": false,
    "jupyter": {
     "outputs_hidden": false
    }
   },
   "outputs": [],
   "source": [
    "cell_count.values()"
   ]
  },
  {
   "cell_type": "markdown",
   "metadata": {},
   "source": [
    "To get a list of the pairs of cell types and the corresponding number, you can use `items()`:"
   ]
  },
  {
   "cell_type": "code",
   "execution_count": null,
   "metadata": {
    "collapsed": false,
    "jupyter": {
     "outputs_hidden": false
    }
   },
   "outputs": [],
   "source": [
    "cell_count.items()"
   ]
  },
  {
   "cell_type": "markdown",
   "metadata": {},
   "source": [
    "If you want to know the total number of cells, you could sum up the list of values:"
   ]
  },
  {
   "cell_type": "code",
   "execution_count": null,
   "metadata": {
    "collapsed": false,
    "jupyter": {
     "outputs_hidden": false
    }
   },
   "outputs": [],
   "source": [
    "sum(cell_count.values())"
   ]
  },
  {
   "cell_type": "markdown",
   "metadata": {},
   "source": [
    "**Exercise:**   \n",
    "\n",
    "> * Add 100 neurons to the entry \"neurons\"\n",
    "* Add a new entry `'pv+':144`\n",
    "* Check your work printing the content of `cell_count`"
   ]
  },
  {
   "cell_type": "code",
   "execution_count": null,
   "metadata": {
    "collapsed": false,
    "jupyter": {
     "outputs_hidden": false
    }
   },
   "outputs": [],
   "source": [
    "# Write your answer here\n"
   ]
  },
  {
   "cell_type": "markdown",
   "metadata": {},
   "source": [
    "### Lists *versus* dictionaries\n",
    "\n",
    "Dictionaries are useful when there is a natural `key:value` pairing. An example could be a dateset in which the `keys` would naturally be sample IDs or an experiment dates, and `values` would be measurements. \n",
    "\n",
    "If you anticipate needing to search for specific values based on a specific key name, searching a dictionary is much more efficient than searching a list. In a list, you'd have to go through and check EVERY entry until you found the key you wanted but with a dictionary you can simply say `my_dictionary['key of interest']` to get your value. \n"
   ]
  },
  {
   "cell_type": "markdown",
   "metadata": {},
   "source": [
    "## 1.2 Handling errors <a name=\"errors\">\n",
    "\n",
    "Everyone makes mistakes, and errors are common to every programmer, no matter their experience. \n",
    "\n",
    "To better prepare you on the inevitable, in this session we will try to understand what the different types of errors are and when you are likely to encounter them. Once you know why you get certain types of errors, they become much easier to fix.\n",
    "\n",
    "Errors in Python have a very specific form, called a *traceback*, meaning that Python will print the sequence of errors that led to the final error. For example:"
   ]
  },
  {
   "cell_type": "code",
   "execution_count": null,
   "metadata": {
    "collapsed": false,
    "jupyter": {
     "outputs_hidden": false
    }
   },
   "outputs": [],
   "source": [
    "print(hello)"
   ]
  },
  {
   "cell_type": "markdown",
   "metadata": {},
   "source": [
    "Python tells us that this is a **`NameError`** that occured on line 1 of the cell. The error message is telling us is that there is no object named `hello` defined. To fix the error, we need to know what the code was meant to do – did we mean to write the word 'hello'? Then we forgot the quotes around `'hello'`. Or were we trying to print the content of an object that is called `hello`? If this is the case, we forgot to define the variable first or have a typo in our code.  \n",
    "\n",
    "We haven't spent much time on code structure in this course, but capitalization and spelling are very important in code that you write. Python views the words `hello`, `HELLO`, and `Hello` as distinct words. Also, there is no auto-correct, so these errors (or other typos such as typing `hellp` instead of `hello`) will all result in `NameErrors`.   \n",
    "\n",
    "Below, we will fix the error in each of these cases. \n"
   ]
  },
  {
   "cell_type": "code",
   "execution_count": null,
   "metadata": {},
   "outputs": [],
   "source": [
    "# The case where we meant to print the string 'hello'\n",
    "print('hello')"
   ]
  },
  {
   "cell_type": "code",
   "execution_count": null,
   "metadata": {},
   "outputs": [],
   "source": [
    "# The case where we meant to print the object named hello \n",
    "# define the contents of the object hello\n",
    "hello = 'Hello!'\n",
    "# pass the object hello to the print function\n",
    "print(hello)"
   ]
  },
  {
   "cell_type": "markdown",
   "metadata": {},
   "source": [
    "Now try to identify and correct the error in the next example:"
   ]
  },
  {
   "cell_type": "code",
   "execution_count": null,
   "metadata": {
    "collapsed": false,
    "jupyter": {
     "outputs_hidden": false
    }
   },
   "outputs": [],
   "source": [
    "myNumber = 8\n",
    "myNewNumber = 8 * 20\n",
    "print(mynewNumber)"
   ]
  },
  {
   "cell_type": "markdown",
   "metadata": {},
   "source": [
    "**Questions: **\n",
    "> 1. What line was the error on?\n",
    "2. Can you spot what is wrong with the code?\n",
    "3. How can you fix it?\n"
   ]
  },
  {
   "cell_type": "markdown",
   "metadata": {},
   "source": [
    "Another common error is an **`IndexError`**. These are errors that occur when you try to access an element in an object (such as a string or a list) that doesn't exist. \n",
    "\n",
    "Let's revisit the string we defined at the beginning of this lesson.\n",
    "\n",
    "`my_string = \"Hello, Neurocoders!\"`\n",
    "\n",
    "Remember, in Python indexing starts at 0 and includes spaces. We can evaluate this with the `len()` function:"
   ]
  },
  {
   "cell_type": "code",
   "execution_count": null,
   "metadata": {
    "collapsed": false,
    "jupyter": {
     "outputs_hidden": false
    }
   },
   "outputs": [],
   "source": [
    "my_string = \"Hello, Neurocoders!\"\n",
    "len(my_string)"
   ]
  },
  {
   "cell_type": "markdown",
   "metadata": {},
   "source": [
    "What happens when you try to acces the last element by using the value 19? Why?"
   ]
  },
  {
   "cell_type": "code",
   "execution_count": null,
   "metadata": {
    "collapsed": false,
    "jupyter": {
     "outputs_hidden": false
    }
   },
   "outputs": [],
   "source": [
    "my_letter = my_string[19]"
   ]
  },
  {
   "cell_type": "markdown",
   "metadata": {},
   "source": [
    "To fix an `IndexError`, you may want to inspect the object you are trying to work with with the `type` and `len` functions to identify the error and fix it. \n",
    "\n",
    "Try fixing the error in the cell below and correctly assign the last letter of `my_string` to the object `my_letter`:"
   ]
  },
  {
   "cell_type": "code",
   "execution_count": null,
   "metadata": {},
   "outputs": [],
   "source": [
    "my_letter = my_string[19]"
   ]
  },
  {
   "cell_type": "markdown",
   "metadata": {},
   "source": [
    "Another common error is a **`TypeError`** which occurs when you attempt to use data types in ways they are not meant to be used. For example, remember that strings are immutable, meaning they cannot be changed. If you try to change an element of a string, you will recieve a `TypeError`. Run the cell below to see message:"
   ]
  },
  {
   "cell_type": "code",
   "execution_count": null,
   "metadata": {
    "collapsed": false,
    "jupyter": {
     "outputs_hidden": false
    }
   },
   "outputs": [],
   "source": [
    "my_string[0] = 'x'"
   ]
  },
  {
   "cell_type": "markdown",
   "metadata": {},
   "source": [
    "Another case when you might encounter a `TypeError` is when mixing data types. As you may recall, you can use the `+` sign to add numeric variables, and you can also use the `+` sign to concatenate strings. However, you cannot use a `+` sign with a numeric and a string:"
   ]
  },
  {
   "cell_type": "code",
   "execution_count": null,
   "metadata": {
    "collapsed": false,
    "jupyter": {
     "outputs_hidden": false
    }
   },
   "outputs": [],
   "source": [
    "a = 5\n",
    "my_test = my_string + a"
   ]
  },
  {
   "cell_type": "markdown",
   "metadata": {},
   "source": [
    "The error message tells us that Python cannot convert an integer (int) into a string (str). To combine strings and numbers, you would need to explicitely ask Python to do a type conversion:"
   ]
  },
  {
   "cell_type": "code",
   "execution_count": null,
   "metadata": {
    "collapsed": false,
    "jupyter": {
     "outputs_hidden": false
    }
   },
   "outputs": [],
   "source": [
    "# convert the int stored in a to a string\n",
    "a = str(a)\n",
    "\n",
    "# concatenate: \n",
    "\n",
    "my_test = my_string + a \n",
    "print(my_test)"
   ]
  },
  {
   "cell_type": "markdown",
   "metadata": {},
   "source": [
    "[Software carpentry](https://southampton-rsg.github.io/2017-08-01-southampton-swc/novice/python/07-errors.html) has an entire lesson with exercises to better understand how to handle errors. Check it out! \n"
   ]
  },
  {
   "cell_type": "markdown",
   "metadata": {},
   "source": [
    "## 1.3 In class exercises <a name=\"exercise\">\n",
    "\n",
    "(Disclosure: The exercises below are inspired from the online course Enthougtht Training on Demand, Copyright 2008-2016, Enthought, Inc.)\n",
    "\n",
    "### Playing with DNA\n",
    "\n",
    "Let's work together at figuring out how to manipulate the following string, which happens to be the DNA sequence that encodes for the human histone cluster 1, H1b. \n",
    "\n",
    "DNA is made up of two sequences, the coding strand and the template strand. The sequence below is the **coding strand**, usually the only one stored in bio-informatics, since the template strand can be derived from the fact that an adenine (A) base always pairs with a thymine (T) and a cytosine (C) always pairs with a guanine (G).\n",
    "\n",
    "      A ACC TGC TCT TTA GAT TTC GAG CTT ATT CTC TTC TAG CAG TTT CTT GCC\n",
    "    ACC ATG TCG GAA ACC GCT CCT GCC GAG ACA GCC ACC CCA GCG CCG GTG GAG\n",
    "    AAA TCC CCG GCT AAG AAG AAG GCA ACT AAG AAG GCT GCC GGC GCC GGC GCT\n",
    "    GCT AAG CGC AAA GCG ACG GGG CCC CCA GTC TCA GAG CTG ATC ACC AAG GCT\n",
    "    GTG GCT GCT TCT AAG GAG CGC AAT GGC CTT TCT TTG GCA GCC CTT AAG AAG\n",
    "    GCC TTA GCG GCC GGT GGC TAC GAC GTG GAG AAG AAT AAC AGC CGC ATT AAG\n",
    "    CTG GGC CTC AAG AGC TTG GTG AGC AAG GGC ACC CTG GTG CAG ACC AAG GGC\n",
    "    ACT GGT GCT TCT GGC TCC TTT AAA CTC AAC AAG AAG GCG GCC TCC GGG GAA\n",
    "    GCC AAG CCC AAA GCC AAG AAG GCA GGC GCC GCT AAA GCT AAG AAG CCC GCG\n",
    "    GGG GCC ACG CCT AAG AAG GCC AAG AAG GCT GCA GGG GCG AAA AAG GCA GTG\n",
    "    AAG AAG ACT CCG AAG AAG GCG AAG AAG CCC GCG GCG GCT GGC GTC AAA AAG\n",
    "    GTG GCG AAG AGC CCT AAG AAG GCC AAG GCC GCT GCC AAA CCG AAA AAG GCA\n",
    "    ACC AAG AGT CCT GCC AAG CCC AAG GCA GTT AAG CCG AAG GCG GCA AAG CCC\n",
    "    AAA GCC GCT AAG CCC AAA GCA GCA AAA CCT AAA GCT GCA AAG GCC AAG AAG\n",
    "    GCG GCT GCC AAA AAG AAG TAG GAA GCT GGC GTG TGA AAA CCG CAA CAA AGC\n",
    "    CCC AAA GGC TCT TTT CAG AGC CAC CCA\n",
    "\n",
    "As you all know, sequences of DNA and RNA are frequently represented by strings of letters corresponding to the bases:\n",
    "\n",
    "\"A\" adenine  \n",
    "\"C\" cytosine   \n",
    "\"G\" guanine  \n",
    "\"T\" thymine  \n",
    "\"U\" uracil (which replaces thymine in RNA)  \n",
    "\n",
    "### Question 1\n",
    "When a gene is expressed, the first thing that happens is that the template strand is separated from the coding strand and gets associated with a messenger RNA (mRNA).  This sequence of mRNA is therefore almost the same as the coding sequence, except that the thymine bases (T) have been replaced by uracil bases (U).\n",
    "\n",
    "\n",
    "Compute the equivalent mRNA sequence to the sequence in this example."
   ]
  },
  {
   "cell_type": "code",
   "execution_count": null,
   "metadata": {},
   "outputs": [],
   "source": [
    "coding_sequence = (\n",
    "    \"AACCTGCTCTTTAGATTTCGAGCTTATTCTCTTCTAGCAGTTTCTTGCCACCATGTCGGAAACCGCTCCT\" +\n",
    "    \"GCCGAGACAGCCACCCCAGCGCCGGTGGAGAAATCCCCGGCTAAGAAGAAGGCAACTAAGAAGGCTGCCG\" +\n",
    "    \"GCGCCGGCGCTGCTAAGCGCAAAGCGACGGGGCCCCCAGTCTCAGAGCTGATCACCAAGGCTGTGGCTGC\" +\n",
    "    \"TTCTAAGGAGCGCAATGGCCTTTCTTTGGCAGCCCTTAAGAAGGCCTTAGCGGCCGGTGGCTACGACGTG\" +\n",
    "    \"GAGAAGAATAACAGCCGCATTAAGCTGGGCCTCAAGAGCTTGGTGAGCAAGGGCACCCTGGTGCAGACCA\" +\n",
    "    \"AGGGCACTGGTGCTTCTGGCTCCTTTAAACTCAACAAGAAGGCGGCCTCCGGGGAAGCCAAGCCCAAAGC\" +\n",
    "    \"CAAGAAGGCAGGCGCCGCTAAAGCTAAGAAGCCCGCGGGGGCCACGCCTAAGAAGGCCAAGAAGGCTGCA\" +\n",
    "    \"GGGGCGAAAAAGGCAGTGAAGAAGACTCCGAAGAAGGCGAAGAAGCCCGCGGCGGCTGGCGTCAAAAAGG\" +\n",
    "    \"TGGCGAAGAGCCCTAAGAAGGCCAAGGCCGCTGCCAAACCGAAAAAGGCAACCAAGAGTCCTGCCAAGCC\" +\n",
    "    \"CAAGGCAGTTAAGCCGAAGGCGGCAAAGCCCAAAGCCGCTAAGCCCAAAGCAGCAAAACCTAAAGCTGCA\" +\n",
    "    \"AAGGCCAAGAAGGCGGCTGCCAAAAAGAAGTAGGAAGCTGGCGTGTGAAAACCGCAACAAAGCCCCAAAG\" +\n",
    "    \"GCTCTTTTCAGAGCCACCCA\"\n",
    ")"
   ]
  },
  {
   "cell_type": "markdown",
   "metadata": {},
   "source": [
    "Hint: See if there is a string method that lets you *replace* substrings."
   ]
  },
  {
   "cell_type": "code",
   "execution_count": null,
   "metadata": {},
   "outputs": [],
   "source": [
    "# Your code goes here\n"
   ]
  },
  {
   "cell_type": "markdown",
   "metadata": {},
   "source": [
    "### Question 2\n",
    "A gene encodes a protein by specifying the aminoacids that compose it via\n",
    "groups of 3 bases (codons).  In the usual genetic code the\n",
    "sequence \"ATG\" indicates the start of the encoding of the protein.\n",
    "\n",
    "Find the index of the start of the coding section in the coding sequence above.\n",
    "\n",
    "Hint: Look for a string method that helps you *find* a substring."
   ]
  },
  {
   "cell_type": "code",
   "execution_count": null,
   "metadata": {},
   "outputs": [],
   "source": [
    "# Your code goes here\n"
   ]
  },
  {
   "cell_type": "markdown",
   "metadata": {},
   "source": [
    "### Question 3\n",
    "\n",
    "The end of the encoding of a protein is indicated by one of three \"stop\"\n",
    "codons: \"TAA\", \"TAG\" or \"TGA\".  In this case the stop is 'TAG'.  Find the\n",
    "'TAG' codon closest to the end of the coding sequence above.\n",
    "\n",
    "Hin: Look for a string method that helps you find a substring starting from the *right* of a string."
   ]
  },
  {
   "cell_type": "code",
   "execution_count": null,
   "metadata": {},
   "outputs": [],
   "source": [
    "# Your code goes here\n"
   ]
  },
  {
   "cell_type": "markdown",
   "metadata": {},
   "source": [
    "### Question 4\n",
    "\n",
    "Now we will look at a dictionary called `codon_table` that maps codons to their corresponding amino acid abbreviations (the stop codons are usually abbreviated by an `*`). \n",
    "\n",
    "Extract the abbreviation associated with the codon \"AAG\" and then print it in a statement that says \"AAG is associated with the aminoacid X.\""
   ]
  },
  {
   "cell_type": "code",
   "execution_count": null,
   "metadata": {},
   "outputs": [],
   "source": [
    "codon_table = {\n",
    "    'TTT': 'F', 'TTC': 'F', 'TTA': 'L', 'TTG': 'L',\n",
    "    'TCT': 'S', 'TCC': 'S', 'TCA': 'S', 'TCG': 'S',\n",
    "    'TAT': 'Y', 'TAC': 'Y', 'TAA': '*', 'TAG': '*',\n",
    "    'TGT': 'C', 'TGC': 'C', 'TGA': '*', 'TGG': 'W',\n",
    "\n",
    "    'CTT': 'L', 'CTC': 'L', 'CTA': 'L', 'CTG': 'L',\n",
    "    'CCT': 'P', 'CCC': 'P', 'CCA': 'P', 'CCG': 'P',\n",
    "    'CAT': 'H', 'CAC': 'H', 'CAA': 'Q', 'CAG': 'Q',\n",
    "    'CGT': 'R', 'CGC': 'R', 'CGA': 'R', 'CGG': 'R',\n",
    "\n",
    "    'ATT': 'I', 'ATC': 'I', 'ATA': 'I', 'ATG': 'M',\n",
    "    'ACT': 'T', 'ACC': 'T', 'ACA': 'T', 'ACG': 'T',\n",
    "    'AAT': 'N', 'AAC': 'N', 'AAA': 'K', 'AAG': 'K',\n",
    "    'AGT': 'S', 'AGC': 'S', 'AGA': 'R', 'AGG': 'R',\n",
    "\n",
    "    'GTT': 'V', 'GTC': 'V', 'GTA': 'V', 'GTG': 'V',\n",
    "    'GCT': 'A', 'GCC': 'A', 'GCA': 'A', 'GCG': 'A',\n",
    "    'GAT': 'D', 'GAC': 'D', 'GAA': 'E', 'GAG': 'E',\n",
    "    'GGT': 'G', 'GGC': 'G', 'GGA': 'G', 'GGG': 'G',\n",
    "}"
   ]
  },
  {
   "cell_type": "code",
   "execution_count": null,
   "metadata": {},
   "outputs": [],
   "source": [
    "# Your code goes here\n",
    "codon = \"AAG\"\n"
   ]
  },
  {
   "cell_type": "markdown",
   "metadata": {},
   "source": [
    "### Question 5\n",
    "\n",
    "Below is another dictionary named `amino_acid_table` that maps the aminoacid abbreviations to their full names.  Extract the full name of the aminoacid associated with the codon \"CAA\"."
   ]
  },
  {
   "cell_type": "code",
   "execution_count": null,
   "metadata": {},
   "outputs": [],
   "source": [
    "amino_acid_table = {\n",
    "    'A': \"alanine\",\n",
    "    'C': \"cystine\",\n",
    "    'D': \"aspartic acid\",\n",
    "    'E': \"glutamic acid\",\n",
    "    'F': \"phenylalanine\",\n",
    "    'G': \"glycine\",\n",
    "    'H': \"histidine\",\n",
    "    'I': \"isoleucine\",\n",
    "    'K': \"lysine\",\n",
    "    'L': \"leucine\",\n",
    "    'M': \"methionine/start\",\n",
    "    'N': \"asparagine\",\n",
    "    'P': \"proline\",\n",
    "    'Q': \"glutamine\",\n",
    "    'R': \"arginine\",\n",
    "    'S': \"serine\",\n",
    "    'T': \"threonine\",\n",
    "    'V': \"valine\",\n",
    "    'W': \"tryptophan\",\n",
    "    'Y': \"tyrosine\",\n",
    "    '*': \"stop\",\n",
    "}\n",
    "\n",
    "codon = \"CAA\""
   ]
  },
  {
   "cell_type": "code",
   "execution_count": null,
   "metadata": {},
   "outputs": [],
   "source": [
    "# Your code goes here\n"
   ]
  },
  {
   "cell_type": "markdown",
   "metadata": {},
   "source": [
    "# 1.4 Appendix <a name=\"appendix\">\n",
    "\n",
    "## How Python Assignment Works\n",
    "\n",
    "What happens when we assign a variable to an object?\n",
    "\n",
    "A simple example:\n",
    "\n",
    "    x = 11\n",
    "    y = x\n",
    "    y = 'boo'\n",
    "    print(x)\n",
    "\n",
    "Let's step through what's happening:"
   ]
  },
  {
   "cell_type": "code",
   "execution_count": null,
   "metadata": {},
   "outputs": [],
   "source": [
    "x = 11"
   ]
  },
  {
   "cell_type": "markdown",
   "metadata": {},
   "source": [
    "In executing this line, we created an integer object `x` that somewhere it memory points to the value 12 when the right hand side of the assignment is evaluated, and then the equals assignment creates, or binds, a reference to it in the current namespace.\n",
    "\n",
    "We can see the namespace with IPython's `%whos` [magic command](http://ipython.readthedocs.io/en/stable/interactive/magics.html):"
   ]
  },
  {
   "cell_type": "code",
   "execution_count": null,
   "metadata": {},
   "outputs": [],
   "source": [
    "%whos"
   ]
  },
  {
   "cell_type": "markdown",
   "metadata": {},
   "source": [
    "Every object in Python has a unique identifier which you can see with the `id()` built-in function:"
   ]
  },
  {
   "cell_type": "code",
   "execution_count": null,
   "metadata": {},
   "outputs": [],
   "source": [
    "id(x)"
   ]
  },
  {
   "cell_type": "markdown",
   "metadata": {},
   "source": [
    "At any given moment all ids are unique.\n",
    "\n",
    "Let's look at the next line:"
   ]
  },
  {
   "cell_type": "code",
   "execution_count": null,
   "metadata": {},
   "outputs": [],
   "source": [
    "y = x"
   ]
  },
  {
   "cell_type": "markdown",
   "metadata": {},
   "source": [
    "The righthand side is `x` that causes a look-up of the variable x in the local namespace, which returns the reference to the integer object. This is then bound to the variable `y` on the lefthand side.\n",
    "\n",
    "We can see the state of the namespace:"
   ]
  },
  {
   "cell_type": "code",
   "execution_count": null,
   "metadata": {},
   "outputs": [],
   "source": [
    "id(y)"
   ]
  },
  {
   "cell_type": "markdown",
   "metadata": {},
   "source": [
    "Then..."
   ]
  },
  {
   "cell_type": "code",
   "execution_count": null,
   "metadata": {},
   "outputs": [],
   "source": [
    "y = 'boo'"
   ]
  },
  {
   "cell_type": "markdown",
   "metadata": {},
   "source": [
    "... creates a new string object on the righthand side with the value `'boo'` in it, and the assignment binds it to the variable `y` in the local namespace, removing the binding that `y` had to 11. Let's check our namespace out:"
   ]
  },
  {
   "cell_type": "code",
   "execution_count": null,
   "metadata": {},
   "outputs": [],
   "source": [
    "%whos"
   ]
  },
  {
   "cell_type": "markdown",
   "metadata": {},
   "source": [
    "but we also see that y now refers to a completely different obejct:"
   ]
  },
  {
   "cell_type": "code",
   "execution_count": null,
   "metadata": {},
   "outputs": [],
   "source": [
    "id(y)"
   ]
  },
  {
   "cell_type": "markdown",
   "metadata": {},
   "source": [
    "Finally the print statement looks up the object referred to by `x`, and displays a text representation of it:"
   ]
  },
  {
   "cell_type": "code",
   "execution_count": null,
   "metadata": {},
   "outputs": [],
   "source": [
    "print(x)"
   ]
  },
  {
   "cell_type": "markdown",
   "metadata": {},
   "source": [
    "### Assignment of a container object\n",
    "\n",
    "Let's compare this with the following similar, but slightly different code:\n",
    "\n",
    "    x = [500, 501, 502]\n",
    "    y = x\n",
    "    y[1] = 600\n",
    "    print(x)\n",
    "    y = [700, 800]\n",
    "\n",
    "We start with:"
   ]
  },
  {
   "cell_type": "code",
   "execution_count": null,
   "metadata": {},
   "outputs": [],
   "source": [
    "x = [500, 501, 502]"
   ]
  },
  {
   "cell_type": "markdown",
   "metadata": {},
   "source": [
    "Python evaluates the righthand side first, creating objects for the numbers 500, 501 and 502, and then creating a list object which has the references to those objects bound to the indices 0, 1 and 2 respectively. Finally, a reference to the new list object is bound to `x`.\n",
    "\n",
    "Checking the ids, you see we have:"
   ]
  },
  {
   "cell_type": "code",
   "execution_count": null,
   "metadata": {},
   "outputs": [],
   "source": [
    "id(x)"
   ]
  },
  {
   "cell_type": "code",
   "execution_count": null,
   "metadata": {},
   "outputs": [],
   "source": [
    "id(x[0])"
   ]
  },
  {
   "cell_type": "code",
   "execution_count": null,
   "metadata": {},
   "outputs": [],
   "source": [
    "id(x[1])"
   ]
  },
  {
   "cell_type": "code",
   "execution_count": null,
   "metadata": {},
   "outputs": [],
   "source": [
    "id(x[2])"
   ]
  },
  {
   "cell_type": "markdown",
   "metadata": {},
   "source": [
    "There are 4 different objects for each value in the list.\n",
    "\n",
    "Then we have:"
   ]
  },
  {
   "cell_type": "code",
   "execution_count": null,
   "metadata": {},
   "outputs": [],
   "source": [
    "y = x"
   ]
  },
  {
   "cell_type": "markdown",
   "metadata": {},
   "source": [
    "the variable reference on the right is evaluated and the object bound to the variable on the left.\n",
    "\n",
    "So our namespace looks like this:"
   ]
  },
  {
   "cell_type": "code",
   "execution_count": null,
   "metadata": {},
   "outputs": [],
   "source": [
    "%whos"
   ]
  },
  {
   "cell_type": "markdown",
   "metadata": {},
   "source": [
    "but just like the simple example, `x` and `y` refer to the same object. Let's ask Python if this is true with a boolean statement:"
   ]
  },
  {
   "cell_type": "code",
   "execution_count": null,
   "metadata": {},
   "outputs": [],
   "source": [
    "id(x) == id(y)"
   ]
  },
  {
   "cell_type": "markdown",
   "metadata": {},
   "source": [
    "So the next line is a little different. In previous assignments we have had a simple variable on the left, and assignment has meant \"bind this variable in the namespace to the object on the right\".  But here we have `y` with an index on the left.\n",
    "\n",
    "This can be informally thought of as being the equivalent of a function call something like:\n",
    "\n",
    "    set_item(y, 1, 600)\n",
    "\n",
    "This is saying that I need to set an item in `y`, at index `1` and with value `600`.\n",
    "\n",
    "So when we execute:"
   ]
  },
  {
   "cell_type": "code",
   "execution_count": null,
   "metadata": {},
   "outputs": [],
   "source": [
    "y[1] = 600"
   ]
  },
  {
   "cell_type": "markdown",
   "metadata": {},
   "source": [
    "Python creates a new integer object with value 600 for the value on the right, a new integer object with value 1 for the index (actually, 1 already exists, but we can pretend we created it), and looks up the object referred to by `y`, which is the Python list.\n",
    "\n",
    "Then the `set_item` function changes the list so that index 1 is now bound to 600, and the binding of index 1 to 501 is dropped.\n",
    "\n",
    "So we have changed the contents of the list at index 1.  And when it comes time to print out x:"
   ]
  },
  {
   "cell_type": "code",
   "execution_count": null,
   "metadata": {},
   "outputs": [],
   "source": [
    "print(x)"
   ]
  },
  {
   "cell_type": "markdown",
   "metadata": {},
   "source": [
    "we look up the object bound to `x`, which is our list. Now we never explicitly touched `x`: it used to be `[500, 501, 502]`, but when we print it out it's `[500, 600, 502]`.\n",
    "\n",
    "This is a feature of Python - you can have two variables pointing at the same container, it is done all the time and it can be quite useful, but it can lead to this sort of \"action at a distance\" where changes to one variable affect the value of another. But once you understand what is happening in memory, it isn't that surprising.\n",
    "\n",
    "Finally, what happens if we assign `y` to a new list?"
   ]
  },
  {
   "cell_type": "code",
   "execution_count": null,
   "metadata": {},
   "outputs": [],
   "source": [
    "y = [700, 800]"
   ]
  },
  {
   "cell_type": "markdown",
   "metadata": {},
   "source": [
    "This is the standard assignment pattern, so this will create the object on the right and bind it to the specified object on the left. So we get new integer objects for 700 and 800, and a new list which has its first and second indices bound to those objects.  And then `y` is bound to that new list, breaking the previous binding for the variable, so `x` and `y` now refer to different objects."
   ]
  },
  {
   "cell_type": "markdown",
   "metadata": {},
   "source": [
    "## String formatting\n",
    " \n",
    "String formatting is needed as soon as you want to control how text and data are displayed when printed in the terminal, in a data file or in a report that you need to generate. The recommeded way is by using the `format` method on a string.\n",
    "\n",
    "### Examples\n",
    "\n",
    "The strategy is to create a string that you want to print. Curly brackets will indicate where (and potentially how) to display variables that are provided to the format method:\n"
   ]
  },
  {
   "cell_type": "code",
   "execution_count": null,
   "metadata": {},
   "outputs": [],
   "source": [
    "print('{} {} {}')"
   ]
  },
  {
   "cell_type": "code",
   "execution_count": null,
   "metadata": {},
   "outputs": [],
   "source": [
    "print('{} {} {}'.format(\"a\", \"b\", \"c\"))"
   ]
  },
  {
   "cell_type": "code",
   "execution_count": null,
   "metadata": {
    "collapsed": false,
    "jupyter": {
     "outputs_hidden": false
    }
   },
   "outputs": [],
   "source": [
    "string = 'My favorite number is {}'\n",
    "print(string.format(3.145926))"
   ]
  },
  {
   "cell_type": "markdown",
   "metadata": {},
   "source": [
    "The fields where variables are injected can be numbered too (they must be numbered in Python 2.6):"
   ]
  },
  {
   "cell_type": "code",
   "execution_count": null,
   "metadata": {
    "collapsed": false,
    "jupyter": {
     "outputs_hidden": false
    }
   },
   "outputs": [],
   "source": [
    "print('{2} {1} {0}'.format(\"a\", \"b\", \"c\"))"
   ]
  },
  {
   "cell_type": "code",
   "execution_count": null,
   "metadata": {
    "collapsed": false,
    "jupyter": {
     "outputs_hidden": false
    }
   },
   "outputs": [],
   "source": [
    "print('{color} {int_num} {float_num}'.format(int_num=10, float_num=1.5, color='blue'))"
   ]
  },
  {
   "cell_type": "markdown",
   "metadata": {},
   "source": [
    "## Cool, nerdy articles that helped me understand better what's going on:\n",
    "\n",
    "* [Jupyter notebook tips, tricks, and shortcuts](https://www.dataquest.io/blog/jupyter-notebook-tips-tricks-shortcuts/)\n",
    "* [Explaining the 'why' behind Python's slicing syntax](http://www.cs.utexas.edu/users/EWD/transcriptions/EWD08xx/EWD831.html)\n",
    "* [Mutable vs Immutable Objects in Python](https://medium.com/@meghamohan/mutable-and-immutable-side-of-python-c2145cf72747)\n"
   ]
  }
 ],
 "metadata": {
  "kernelspec": {
   "display_name": "Python 3",
   "language": "python",
   "name": "python3"
  },
  "language_info": {
   "codemirror_mode": {
    "name": "ipython",
    "version": 3
   },
   "file_extension": ".py",
   "mimetype": "text/x-python",
   "name": "python",
   "nbconvert_exporter": "python",
   "pygments_lexer": "ipython3",
   "version": "3.8.5"
  },
  "nteract": {
   "version": "0.24.0"
  }
 },
 "nbformat": 4,
 "nbformat_minor": 4
}
