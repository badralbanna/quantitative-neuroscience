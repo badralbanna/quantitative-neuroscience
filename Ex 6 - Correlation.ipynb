{
 "cells": [
  {
   "cell_type": "markdown",
   "metadata": {},
   "source": [
    "# Exercise 6: Correlation\n",
    "\n",
    "In this series of exercises we'll look at how to calculate basic measures of correlation in python \n",
    "\n",
    "## Setup"
   ]
  },
  {
   "cell_type": "code",
   "execution_count": null,
   "metadata": {},
   "outputs": [],
   "source": [
    "import numpy as np\n",
    "import pandas as pd\n",
    "import matplotlib as mpl\n",
    "import matplotlib.pyplot as plt\n",
    "import os\n",
    "\n",
    "# For retina displays only \n",
    "# from IPython.display import set_matplotlib_formats\n",
    "# set_matplotlib_formats('retina')\n",
    "%matplotlib inline"
   ]
  },
  {
   "cell_type": "code",
   "execution_count": null,
   "metadata": {},
   "outputs": [],
   "source": [
    "# Creating some data\n",
    "N = 500 # number of samples\n",
    "X = np.random.normal(loc=3.0, scale=5.0, size=N)\n",
    "noise = np.random.normal(loc=0, scale=7.0, size=N)\n",
    "Y = 2.2*X + noise"
   ]
  },
  {
   "cell_type": "code",
   "execution_count": null,
   "metadata": {},
   "outputs": [],
   "source": [
    "# Always plot your data\n",
    "fig = plt.figure(figsize=(5,5))\n",
    "gs = fig.add_gridspec(2, 2, width_ratios=[1, .1], height_ratios=[.1, 1])\n",
    "ax = fig.add_subplot(gs[1, 0])\n",
    "ax_histx = fig.add_subplot(gs[0, 0], sharex=ax)\n",
    "ax_histy = fig.add_subplot(gs[1, 1], sharey=ax)\n",
    "ax.scatter(X, Y)\n",
    "ax_histx.hist(X, bins=100)\n",
    "ax_histy.hist(Y, bins=100, orientation='horizontal')\n",
    "plt.tight_layout()"
   ]
  },
  {
   "cell_type": "markdown",
   "metadata": {},
   "source": [
    "## Pearson's correlation ($r$)"
   ]
  },
  {
   "cell_type": "code",
   "execution_count": null,
   "metadata": {},
   "outputs": [],
   "source": [
    "# using numpy\n",
    "np.corrcoef(X, Y)"
   ]
  },
  {
   "cell_type": "code",
   "execution_count": null,
   "metadata": {},
   "outputs": [],
   "source": [
    "# using scipy.stats\n",
    "import scipy.stats\n",
    "\n",
    "scipy.stats.pearsonr(X, Y)"
   ]
  },
  {
   "cell_type": "code",
   "execution_count": null,
   "metadata": {},
   "outputs": [],
   "source": [
    "# Using pandas\n",
    "df = pd.DataFrame({'x': X, 'y': Y})\n",
    "\n",
    "df.corr(method='pearson')"
   ]
  },
  {
   "cell_type": "markdown",
   "metadata": {},
   "source": [
    "## Spearman's correlation ($s$)"
   ]
  },
  {
   "cell_type": "code",
   "execution_count": null,
   "metadata": {},
   "outputs": [],
   "source": [
    "# using scipy.stats\n",
    "scipy.stats.spearmanr(X, Y)"
   ]
  },
  {
   "cell_type": "code",
   "execution_count": null,
   "metadata": {},
   "outputs": [],
   "source": [
    "# Using pandas\n",
    "df = pd.DataFrame({'x': X, 'y': Y})\n",
    "\n",
    "df.corr(method=\"spearman\")"
   ]
  },
  {
   "cell_type": "code",
   "execution_count": null,
   "metadata": {},
   "outputs": [],
   "source": [
    "# verifying that what I said was true\n",
    "scipy.stats.pearsonr(scipy.stats.rankdata(X), scipy.stats.rankdata(Y))"
   ]
  },
  {
   "cell_type": "code",
   "execution_count": null,
   "metadata": {},
   "outputs": [],
   "source": [
    "# Excerise 1: Demonstrate that sample size changes p value but not correlation\n",
    "\n",
    "\n",
    "\n",
    "\n",
    "\n",
    "\n",
    "\n",
    "\n",
    "\n",
    "\n"
   ]
  },
  {
   "cell_type": "code",
   "execution_count": null,
   "metadata": {},
   "outputs": [],
   "source": [
    "# Excerise 2: Play around with different X Y associations and calculate $r$ and $s$\n",
    "\n",
    "\n",
    "\n",
    "\n",
    "\n",
    "\n",
    "\n",
    "\n"
   ]
  },
  {
   "cell_type": "markdown",
   "metadata": {},
   "source": [
    "## Kendall's tau"
   ]
  },
  {
   "cell_type": "code",
   "execution_count": null,
   "metadata": {},
   "outputs": [],
   "source": [
    "# Exercise 3: Find the function from scipy that allows you to calculate Kendalls's tau. Use this and compare to other forms of correlation. \n",
    "\n",
    "\n",
    "\n",
    "\n",
    "\n"
   ]
  },
  {
   "cell_type": "code",
   "execution_count": null,
   "metadata": {},
   "outputs": [],
   "source": [
    "# Exercise 4: How do you calculate Kendall's tau using pandas? \n",
    "\n",
    "\n",
    "\n",
    "\n",
    "\n",
    "\n"
   ]
  },
  {
   "cell_type": "markdown",
   "metadata": {},
   "source": [
    "## Cramer's V\n",
    "\n",
    "Unfortunately, python does not have a built in function to calculate Cramer's V from a contingency table **but** it's not hard to create your own function if you can calculate $\\chi^2$\n",
    "\n",
    "\n"
   ]
  },
  {
   "cell_type": "code",
   "execution_count": null,
   "metadata": {},
   "outputs": [],
   "source": [
    "# Here's a made up coningency table \n",
    "\n",
    "data = np.random.randint(1, 20, size=(3,2))\n",
    "print(data)"
   ]
  },
  {
   "cell_type": "code",
   "execution_count": null,
   "metadata": {},
   "outputs": [],
   "source": [
    "# Exercise 5: find the scipy function to calculate chi2 and use it on the data above. \n",
    "\n",
    "\n",
    "\n",
    "\n"
   ]
  },
  {
   "cell_type": "code",
   "execution_count": null,
   "metadata": {},
   "outputs": [],
   "source": [
    "# Exercise 6: Figure out how to derive the remaining values from `data` that you need to calculate Cramer's V (i.e. total number of counts, n, and minimum dimension size - 1). Use these and chi2 above to write your own Cramer's V function \n",
    "\n",
    "n = ???\n",
    "min_dim = ???\n",
    "\n",
    "def CramersV(data, ...):\n",
    "    ???"
   ]
  },
  {
   "cell_type": "code",
   "execution_count": null,
   "metadata": {},
   "outputs": [],
   "source": [
    "# Bonus Exercise 7: Turns out the \"naive\" forumla for Cramers V is biased. Look up the correction and modify your function to include it. \n",
    "\n",
    "\n",
    "\n",
    "\n"
   ]
  }
 ],
 "metadata": {
  "kernelspec": {
   "display_name": "Python 3.9.12 ('base')",
   "language": "python",
   "name": "python3"
  },
  "language_info": {
   "codemirror_mode": {
    "name": "ipython",
    "version": 3
   },
   "file_extension": ".py",
   "mimetype": "text/x-python",
   "name": "python",
   "nbconvert_exporter": "python",
   "pygments_lexer": "ipython3",
   "version": "3.9.12"
  },
  "vscode": {
   "interpreter": {
    "hash": "83f12c968a18c115c9a5adf87b5db7e005c9a42777344a91f23fbaed78f04bbd"
   }
  }
 },
 "nbformat": 4,
 "nbformat_minor": 4
}
