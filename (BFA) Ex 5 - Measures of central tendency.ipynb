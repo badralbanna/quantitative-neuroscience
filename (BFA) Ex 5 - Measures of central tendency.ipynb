{
 "cells": [
  {
   "cell_type": "markdown",
   "metadata": {},
   "source": [
    "# Exercise 5: Measures of central tendency\n",
    "\n",
    "In this series of excersies \n",
    "\n",
    "\n",
    "## Table of Contents \n",
    "\n",
    "* Measures of central tendancy and variability \n",
    "    * Calculating measures of central tendancy and variability \n",
    "    * Representing measures of central tendancy and variability \n",
    "* The central limit theorem\n",
    "* Data from Wu et al. (2017), Nature\n",
    "\n",
    "\n",
    "## Setup"
   ]
  },
  {
   "cell_type": "code",
   "execution_count": 1,
   "metadata": {},
   "outputs": [],
   "source": [
    "import numpy as np\n",
    "import scipy as sp\n",
    "import pandas as pd\n",
    "import matplotlib as mpl\n",
    "import matplotlib.pyplot as plt\n",
    "import os\n",
    "\n",
    "# For retina displays only \n",
    "from IPython.display import set_matplotlib_formats\n",
    "set_matplotlib_formats('retina')"
   ]
  },
  {
   "cell_type": "markdown",
   "metadata": {},
   "source": [
    "## Measures of central tendency and variability\n",
    "\n",
    "In this section you'll play around with calculating measures of central tendancy and variability with symmetric and skewed data. "
   ]
  },
  {
   "cell_type": "code",
   "execution_count": 3,
   "metadata": {},
   "outputs": [],
   "source": [
    "symmetric_data = np.random.normal(0, 3., size=10000)\n",
    "skew_data = np.random.standard_gamma(1.5, size=10000)"
   ]
  },
  {
   "cell_type": "code",
   "execution_count": 4,
   "metadata": {},
   "outputs": [
    {
     "data": {
      "text/plain": [
       "Text(0,0.5,'Counts')"
      ]
     },
     "execution_count": 4,
     "metadata": {},
     "output_type": "execute_result"
    },
    {
     "data": {
      "image/png": "[encoded data removed]",
      "text/plain": [
       "<Figure size 432x288 with 1 Axes>"
      ]
     },
     "metadata": {
      "needs_background": "light"
     },
     "output_type": "display_data"
    }
   ],
   "source": [
    "fig, ax = plt.subplots()\n",
    "counts, bins, bars = ax.hist(symmetric_data, bins=100)\n",
    "ax.set_title(\"Symmetric Data\")\n",
    "ax.set_xlabel(\"Values\")\n",
    "ax.set_ylabel(\"Counts\")"
   ]
  },
  {
   "cell_type": "code",
   "execution_count": 5,
   "metadata": {},
   "outputs": [
    {
     "data": {
      "text/plain": [
       "Text(0,0.5,'Counts')"
      ]
     },
     "execution_count": 5,
     "metadata": {},
     "output_type": "execute_result"
    },
    {
     "data": {
      "image/png": "[encoded data removed]",
      "text/plain": [
       "<Figure size 432x288 with 1 Axes>"
      ]
     },
     "metadata": {
      "needs_background": "light"
     },
     "output_type": "display_data"
    }
   ],
   "source": [
    "# Make a histogram of the skew data\n",
    "fig, ax = plt.subplots()\n",
    "counts, bins, bars = ax.hist(skew_data, bins=100)\n",
    "ax.set_title(\"Skewed Data\")\n",
    "ax.set_xlabel(\"Values\")\n",
    "ax.set_ylabel(\"Counts\")\n"
   ]
  },
  {
   "cell_type": "markdown",
   "metadata": {},
   "source": [
    "### Calculating measures of central tendancy and variability"
   ]
  },
  {
   "cell_type": "markdown",
   "metadata": {},
   "source": [
    "### Central tendancy"
   ]
  },
  {
   "cell_type": "code",
   "execution_count": 6,
   "metadata": {},
   "outputs": [
    {
     "name": "stdout",
     "output_type": "stream",
     "text": [
      "Mean for symmetric data is -0.012755347431033666\n",
      "Mean for skew data is 1.5080890820821904\n"
     ]
    }
   ],
   "source": [
    "# Calculating the mean\n",
    "sym_mean = symmetric_data.mean()\n",
    "skw_mean = skew_data.mean()\n",
    "print(f\"Mean for symmetric data is {sym_mean}\\nMean for skew data is {skw_mean}\")"
   ]
  },
  {
   "cell_type": "code",
   "execution_count": 8,
   "metadata": {},
   "outputs": [
    {
     "name": "stdout",
     "output_type": "stream",
     "text": [
      "Median for symmetric data is -0.039489253914544636\n",
      "Median for skew data is 1.1946450989470159\n"
     ]
    }
   ],
   "source": [
    "# Calculating the median\n",
    "sym_median = np.percentile(symmetric_data, 50)\n",
    "skw_median = np.percentile(skew_data, 50)\n",
    "print(f\"Median for symmetric data is {sym_median}\\nMedian for skew data is {skw_median}\")"
   ]
  },
  {
   "cell_type": "code",
   "execution_count": 9,
   "metadata": {},
   "outputs": [
    {
     "data": {
      "image/png": "[encoded data removed]",
      "text/plain": [
       "<Figure size 576x216 with 2 Axes>"
      ]
     },
     "metadata": {
      "needs_background": "light"
     },
     "output_type": "display_data"
    }
   ],
   "source": [
    "# Redoing plots including means and medians\n",
    "fig, (ax_sym, ax_skw) = plt.subplots(ncols=2, figsize=(8, 3))\n",
    "counts, bins, bars = ax_sym.hist(symmetric_data, bins=100)\n",
    "counts, bins, bars = ax_skw.hist(skew_data, bins=100)\n",
    "ax_sym.set_title(\"Symmetric Data\")\n",
    "ax_skw.set_title(\"Skew Data\")\n",
    "for ax in [ax_sym, ax_skw]:\n",
    "    ax.set_xlabel(\"Values\")\n",
    "    ax.set_ylabel(\"Counts\")\n",
    "for ax, mean in zip([ax_sym, ax_skw], [sym_mean, skw_mean]):\n",
    "    ax.axvline(mean, color='red')\n",
    "    _, ymax = ax.get_ylim()\n",
    "    ax.text(mean, ymax, \"Mean\", ha='center', color='red')\n",
    "for ax, mean in zip([ax_sym, ax_skw], [sym_median, skw_median]):\n",
    "    ax.axvline(mean, color='orange')\n",
    "    _, ymax = ax.get_ylim()\n",
    "    ax.text(mean, ymax, \"Median\", ha='center', color='orange')\n"
   ]
  },
  {
   "cell_type": "markdown",
   "metadata": {},
   "source": [
    "### Variability"
   ]
  },
  {
   "cell_type": "code",
   "execution_count": null,
   "metadata": {},
   "outputs": [],
   "source": [
    "# Calculating the standard deviation\n",
    "# Note the ddof = delta degrees of freedom. This changes n in denominator to n-1\n",
    "sym_std = symmetric_data.std(ddof=1) \n",
    "skw_std = skew_data.std(ddof=1) \n",
    "print(f\"Sample standard deviation for symmetric data is {sym_std}\\nSample standard deviation for skew data is {skw_std}\")"
   ]
  },
  {
   "cell_type": "code",
   "execution_count": null,
   "metadata": {},
   "outputs": [],
   "source": [
    "# Redoing plots including mean and standard deviations\n",
    "fig, (ax_sym, ax_skw) = plt.subplots(ncols=2, figsize=(8, 3))\n",
    "counts, bins, bars = ax_sym.hist(symmetric_data, bins=100)\n",
    "counts, bins, bars = ax_skw.hist(skew_data, bins=100)\n",
    "ax_sym.set_title(\"Symmetric Data\")\n",
    "ax_skw.set_title(\"Skew Data\")\n",
    "for ax in [ax_sym, ax_skw]:\n",
    "    ax.set_xlabel(\"Values\")\n",
    "    ax.set_ylabel(\"Counts\")\n",
    "for ax, mean in zip([ax_sym, ax_skw], [sym_mean, skw_mean]):\n",
    "    ax.axvline(mean, color='red')\n",
    "    _, ymax = ax.get_ylim()\n",
    "    ax.text(mean, ymax, \"Mean\", ha='center', color='red')\n",
    "for ax, mean, std in zip([ax_sym, ax_skw], [sym_mean, skw_mean], [sym_std, skw_std]):\n",
    "    ax.axvline(mean+std, color='red', lw=0.5)\n",
    "    ax.axvline(mean-std, color='red', lw=0.5)\n",
    "    _, ymax = ax.get_ylim()\n",
    "    ax.text(mean+std, ymax, \"$+\\sigma$\", ha='center', color='red')\n",
    "    ax.text(mean-std, ymax, \"$-\\sigma$\", ha='center', color='red')"
   ]
  },
  {
   "cell_type": "code",
   "execution_count": null,
   "metadata": {},
   "outputs": [],
   "source": [
    "# Calculating the IQRs\n",
    "sym_25 = np.percentile(symmetric_data, 25)\n",
    "sym_75 = np.percentile(symmetric_data, 75)\n",
    "skw_25 = np.percentile(skew_data, 25)\n",
    "skw_75 = np.percentile(skew_data, 75)\n",
    "print(f\"IQR for symmetric data is {sym_25} to {sym_75}\\nIQR for skew data is {skw_25} to {skw_75}\")"
   ]
  },
  {
   "cell_type": "code",
   "execution_count": null,
   "metadata": {},
   "outputs": [],
   "source": [
    "# Redoing plots including medians and IQR\n",
    "fig, (ax_sym, ax_skw) = plt.subplots(ncols=2, figsize=(8, 3))\n",
    "counts, bins, bars = ax_sym.hist(symmetric_data, bins=100)\n",
    "counts, bins, bars = ax_skw.hist(skew_data, bins=100)\n",
    "ax_sym.set_title(\"Symmetric Data\")\n",
    "ax_skw.set_title(\"Skew Data\")\n",
    "for ax in [ax_sym, ax_skw]:\n",
    "    ax.set_xlabel(\"Values\")\n",
    "    ax.set_ylabel(\"Counts\")\n",
    "for ax, median in zip([ax_sym, ax_skw], [sym_median, skw_median]):\n",
    "    ax.axvline(median, color='orange')\n",
    "    _, ymax = ax.get_ylim()\n",
    "    ax.text(median, ymax, \"Median\", ha='center', color='orange')\n",
    "for ax, q1, q3 in zip([ax_sym, ax_skw], [sym_25, skw_25], [sym_75, skw_75]):\n",
    "    ax.axvline(q1, color='orange', lw=0.5)\n",
    "    ax.axvline(q3, color='orange', lw=0.5)\n",
    "    _, ymax = ax.get_ylim()\n",
    "    ax.text(q1, ymax, \"25%\", ha='center', color='orange')\n",
    "    ax.text(q3, ymax, \"75%\", ha='center', color='orange')"
   ]
  },
  {
   "cell_type": "markdown",
   "metadata": {},
   "source": [
    "### Representing measures of central tendency and variability"
   ]
  },
  {
   "cell_type": "code",
   "execution_count": null,
   "metadata": {},
   "outputs": [],
   "source": [
    "# Error bar\n",
    "fig, (ax_means, ax_medians) = plt.subplots(ncols=2, sharey=True)\n",
    "ax_means.errorbar([0, 1], [sym_mean, skw_mean], yerr=[sym_std, skw_std], marker='o', linestyle='none')\n",
    "ax_means.set_xlim([-.5, 1.5])\n",
    "ax_means.set_xticks([0,1])\n",
    "ax_means.set_xticklabels([\"Symmetric\", \"Skew\"])\n",
    "ax_means.set_xlabel(\"Distributions\")\n",
    "ax_means.set_ylabel(\"Mean $\\pm \\sigma$\")\n",
    "\n",
    "ax_medians.errorbar([0, 1], [sym_median, skw_median], yerr=[[sym_median-sym_25, skw_median-skw_25],[sym_75-sym_median, skw_75-skw_median]], marker='o', linestyle='none')\n",
    "ax_medians.set_xlim([-.5, 1.5])\n",
    "ax_medians.set_xticks([0,1])\n",
    "ax_medians.set_xticklabels([\"Symmetric\", \"Skew\"])\n",
    "ax_medians.set_xlabel(\"Distributions\")\n",
    "ax_medians.set_ylabel(\"Median $\\pm$ IQR\")"
   ]
  },
  {
   "cell_type": "code",
   "execution_count": null,
   "metadata": {},
   "outputs": [],
   "source": [
    "# Box plot\n",
    "fig, ax = plt.subplots(figsize=(3, 3))\n",
    "ax.boxplot([symmetric_data, skew_data], notch=True, positions=[0,1])\n",
    "ax.set_xlim([-.5, 1.5])\n",
    "ax.set_xticks([0,1])\n",
    "ax.set_xticklabels([\"Symmetric\", \"Skew\"])\n",
    "ax.set_xlabel(\"Distributions\")\n",
    "ax.set_ylabel(\"Values\")"
   ]
  },
  {
   "cell_type": "code",
   "execution_count": null,
   "metadata": {},
   "outputs": [],
   "source": [
    "# Time series data\n",
    "def data_generator(F, noise=3.0, start=0):\n",
    "    data = [F[0]]\n",
    "    for f in F[1:]:\n",
    "        data.append(data[-1] + f + noise*(np.random.random()-0.5))\n",
    "    return(np.array(data))\n",
    "\n",
    "T = np.arange(0, 10, 0.01)\n",
    "F = np.sin(T)\n",
    "data_sets = np.array([data_generator(F) for i in range(1000)])"
   ]
  },
  {
   "cell_type": "code",
   "execution_count": null,
   "metadata": {},
   "outputs": [],
   "source": [
    "# plotting all traces using transparency\n",
    "fig, ax = plt.subplots()\n",
    "for data in data_sets:\n",
    "    ax.plot(T, data, color='k', alpha=.005)"
   ]
  },
  {
   "cell_type": "code",
   "execution_count": null,
   "metadata": {},
   "outputs": [],
   "source": [
    "# plotting only median and IQR\n",
    "median = np.percentile(data_sets, 50, axis=0)\n",
    "q1 = np.percentile(data_sets, 25, axis=0)\n",
    "q3 = np.percentile(data_sets, 75, axis=0)\n",
    "\n",
    "fig, ax = plt.subplots()\n",
    "ax.plot(T, median, 'k')\n",
    "ax.fill_between(T, q1, q3, color=\".8\")"
   ]
  },
  {
   "cell_type": "markdown",
   "metadata": {},
   "source": [
    "## The Central Limit Theorem\n"
   ]
  },
  {
   "cell_type": "code",
   "execution_count": null,
   "metadata": {},
   "outputs": [],
   "source": [
    "# Write a loop to take N samples from a distribution of your choice 10000 times. Calculate the mean of the samples and the and append to lists\n",
    "N = ???\n",
    "sample_means = []\n",
    "sample_std = []\n",
    "for i in range(10000):\n",
    "    ???\n"
   ]
  },
  {
   "cell_type": "code",
   "execution_count": null,
   "metadata": {},
   "outputs": [],
   "source": [
    "# plot a histogram of the distribution of your choice\n",
    "\n"
   ]
  },
  {
   "cell_type": "code",
   "execution_count": null,
   "metadata": {},
   "outputs": [],
   "source": [
    "# plot a histogram of samples_means \n",
    "\n"
   ]
  },
  {
   "cell_type": "code",
   "execution_count": null,
   "metadata": {},
   "outputs": [],
   "source": [
    "# Calculate standard deviation of sample_means (varibility in the mean)\n",
    "\n"
   ]
  },
  {
   "cell_type": "code",
   "execution_count": null,
   "metadata": {},
   "outputs": [],
   "source": [
    "# Show that variability in the mean equals average variability of the samples divided by sqrt N\n",
    "\n"
   ]
  },
  {
   "cell_type": "markdown",
   "metadata": {},
   "source": [
    "## Data from Wu et al. (2017), Nature "
   ]
  },
  {
   "cell_type": "code",
   "execution_count": null,
   "metadata": {},
   "outputs": [],
   "source": [
    "# Import data from Wu as a pandas DataFrame\n",
    "Wu_data = pd.read_csv(os.path.join(\"data\", \"ex5_dataset.csv\"))"
   ]
  },
  {
   "cell_type": "code",
   "execution_count": null,
   "metadata": {},
   "outputs": [],
   "source": [
    "# Start by charicterizing the means, std deviations, SEM of data. Plot means and sem using error bar format above. \n",
    "\n"
   ]
  },
  {
   "cell_type": "code",
   "execution_count": null,
   "metadata": {},
   "outputs": [],
   "source": [
    "# Plot two conditions using medians and IQR or a full box plot\n",
    "\n"
   ]
  },
  {
   "cell_type": "code",
   "execution_count": null,
   "metadata": {},
   "outputs": [],
   "source": [
    "# Recreate the CDF in the figure by \n",
    "# 1. selecting the WT rescue column\n",
    "# 2. dropping the nan values\n",
    "# 3. Sorting them\n",
    "# 4. Indexing the data, normalizing to get a fraction, and plotting fraction vs data. \n",
    "# MODIFY THIS CODE TO INLCUDE THE SYT1,7 Data\n",
    "\n",
    "WT_sorted = np.sort(Wu_data[\"WT/Rescue\"].dropna())\n",
    "normed_fraction = np.arange(0, len(WT_sorted)) / len(WT_sorted)\n",
    "fig, ax = plt.subplots()\n",
    "ax.plot(WT_sorted, normed_fraction)"
   ]
  },
  {
   "cell_type": "code",
   "execution_count": null,
   "metadata": {},
   "outputs": [],
   "source": [
    "# Recreate the denisty plot using pandas built in plotting functions hist or kde\n",
    "Wu_data.???"
   ]
  },
  {
   "cell_type": "code",
   "execution_count": null,
   "metadata": {},
   "outputs": [],
   "source": []
  }
 ],
 "metadata": {
  "kernelspec": {
   "display_name": "Python 3 (QN)",
   "language": "python",
   "name": "py3-qn"
  },
  "language_info": {
   "codemirror_mode": {
    "name": "ipython",
    "version": 3
   },
   "file_extension": ".py",
   "mimetype": "text/x-python",
   "name": "python",
   "nbconvert_exporter": "python",
   "pygments_lexer": "ipython3",
   "version": "3.7.0"
  }
 },
 "nbformat": 4,
 "nbformat_minor": 4
}
