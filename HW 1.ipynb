{
 "cells": [
  {
   "cell_type": "markdown",
   "metadata": {},
   "source": [
    "# Homework 1: Python basics & `numpy`"
   ]
  },
  {
   "cell_type": "markdown",
   "metadata": {},
   "source": [
    "## Notebook setup\n"
   ]
  },
  {
   "cell_type": "code",
   "execution_count": null,
   "metadata": {},
   "outputs": [],
   "source": [
    "# Importing the numpy package\n",
    "import numpy as np"
   ]
  },
  {
   "cell_type": "markdown",
   "metadata": {},
   "source": [
    "## Problem 1.1: creating a stimulus/response pair\n",
    "\n",
    "The goal of this problem is to construct a stimulus set for a delayed match to sample task. In a delayed match to sample task, an animal is presented with a pair of stimuli (usually with some delay period) and then has to indicate when the two stimuli match. In this example the possible stimuli are summarized by the list `stimulus_set` and each stimulus is represented by a character `A`, `B`, etc."
   ]
  },
  {
   "cell_type": "code",
   "execution_count": null,
   "metadata": {},
   "outputs": [],
   "source": [
    "# The possible stimuli \n",
    "stimlus_set = ['A', 'B', 'C', 'D']"
   ]
  },
  {
   "cell_type": "code",
   "execution_count": null,
   "metadata": {},
   "outputs": [],
   "source": [
    "# Problem 1.1.1\n",
    "# Look at the documentation for the `itertools` package to find a function that \n",
    "# will take all possible pairs of two lists. Use this function and list comprehension\n",
    "# syntax to create a list of all possible stimulus pairs. \n",
    "\n",
    "stimulus_pairs = [???? for ???? in ????]"
   ]
  },
  {
   "cell_type": "code",
   "execution_count": null,
   "metadata": {},
   "outputs": [],
   "source": [
    "# Problem 1.1.2\n",
    "# Use whatever means necessary to construct a dictionary called `correct_repsonses` \n",
    "# containing the correct responses for the animal to each of these stimuli.\n",
    "# The keys should be the stimuli pairs and the values should be the correct responses. \n",
    "# When the stimuli matches the response should be \"go\" when the stimuli disagree \n",
    "# te response should be \"nogo.\" e.g. it would contain the key value pair {'AA': 'go', ...}.\n",
    "# Don't do this by hand, use loops, if statements, whatever you need. \n",
    "\n",
    "\n",
    "\n",
    "\n",
    "\n"
   ]
  },
  {
   "cell_type": "code",
   "execution_count": null,
   "metadata": {},
   "outputs": [],
   "source": [
    "# Problem 1.1.3\n",
    "# Look up the DICTIONARY.items() syntax to construct a loop that prints \n",
    "# out each stimulus and response pair contained in correct_responses. \n",
    "# Use fstrings to make this readable for the user.\n",
    "# \n",
    "# EXTRA CREDIT: Use `zip` or `enumerate` to add print a number before \n",
    "# each of the stimulus, response combinations. \n",
    "\n",
    "\n",
    "\n",
    "\n",
    "\n",
    "\n"
   ]
  },
  {
   "cell_type": "markdown",
   "metadata": {},
   "source": [
    "## Problem 1.2: parsing a spike train\n",
    "\n",
    "Below are two variables `spike_times` and `stimulus_onset`.\n",
    "\n",
    "* `spike_times` represent recorded spikes from a single neuron measured in seconds from the beginning of the session. \n",
    "* `stimulus_onset` represents the onset times of the nine stimuli presented in the session. \n",
    "\n",
    "We're going to develop a function that parses the spike train over the entire session to generate arrays which measure spike times relative to the stimulus for each stimulus presentation. "
   ]
  },
  {
   "cell_type": "code",
   "execution_count": null,
   "metadata": {},
   "outputs": [],
   "source": [
    "# Constructing the articificial data\n",
    "spike_times = 10*np.random.rand(1000)\n",
    "spike_times.sort()\n",
    "\n",
    "stimulus_onset = np.arange(1, 10, 1.0)\n",
    "\n",
    "print(f\"spike times = \\n {spike_times}\\n\")\n",
    "print(f\"stimulus_onset = \\n {stimulus_onset}\")"
   ]
  },
  {
   "cell_type": "code",
   "execution_count": null,
   "metadata": {},
   "outputs": [],
   "source": [
    "## Problem 1.2.1: \n",
    "# Write a script that generates an array with all the spikes recorded \n",
    "# 0.5 s before and 0.5 s after the first stimulus is played at t=1.0s.\n",
    "# change the spike times so they are difined relative to stimulus onset \n",
    "# rather than the beginning of the session. Name this array \n",
    "# `spike_times_rel_to_stim`\n",
    "\n",
    "\n",
    "\n",
    "\n"
   ]
  },
  {
   "cell_type": "code",
   "execution_count": null,
   "metadata": {},
   "outputs": [],
   "source": [
    "## Problem 1.2.2\n",
    "# Use the script from the previous problem and a for loop to generate a\n",
    "# list of numpy arrays named `spike_times_rel_to_stims` where each element of the \n",
    "# list is an array like one above except relative to each stimulus presented.\n",
    "# i.e. \n",
    "# spike_times_rel_to_stims[0] = the array from the preovious problem\n",
    "# spike_times_rel_to_stims[1] = the array of spikke times relative to the stimulus played at t=2.0s \n",
    "# etc. \n",
    "\n",
    "\n",
    "\n",
    "\n"
   ]
  },
  {
   "cell_type": "code",
   "execution_count": null,
   "metadata": {},
   "outputs": [],
   "source": [
    "## Problem 1.2.3\n",
    "# wrap the code from the previous problem in a funtion which takes two arguments\n",
    "# spike_times & event_times (in the cases above we are setting event_times as stimulus_onset)\n",
    "\n",
    "def relative_spike_times(spike_times, event_times):\n",
    "    \"\"\"\n",
    "    This is the docstring that shows up when you ask for help about \n",
    "    this function. A short description of your function should go here. \n",
    "    \"\"\"\n",
    "    ???\n",
    "    return(spike_times_rel_to_events)\n",
    "\n",
    "# Extra credit: what if you wanted to include the time pre_event and post_event that is included as a keyword argument?"
   ]
  },
  {
   "cell_type": "code",
   "execution_count": null,
   "metadata": {},
   "outputs": [],
   "source": [
    "# This block creates articificial data from a second neuron \n",
    "spike_times_2 = spike_times - np.random.normal(loc=0.1, scale=0.1, size=len(spike_times))"
   ]
  },
  {
   "cell_type": "code",
   "execution_count": null,
   "metadata": {},
   "outputs": [],
   "source": [
    "## Problem 1.2.4\n",
    "# `spike_times_2` represents the spikes times of another neuron recorded during the same session\n",
    "# Use the function you just wrote to find the firing times of neuron 1 relative to neuron 2\n",
    "# Compute the average time difference. using the output. Is it postive or negative? What does \n",
    "# that tell you about the relative spike timing of these two cells? \n",
    "\n",
    "\n",
    "\n",
    "\n",
    "\n",
    "\n"
   ]
  },
  {
   "cell_type": "markdown",
   "metadata": {},
   "source": [
    "## Problem 1.3: Scipy \n",
    "\n",
    "In this problem, You'll be getting used to some of the mechanics of `numpy` and how you look up tools in `scipy`. We're going to generate points from the function \n",
    "\n",
    "$$f(x) = \\cos\\left(\\frac{x}{\\pi} -0.2\\right) + 0.8$$"
   ]
  },
  {
   "cell_type": "code",
   "execution_count": null,
   "metadata": {},
   "outputs": [],
   "source": [
    "# Problem 1.3.1\n",
    "# Write a function `f` that takes `x` as an argument and returns the value\n",
    "# specfiied by the equation above. Recall: `numpy` has all the standard trig.\n",
    "# functions build in as well as constants like `pi`\n",
    "\n",
    "def f(x):\n",
    "    \"\"\"\n",
    "    Put your docstring here. \n",
    "    \"\"\"\n",
    "    return(?????)"
   ]
  },
  {
   "cell_type": "code",
   "execution_count": null,
   "metadata": {},
   "outputs": [],
   "source": [
    "# Problem 1.3.2 \n",
    "# Let's say we'd like to numeraically integrate this function from 0 to 2. \n",
    "# Look up how you would do that using the `scipy.integrate.quad` function\n",
    "# Feel free to play around with the limits of integration to make sure that\n",
    "# this function is doing something sensible. (e.g. integrating from 0 to 0\n",
    "# should return 0)\n",
    "\n",
    "\n",
    "\n"
   ]
  },
  {
   "cell_type": "code",
   "execution_count": null,
   "metadata": {},
   "outputs": [],
   "source": [
    "# Problem 1.3.3 \n",
    "# Plotting teaser! Generate an array `X`, which contains `X` values from \n",
    "# -5 to 5. Then use `X` to make an array `F` containing the value of `F` \n",
    "# for all those values. The code in the cell below will then plot the function. \n",
    "\n",
    "X = ????\n",
    "F = ????"
   ]
  },
  {
   "cell_type": "code",
   "execution_count": null,
   "metadata": {},
   "outputs": [],
   "source": [
    "import matplotlib.pyplot as plt\n",
    "%matplotlib inline\n",
    "\n",
    "plt.plot(X,F)"
   ]
  },
  {
   "cell_type": "markdown",
   "metadata": {},
   "source": [
    "## Problem 1.4: Build-a-matrix \n",
    "\n",
    "### Problem 1.4.1\n",
    "\n",
    "Construct a matrix multiplation of your own similar to what we did in class. Take two arrays (the second can be a vector as we did in class). Explain the meaning of the dimensions of each and why matrix multiplication would be approprpriate. Give these arrays names that make sense given what they contain. Use python naming conventions. \n",
    "\n",
    "Code these in and use the matrix multiplication operator `@` to use python to execute the operation and find the result. Show that the shape of the final array makes sense given the shapes of the two arrays you multiplied"
   ]
  },
  {
   "cell_type": "markdown",
   "metadata": {},
   "source": [
    "**your description in markdown goes here**"
   ]
  },
  {
   "cell_type": "code",
   "execution_count": null,
   "metadata": {},
   "outputs": [],
   "source": [
    "# Your code goes here\n",
    "\n",
    "\n"
   ]
  },
  {
   "cell_type": "markdown",
   "metadata": {},
   "source": [
    "### Problem 1.4.2 \n",
    "\n",
    "Exactly the same as the previous part except now we'd like to combing two arrays via pointwise multiplication. Come up with an example pair, etc. \n"
   ]
  },
  {
   "cell_type": "markdown",
   "metadata": {},
   "source": [
    "**your description in markdown goes here**"
   ]
  },
  {
   "cell_type": "code",
   "execution_count": null,
   "metadata": {},
   "outputs": [],
   "source": [
    "# Your code goes here\n",
    "\n",
    "\n"
   ]
  }
 ],
 "metadata": {
  "kernelspec": {
   "display_name": "Python 3 (QN)",
   "language": "python",
   "name": "py3-qn"
  },
  "language_info": {
   "codemirror_mode": {
    "name": "ipython",
    "version": 3
   },
   "file_extension": ".py",
   "mimetype": "text/x-python",
   "name": "python",
   "nbconvert_exporter": "python",
   "pygments_lexer": "ipython3",
   "version": "3.8.5"
  }
 },
 "nbformat": 4,
 "nbformat_minor": 4
}
