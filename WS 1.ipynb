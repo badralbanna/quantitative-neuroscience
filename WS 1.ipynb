{
 "cells": [
  {
   "cell_type": "markdown",
   "source": [
    "# Workshop 1: Data science tools \n",
    "\n",
    "The purpose of this assignment is for you to begin the process of using the data science tools introduced in class to begin analyzing your data (or data similar to it). The end point of this workshop will vary based on the complexity of the data and your familiarity with the programming tools, but the goal is for you to establish some of the basic workflows you will need to complete your final project. \n",
    "\n",
    "The products of this assignment are:\n",
    "1. **This notebook** which should include not only the code you use but descriptions and explanations of what you re doing using Markdown text blocks.\n",
    "2. **Some form of processed data** stored as  HDF5, CSV, or another appropriate file format.  \n",
    "3. **Vizualizations produced from your data** saved as PDFs\n",
    "\n",
    "**All three should be submitted to Canvas.** "
   ],
   "metadata": {}
  },
  {
   "cell_type": "code",
   "execution_count": null,
   "source": [
    "# Import any packages you will need here "
   ],
   "outputs": [],
   "metadata": {}
  },
  {
   "cell_type": "markdown",
   "source": [
    "## Describing the data set\n",
    "\n",
    "Using markdown, describe your data set. What experiments are these data from? What specific variables were measured? How were they stored? What other details are necessary for interpreting the data (meaning of variables, meaning of category labels, units, etc)? In other words, write an explanation that would allow someone else to successfully load and interpret your data set for analysis. "
   ],
   "metadata": {}
  },
  {
   "cell_type": "markdown",
   "source": [
    "_Describe your data set here_"
   ],
   "metadata": {}
  },
  {
   "cell_type": "markdown",
   "source": [],
   "metadata": {}
  },
  {
   "cell_type": "markdown",
   "source": [
    "## Importing your data into python\n",
    "\n",
    "Import your data into python by whatever means are required. This will depend on your file format. I.e. excel files can be imported into pandas directly, hdf5 files can be read into numpy arrays and later other formats like xarray as needed. "
   ],
   "metadata": {}
  },
  {
   "cell_type": "code",
   "execution_count": null,
   "source": [],
   "outputs": [],
   "metadata": {}
  },
  {
   "cell_type": "markdown",
   "source": [
    "## Processing your data into a form suitable for visualization\n",
    "\n",
    "Process your data into the form required for visualization. The visualization need not be a figure per se. It could be plots of raw data or other basic quantities used to get a sense for your data. "
   ],
   "metadata": {}
  },
  {
   "cell_type": "code",
   "execution_count": null,
   "source": [],
   "outputs": [],
   "metadata": {}
  },
  {
   "cell_type": "markdown",
   "source": [
    "## Creating visualization(s) based on your data\n",
    "\n",
    "Create one or more visualizations based on your data. "
   ],
   "metadata": {}
  },
  {
   "cell_type": "code",
   "execution_count": null,
   "source": [
    "# Put your global formatting options here"
   ],
   "outputs": [],
   "metadata": {}
  },
  {
   "cell_type": "code",
   "execution_count": null,
   "source": [],
   "outputs": [],
   "metadata": {}
  },
  {
   "cell_type": "markdown",
   "source": [
    "## Saving your results\n",
    "\n",
    "Save your processed data and visualization (as a PDF). "
   ],
   "metadata": {}
  },
  {
   "cell_type": "code",
   "execution_count": null,
   "source": [],
   "outputs": [],
   "metadata": {}
  }
 ],
 "metadata": {
  "orig_nbformat": 4,
  "language_info": {
   "name": "python"
  }
 },
 "nbformat": 4,
 "nbformat_minor": 2
}