{
 "cells": [
  {
   "cell_type": "markdown",
   "metadata": {},
   "source": [
    "# Data Workshop 1\n",
    "\n",
    "The training wheels are off! In this workshop you will read up on the dataset from CRCCNS pvc-6, import the data from h5py into either an xarray object or a pandas object, and plot first the raw data, and then averaged data with uncertainty measures. \n",
    "\n",
    "Our goal is to generate a few plots based on this data set\n",
    "\n",
    "1. Using the constant current inputs: a plot of firing rate vs. current input for both cell types & stimulus types (constant vs white noise)\n",
    "2. Using the ramping inputs: a plot of frequency vs. current input for both cell types. \n",
    "\n",
    "The gameplan is\n",
    "\n",
    "1. Load data using h5py\n",
    "2. Create some exploratory plots\n",
    "3. Create pandas DataFrame for stimuli\n",
    "4. Create xarrays for recordings\n",
    "5. Create pandas DataFrame for responses\n",
    "5. Using steps: Create plot of firing rate vs I (step & noise, both cells) \n",
    "6. Using ramps: Create plot of f vs I (both cells)\n",
    "\n"
   ]
  },
  {
   "cell_type": "markdown",
   "metadata": {},
   "source": [
    "## Setup notebook"
   ]
  },
  {
   "cell_type": "code",
   "execution_count": null,
   "metadata": {},
   "outputs": [],
   "source": []
  },
  {
   "cell_type": "markdown",
   "metadata": {},
   "source": [
    "## Exploratory plotting "
   ]
  },
  {
   "cell_type": "code",
   "execution_count": null,
   "metadata": {},
   "outputs": [],
   "source": []
  },
  {
   "cell_type": "markdown",
   "metadata": {},
   "source": [
    "## Create `xarrays` for stimulus and responses"
   ]
  },
  {
   "cell_type": "code",
   "execution_count": null,
   "metadata": {},
   "outputs": [],
   "source": []
  },
  {
   "cell_type": "markdown",
   "metadata": {},
   "source": [
    "## Create a function to characterize stimuli"
   ]
  },
  {
   "cell_type": "code",
   "execution_count": null,
   "metadata": {},
   "outputs": [],
   "source": []
  },
  {
   "cell_type": "markdown",
   "metadata": {},
   "source": [
    "## Create a function to to find spike times and counts"
   ]
  },
  {
   "cell_type": "code",
   "execution_count": null,
   "metadata": {},
   "outputs": [],
   "source": []
  },
  {
   "cell_type": "markdown",
   "metadata": {},
   "source": [
    "## Create a pandas `DataFrame` with the cell type, stimulus type, sweep number, stimulus descriptives, and neural responses"
   ]
  },
  {
   "cell_type": "code",
   "execution_count": null,
   "metadata": {},
   "outputs": [],
   "source": [
    "# Template\n",
    "# 1. create a list that we will store each dictionary in representing a row of \n",
    "processed_data = []\n",
    "# 2. Looping over each group in the data file\n",
    "for group in h5data1:\n",
    "    # 3. Creating a dicitonary that represnets the current sweep that will eventually be added\n",
    "    #    to the list. \n",
    "    current_data = {}\n",
    "    # 4. Check whether the current group is actually a sweep\n",
    "\n",
    "\n",
    "    # 5. If it is extract the sweep number and find the type of sweep and add these \n",
    "    #    to the dictionary. \n",
    "    current_data = {group: num}\n",
    "\n",
    "\n",
    "    # 6. Describe the current sweep and add that to the dictionary\n",
    "    # 7. Describe the response and add that to the dictionary \n",
    "# 8. Create a pandas DataFrame and set the sweep number as the index"
   ]
  },
  {
   "cell_type": "markdown",
   "metadata": {},
   "source": [
    "## Using steps: Create plot of firing rate vs I (step & noise, both cells)"
   ]
  },
  {
   "cell_type": "code",
   "execution_count": null,
   "metadata": {},
   "outputs": [],
   "source": [
    "# 1. Create a new column in the dataframe which calculates the stimulus_duration\n",
    "#    and use this column to create a new column for avg_firing_rate during\n",
    "#    the stimulus. \n",
    "# 2. create a plot with one set of axes that plots avg_firing_rate vs current \n",
    "#    for each cell, step and noise stimuli. \n",
    "# 3. Properly annotate the plot and create a stylisitc scheme that allows you \n",
    "#    to see which lines correspond to the putative pyramidal cell vs the som \n",
    "#    also create a stylisitic scheme to easily seperate the step vs noise stimuli\n",
    "#    for each cell type"
   ]
  },
  {
   "cell_type": "markdown",
   "metadata": {},
   "source": [
    "## Using ramps: Create plot of f vs I (both cells)"
   ]
  },
  {
   "cell_type": "code",
   "execution_count": null,
   "metadata": {},
   "outputs": [],
   "source": []
  }
 ],
 "metadata": {
  "kernelspec": {
   "display_name": "Python 3 (QN)",
   "language": "python",
   "name": "py3-qn"
  },
  "language_info": {
   "codemirror_mode": {
    "name": "ipython",
    "version": 3
   },
   "file_extension": ".py",
   "mimetype": "text/x-python",
   "name": "python",
   "nbconvert_exporter": "python",
   "pygments_lexer": "ipython3",
   "version": "3.8.5"
  }
 },
 "nbformat": 4,
 "nbformat_minor": 4
}
