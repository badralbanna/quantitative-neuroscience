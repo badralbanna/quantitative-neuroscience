{
 "cells": [
  {
   "cell_type": "markdown",
   "metadata": {},
   "source": [
    "# Homework 3: Correlation, Casual Modeling, and Regressions\n",
    "\n",
    "* 3.1 Dissecting some data (including checking for indepedance)\n",
    "* 3.2 Creating your own causal model\n",
    "* 3.3 Statistical tests\n",
    "\n",
    "## Setup"
   ]
  },
  {
   "cell_type": "code",
   "execution_count": null,
   "metadata": {},
   "outputs": [],
   "source": [
    "# The standard packages\n",
    "import os\n",
    "import numpy as np\n",
    "import pandas as pd\n",
    "import xarray as xr\n",
    "import matplotlib as mpl\n",
    "import matplotlib.pyplot as plt\n",
    "\n",
    "# Additional packages relevant for this HW\n",
    "import scipy.stats as sps\n",
    "import statsmodels.api as sm\n",
    "import statsmodels.formula.api as smf\n",
    "\n",
    "%matplotlib inline"
   ]
  },
  {
   "cell_type": "markdown",
   "metadata": {},
   "source": [
    "## Problem 3.1: Dissecting a causal model\n",
    "\n",
    "Below is a graphical model for how recovery from a ailment depends on whether or not a person afflicted takes a given drug. The drug is known through two speerate pathways: affecting the patients heart rate and their immune response. The other major assumption of this model is that the age is only reelvant insofar as it affects a set of risk factors that affect (1) the heart rate of the patient, (2) their immune response, (3) their recovery rate in general, and (4) whether or not they decide to take the drug. \n",
    "\n",
    "This is not a controlled experiment but observational data collected over years of patients using the drug. Assume you have access to data for all the nodes in your model. \n"
   ]
  },
  {
   "cell_type": "code",
   "execution_count": null,
   "metadata": {},
   "outputs": [],
   "source": [
    "from causalgraphicalmodels import CausalGraphicalModel"
   ]
  },
  {
   "cell_type": "code",
   "execution_count": null,
   "metadata": {},
   "outputs": [],
   "source": [
    "recovery_model = CausalGraphicalModel(\n",
    "    nodes=[\"drug\", \"heart rate\", \"immune response\", \"recovery\", \"age\", \"risk factors\"],\n",
    "    edges=[\n",
    "        (\"drug\", \"immune response\"),\n",
    "        (\"drug\", \"heart rate\"),\n",
    "        (\"heart rate\", \"recovery\"),\n",
    "        (\"immune response\", \"recovery\"),\n",
    "        (\"age\", \"drug\"),\n",
    "        (\"age\", \"risk factors\"),\n",
    "        (\"risk factors\", \"drug\"),\n",
    "        (\"risk factors\", \"immune response\"),\n",
    "        (\"risk factors\", \"heart rate\"),\n",
    "        (\"risk factors\", \"recovery\"),\n",
    "\n",
    "    ]\n",
    ")\n",
    "\n",
    "recovery_model.draw()"
   ]
  },
  {
   "cell_type": "markdown",
   "metadata": {},
   "source": [
    "### 3.1.1 Is age really not directly causally related to recovery?\n",
    "\n",
    "This model makes a strong assumption that age only affects the recovery through other risk factors.What variables would you need to condition on to see that age and recovery do not have a causal link as the model assumes? "
   ]
  },
  {
   "cell_type": "markdown",
   "metadata": {},
   "source": [
    "**Your answer:**\n",
    "\n",
    "???"
   ]
  },
  {
   "cell_type": "code",
   "execution_count": null,
   "metadata": {},
   "outputs": [],
   "source": [
    "# Check using `is_d_separated` fuction. It will return True of the set of conditioning variables you enter is sufficient to make age and recovery independant. \n",
    "recovery_model.is_d_separated(\"age\", \"recovery\", {\"risk factors\", \"???\"})"
   ]
  },
  {
   "cell_type": "markdown",
   "metadata": {},
   "source": [
    "### 3.1.2 Is the casual relationship between drug and recovery identifiable from the data using backdoor criterion?\n",
    "\n",
    "According to our model, can we figure out $P(\\textrm{recovery} | \\textrm{do(drug)})$ from our data by applying the backdoor criterion? What variables would we need to use for backdoor correction? _Bonus: type out the equation you would use_\n",
    "\n"
   ]
  },
  {
   "cell_type": "markdown",
   "metadata": {},
   "source": [
    "**Yor answer**:\n",
    "\n",
    "???"
   ]
  },
  {
   "cell_type": "markdown",
   "metadata": {},
   "source": [
    "### 3.1.3 Is the casual relationship between drug and recovery identifiable from the data using frontdoor criterion?\n",
    "\n",
    "According to our model, can we figure out $P(\\textrm{recovery} | \\textrm{do(drug)})$ from our data by applying the frontdoor criterion? What variables would we need to use for frontdoor correction? _Bonus: type out the equation you would use_\n"
   ]
  },
  {
   "cell_type": "code",
   "execution_count": null,
   "metadata": {},
   "outputs": [],
   "source": [
    "# Check using `get_all_backdoor_adjustment_sets`, it spits our a `fozen set` of all of the possible sets you could use to do backdoor \n",
    "recovery_model.get_all_backdoor_adjustment_sets(\"drug\", \"recovery\")"
   ]
  },
  {
   "cell_type": "code",
   "execution_count": null,
   "metadata": {},
   "outputs": [],
   "source": [
    "According to our model, can we figure out $P(\\textrm{recovery} | \\textrm{do(drug)})$ from our data by applying the backdoor criterion? What variables would we need to use for backdoor correction? "
   ]
  },
  {
   "cell_type": "markdown",
   "metadata": {},
   "source": [
    "## Problem 3.2: Creating your own causal model\n",
    "\n",
    "In this question you'll use the `causalgraphicalmodels` package, generate your own causal graphical model - ideally one relevant to your research. It's even better if you create a graphical model relevant for the data you plan to use in your final project."
   ]
  },
  {
   "cell_type": "code",
   "execution_count": null,
   "metadata": {},
   "outputs": [],
   "source": [
    "from causalgraphicalmodels import CausalGraphicalModel"
   ]
  },
  {
   "cell_type": "markdown",
   "metadata": {},
   "source": [
    "### 3.2.1 Construct your model\n",
    "\n",
    "Construct your model. It's OK to omit unobserved sources of error as long as they are uncorrelated. \n"
   ]
  },
  {
   "cell_type": "code",
   "execution_count": null,
   "metadata": {},
   "outputs": [],
   "source": [
    "my_model = CausalGraphicalModel(\n",
    "    nodes=[???],\n",
    "    edges=[\n",
    "        ???\n",
    "    ]\n",
    ")\n",
    "\n",
    "my_model.draw()"
   ]
  },
  {
   "cell_type": "markdown",
   "metadata": {},
   "source": [
    "### 3.2.2 Find the predicted independance relationships for your model\n",
    "\n",
    "Determine what conditional indepedance relations your model predicts using criterion we discussed in class. \n"
   ]
  },
  {
   "cell_type": "markdown",
   "metadata": {},
   "source": [
    "**List them here**:\n",
    "\n",
    "1. ???"
   ]
  },
  {
   "cell_type": "markdown",
   "metadata": {},
   "source": [
    "Verify these are right using the `get_all_independence_relationships()` function attached to your model "
   ]
  },
  {
   "cell_type": "code",
   "execution_count": null,
   "metadata": {},
   "outputs": [],
   "source": [
    "my_model.sprinkler.get_all_independence_relationships()"
   ]
  },
  {
   "cell_type": "markdown",
   "metadata": {},
   "source": [
    "### 3.2.3 Is the relationship you are interested in identifiable?  \n",
    "\n",
    "Identify a pair of variables in your model that you are interested in finding the relationship between. Describe whether the relationship between these variables $ P(Y|do(X)) $\n",
    "is _identifiable_ given your model. (You can use the front or back door criterion). \n",
    "\n",
    "*Bonus: Use one of these methods to write $ P(Y|do(X)) $ in terms of the observed probabilities.* \n"
   ]
  },
  {
   "cell_type": "markdown",
   "metadata": {},
   "source": [
    "**Which variables are you interested in**:\n",
    "\n",
    "1. ???\n",
    "2. ???"
   ]
  },
  {
   "cell_type": "markdown",
   "metadata": {},
   "source": [
    "**Describe whether this relationship is identifiable given your model**:\n",
    "\n",
    "???\n",
    "\n"
   ]
  },
  {
   "cell_type": "markdown",
   "metadata": {},
   "source": [
    "**If it is identifiable, write the formula in terms of the data. If it isn't say what experimental manipluations might change your graph to make it identifiable**:\n",
    "\n",
    "???"
   ]
  },
  {
   "cell_type": "code",
   "execution_count": null,
   "metadata": {},
   "outputs": [],
   "source": []
  },
  {
   "cell_type": "markdown",
   "metadata": {},
   "source": [
    "## Problem 3.3: Classical Statistical Tests\n",
    "\n",
    "For thsi question you need to reproduce the test results from https://elifesciences.org/articles/07643/figures Figure 4A, B, or C (pick one.) \n"
   ]
  },
  {
   "cell_type": "markdown",
   "metadata": {},
   "source": [
    "### Problem 3.3.1: Download the data, upload to cluster, import as pandas dataframe\n",
    "\n",
    "The data is in an excel file under the figure. pandas `read_excel` function has a keyword argument `sheet_name` where you can tell it which sheet you want."
   ]
  },
  {
   "cell_type": "code",
   "execution_count": null,
   "metadata": {},
   "outputs": [],
   "source": [
    "fig4_data = pd.read_excel(???, sheet_name=???)"
   ]
  },
  {
   "cell_type": "markdown",
   "metadata": {},
   "source": [
    "### Problem 3.3.2: Plot the comparison you are interested in\n",
    "\n",
    "Do this any way you like just remember to represent uncertainty some how and label everything appropriately "
   ]
  },
  {
   "cell_type": "code",
   "execution_count": null,
   "metadata": {},
   "outputs": [],
   "source": []
  },
  {
   "cell_type": "markdown",
   "metadata": {},
   "source": [
    "### Problem 3.3.3: Test for normality, equal variances, and then run approriate t-test"
   ]
  },
  {
   "cell_type": "code",
   "execution_count": 36,
   "metadata": {},
   "outputs": [
    {
     "name": "stdout",
     "output_type": "stream",
     "text": [
      "Object `?` not found.\n"
     ]
    }
   ],
   "source": [
    "???"
   ]
  },
  {
   "cell_type": "markdown",
   "metadata": {},
   "source": [
    "Did you reproduce their results?"
   ]
  },
  {
   "cell_type": "markdown",
   "metadata": {},
   "source": [
    "** Your answer here**:\n",
    "\n",
    "???"
   ]
  }
 ],
 "metadata": {
  "kernelspec": {
   "display_name": "Python 3 (QN)",
   "language": "python",
   "name": "py3-qn"
  },
  "language_info": {
   "codemirror_mode": {
    "name": "ipython",
    "version": 3
   },
   "file_extension": ".py",
   "mimetype": "text/x-python",
   "name": "python",
   "nbconvert_exporter": "python",
   "pygments_lexer": "ipython3",
   "version": "3.8.5"
  },
  "nteract": {
   "version": "0.26.0"
  }
 },
 "nbformat": 4,
 "nbformat_minor": 4
}
