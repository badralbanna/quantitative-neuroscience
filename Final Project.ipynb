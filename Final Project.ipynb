{
 "cells": [
  {
   "cell_type": "markdown",
   "metadata": {},
   "source": [
    "# Final Project \n",
    "\n",
    "In your final project, you'll be expected to demonstrate mastery of the data science, modeling, and statistical skills we've covered in class. Big picture, **the goal of this project is for you to take some data, load and preprocess it, store that preprocessed data, make some preliminary visualizations, conduct relevant statistical analysis or generate models, and create at least one polished subpanel with comparisons of interest.** Your work will be documented with comprehensive written descriptions as well as the code and visualizations themselves. In addition to these results you will be expected to **discuss your next steps and reflect on the process.** \n",
    "\n",
    "Your work will be done and documented in a Jupyter notebook which you will turn in as your final assignment. You are also expected to present your results in a presentation **no longer than** 20 minutes using the notebook itself for any visuals.  \n",
    "\n",
    "## Detailed outline:\n",
    "\n",
    "1. **take some data:**  The data can be your own, a lab mates, or a set that is publicly available. It's ok if the data is very preliminary. I'd rather you analyze your own preliminary data than A complete data set that is less relevant to your future work. \n",
    "2. **load and preprocess it**: Load the data into a form you can analyze easily (i.e. pandas dataframe / xarray). Conduct any preliminary preprocessing to create variables of interest, remove outliers or incomplete data, etc. \n",
    "3. **store that preprocessed data:** Once you have completed preprocessing you should story your data in a sensible format such as HDF5, CSV.\n",
    "4. **make some preliminary visualizations:** Create preliminary visualizations to check that the data has been loaded and preprocessed properly and/or guide a detailed analysis of one aspect of the data. \n",
    "5. **conduct relevant statistical analysis or generate models:** This likely will include a power analysis (its ok if the data you have doesn't rise to the bar set by the power analysis), relevant statistical tests and potentially modeling. You are encouraged, (but not required) to include a causal graphical model to contextualize your dataset and indicate needed controls (ok if you don't have data for these now.)\n",
    "6. **create at least one polished subpanel with comparisons of interest:** Generate at least one polished, publication-ready subpanel that makes a claim about your data based on your analysis above. Incorporate the guidelines from class around clarity, transparency, representing uncertainty, etc. \n",
    "7. **Discuss your results based on your figures and analyses** Imagine this is the text that would accompany these figures and results in a manuscript. What would claim based on your work?\n",
    "8. **discuss your next steps:** Discuss your next plans for data collection and analysis on this project. \n",
    "9. **reflect on the process:** Discuss your experiences with this project. What skills do you feel you have made significant progress on? Which places do you feel you still have areas of significant improvement? What are your _short-term, specific_ goals for improving your quantitative research skills? \n"
   ]
  },
  {
   "cell_type": "markdown",
   "metadata": {},
   "source": [
    "## Description of the experimental design and data set"
   ]
  },
  {
   "cell_type": "code",
   "execution_count": null,
   "metadata": {},
   "outputs": [],
   "source": []
  },
  {
   "cell_type": "markdown",
   "metadata": {},
   "source": [
    "## Loading and preprocessing the data "
   ]
  },
  {
   "cell_type": "code",
   "execution_count": null,
   "metadata": {},
   "outputs": [],
   "source": []
  },
  {
   "cell_type": "markdown",
   "metadata": {},
   "source": [
    "## Store the prepocessed data"
   ]
  },
  {
   "cell_type": "code",
   "execution_count": null,
   "metadata": {},
   "outputs": [],
   "source": []
  },
  {
   "cell_type": "markdown",
   "metadata": {},
   "source": [
    "## Preliminary vizualizations "
   ]
  },
  {
   "cell_type": "code",
   "execution_count": null,
   "metadata": {},
   "outputs": [],
   "source": []
  },
  {
   "cell_type": "markdown",
   "metadata": {},
   "source": [
    "## Statistical analysis / Modeling"
   ]
  },
  {
   "cell_type": "code",
   "execution_count": null,
   "metadata": {},
   "outputs": [],
   "source": []
  },
  {
   "cell_type": "markdown",
   "metadata": {},
   "source": [
    "## Publication-ready subpanel"
   ]
  },
  {
   "cell_type": "code",
   "execution_count": null,
   "metadata": {},
   "outputs": [],
   "source": []
  },
  {
   "cell_type": "markdown",
   "metadata": {},
   "source": [
    "## Subpanel discussion (results relevant)"
   ]
  },
  {
   "cell_type": "code",
   "execution_count": null,
   "metadata": {},
   "outputs": [],
   "source": []
  },
  {
   "cell_type": "markdown",
   "metadata": {},
   "source": [
    "## Next steps"
   ]
  },
  {
   "cell_type": "code",
   "execution_count": null,
   "metadata": {},
   "outputs": [],
   "source": []
  },
  {
   "cell_type": "markdown",
   "metadata": {},
   "source": [
    "## Reflections"
   ]
  },
  {
   "cell_type": "code",
   "execution_count": null,
   "metadata": {},
   "outputs": [],
   "source": []
  }
 ],
 "metadata": {
  "kernelspec": {
   "display_name": "Python 3",
   "name": "python3"
  },
  "language_info": {
   "codemirror_mode": {
    "name": "ipython",
    "version": 3
   },
   "file_extension": ".py",
   "mimetype": "text/x-python",
   "name": "python",
   "nbconvert_exporter": "python",
   "pygments_lexer": "ipython3",
   "version": "3.7.9-final"
  },
  "orig_nbformat": 2
 },
 "nbformat": 4,
 "nbformat_minor": 2
}
