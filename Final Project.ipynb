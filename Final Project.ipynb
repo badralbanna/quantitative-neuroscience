{
 "metadata": {
  "language_info": {
   "codemirror_mode": {
    "name": "ipython",
    "version": 3
   },
   "file_extension": ".py",
   "mimetype": "text/x-python",
   "name": "python",
   "nbconvert_exporter": "python",
   "pygments_lexer": "ipython3",
   "version": "3.7.9-final"
  },
  "orig_nbformat": 2,
  "kernelspec": {
   "name": "python3",
   "display_name": "Python 3"
  }
 },
 "nbformat": 4,
 "nbformat_minor": 2,
 "cells": [
  {
   "source": [
    "# Final Project \n",
    "\n",
    "In your final project, you'll be expected to demonstrate mastery of the data science, modeling, and statstical skills we've covered in class. Big picture, **the goal of this project is for you to take some data, load and preprocess it, store that preprocessed data, make some preliminary vizualizations, conduct relevant statistical analysis or generate models, and create at least one polished subpanel with comparisons of interest.** Your work will be doumentated with comprehensive written descriptions as well as the code and vizualizations themselves. In addition to these results you will be expected to **discuss your next steps and reflect on the process.** \n",
    "\n",
    "Your work will be done and documented in a Jupyter notebook which you will turn in as your final assignment. You are also expected to present your results in a presentation **no longer than** 15 minutes using the notebook itself for any vizuals.  \n",
    "\n",
    "**Final projects will be due by 10 am on Friday 12/4.** Between now and then I will be available Mondays, Wednesdays, and Fridays for meetings to discuss your project. [You can schedule a zoom meeting with me here](https://calendly.com/badralbanna).\n",
    "\n",
    "## Detailed outline:\n",
    "\n",
    "1. **take some data:**  The data can be your own, a lab mates, or a set that is publically available. It's ok if the data is very preimlinary. I'd rayther you analysize your own prelimary data than A complete data set that is less relevant to your future work. \n",
    "2. **load and preprocess it**: Load the data into a form you can analyize easily (i.e. pandas dataframe / xarray). Conduct any prelimary preprocessing to create varaibles of interest, remove outliers or inclomplete data, etc. \n",
    "3. **store that preprocessed data:** Once you have completed preprocessing you should story your data in a sesible format such as HDF5, CSV.\n",
    "4. **make some preliminary vizualizations:** Create prelimary visualizations to check that the data has been loaded and preporcessed properly and/or guide a detailed analysis of one aspect of the data. \n",
    "5. **conduct relevant statistical analysis or generate models:** This likely will inlcude a power analysis (its ok if the data you have doesn't rise to the bar set by the power analysis), reelvant statitical tests and potentially modeling. You are encouraged, (but not required) to include a causal graphical model to contextualize your dataset and inicate needed controls (ok if you don't have data for these now.)\n",
    "6. **create at least one polished subpanel with comparisons of interest:** Generate at least one polished, publication-ready supanel that makes a claim about your data based on your anlaysis above. Incorperate the guidleines from class around clarity, transparency, representing uncertainty, etc. \n",
    "7. **discuss your next steps:** Discuss your next plans for data collection and analysis on this project. \n",
    "8. **reflect on the process:** Discuss your experiences with this project. What skills do you feel you have made significant progress on? Which places do you feel you still have areas of signifcant improvement? What are your _short-term, specfific_ goals for improving your quantitative research skills? \n"
   ],
   "cell_type": "markdown",
   "metadata": {}
  },
  {
   "source": [
    "## Description of the experimental design and data set"
   ],
   "cell_type": "markdown",
   "metadata": {}
  },
  {
   "cell_type": "code",
   "execution_count": null,
   "metadata": {},
   "outputs": [],
   "source": []
  },
  {
   "source": [
    "## Loading and preprocessing the data "
   ],
   "cell_type": "markdown",
   "metadata": {}
  },
  {
   "cell_type": "code",
   "execution_count": null,
   "metadata": {},
   "outputs": [],
   "source": []
  },
  {
   "source": [
    "## Store the prepocessed data"
   ],
   "cell_type": "markdown",
   "metadata": {}
  },
  {
   "cell_type": "code",
   "execution_count": null,
   "metadata": {},
   "outputs": [],
   "source": []
  },
  {
   "source": [
    "## Preliminary vizualizations "
   ],
   "cell_type": "markdown",
   "metadata": {}
  },
  {
   "cell_type": "code",
   "execution_count": null,
   "metadata": {},
   "outputs": [],
   "source": []
  },
  {
   "source": [
    "## Statistical analysis / Modeling"
   ],
   "cell_type": "markdown",
   "metadata": {}
  },
  {
   "cell_type": "code",
   "execution_count": null,
   "metadata": {},
   "outputs": [],
   "source": []
  },
  {
   "source": [
    "## Publication-ready subpanel"
   ],
   "cell_type": "markdown",
   "metadata": {}
  },
  {
   "cell_type": "code",
   "execution_count": null,
   "metadata": {},
   "outputs": [],
   "source": []
  },
  {
   "source": [
    "## Next steps"
   ],
   "cell_type": "markdown",
   "metadata": {}
  },
  {
   "cell_type": "code",
   "execution_count": null,
   "metadata": {},
   "outputs": [],
   "source": []
  },
  {
   "source": [
    "## Reflections"
   ],
   "cell_type": "markdown",
   "metadata": {}
  },
  {
   "cell_type": "code",
   "execution_count": null,
   "metadata": {},
   "outputs": [],
   "source": []
  }
 ]
}