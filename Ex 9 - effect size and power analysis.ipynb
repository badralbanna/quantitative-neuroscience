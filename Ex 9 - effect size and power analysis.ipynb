{
 "cells": [
  {
   "cell_type": "markdown",
   "metadata": {},
   "source": [
    "# Exercise 9: Effect size and power analysis\n",
    "\n",
    "## Table of Contents\n",
    "\n",
    "* Effect sizes\n",
    "* Power analysis\n",
    "* Simulating effect of power on reported effect size\n",
    "\n",
    "## Setup"
   ]
  },
  {
   "cell_type": "code",
   "execution_count": null,
   "metadata": {},
   "outputs": [],
   "source": [
    "import numpy as np\n",
    "import pandas as pd\n",
    "import matplotlib as mpl\n",
    "import matplotlib.pyplot as plt\n",
    "import scipy.stats as sps\n",
    "import os\n",
    "\n",
    "# For retina displays only \n",
    "from IPython.display import set_matplotlib_formats\n",
    "set_matplotlib_formats('retina')\n",
    "%matplotlib inline"
   ]
  },
  {
   "cell_type": "markdown",
   "metadata": {},
   "source": [
    "## Effect sizes"
   ]
  },
  {
   "cell_type": "code",
   "execution_count": null,
   "metadata": {},
   "outputs": [],
   "source": [
    "# The fuctions below calculates the cohen d and t statistic for two independant d1 and d2 \n",
    "def cohend(d1, d2):\n",
    "\t# calculate the size of samples\n",
    "\tn1, n2 = len(d1), len(d2)\n",
    "\t# calculate the variance of the samples\n",
    "\tv1, v2 = np.var(d1, ddof=1), np.var(d2, ddof=1)\n",
    "\t# calculate the pooled standard deviation\n",
    "\ts = np.sqrt(((n1 - 1) * v1 + (n2 - 1) * v2) / (n1 + n2 - 2))\n",
    "\t# calculate the means of the samples\n",
    "\tu1, u2 = np.mean(d1), np.mean(d2)\n",
    "\t# calculate the effect size\n",
    "\treturn (u2 - u1) / s\n",
    "\n",
    "def t_stat_ind(d1, d2):\n",
    "\t# calculate the size of samples\n",
    "\tn1, n2 = len(d1), len(d2)\n",
    "    # calculate the variance of the samples\n",
    "\tv1, v2 = np.var(d1, ddof=1), np.var(d2, ddof=1)\n",
    "\t# calculate the pooled standard deviation\n",
    "\ts = np.sqrt(v1 / n1 + v2 / n2)\n",
    "\t# calculate the means of the samples\n",
    "\tu1, u2 = np.mean(d1), np.mean(d2)\n",
    "\t# calculate the effect size\n",
    "\treturn (u2 - u1) / s "
   ]
  },
  {
   "cell_type": "code",
   "execution_count": null,
   "metadata": {},
   "outputs": [],
   "source": [
    "# Excercise: Finish this function for GlassD\n",
    "def GlassD(d_control, d_experiment):\n",
    "\t# calculate the appropriate unceratinty \n",
    "    s = ???\n",
    "\t# calculate the means of the samples\n",
    "\tu_control, u_experiment = np.mean(d_control), np.mean(d_experiment)\n",
    "\t# calculate the effect size\n",
    "\treturn ???"
   ]
  },
  {
   "cell_type": "code",
   "execution_count": null,
   "metadata": {},
   "outputs": [],
   "source": [
    "# Exercise: Write a function for the one-sample t-statsic \n",
    "def t_stat_1samp(d):\n",
    "    ???"
   ]
  },
  {
   "cell_type": "code",
   "execution_count": null,
   "metadata": {},
   "outputs": [],
   "source": [
    "# Exercise: Generate two independent data sets and compare effect sizes given by cohend, t_stat_ind, and GlassD\n",
    "\n",
    "\n",
    "\n",
    "\n",
    "\n",
    "\n"
   ]
  },
  {
   "cell_type": "markdown",
   "metadata": {},
   "source": [
    "## Power analysis\n",
    "\n",
    "Here we're going to use `statsmodels.stats.power` to do some power analyses. This package has methdods for many different types of parametric tests, but we're going to focus on the two-sample t-test, `TTestIndPower`."
   ]
  },
  {
   "cell_type": "code",
   "execution_count": null,
   "metadata": {},
   "outputs": [],
   "source": [
    "import statsmodels.stats.power as smp"
   ]
  },
  {
   "cell_type": "code",
   "execution_count": null,
   "metadata": {},
   "outputs": [],
   "source": [
    "# parameters for power analysis\n",
    "effect = 0.8\n",
    "alpha = 0.05\n",
    "power = 0.8\n",
    "\n",
    "# perform power analysis\n",
    "analysis = smp.TTestIndPower()\n",
    "result = analysis.solve_power(effect, power=power, nobs1=None, ratio=1.0, alpha=alpha)\n",
    "print(f'Sample Size: {result:0.5}')"
   ]
  },
  {
   "cell_type": "code",
   "execution_count": null,
   "metadata": {},
   "outputs": [],
   "source": [
    "# Excersise: create a plot of sample size vs power for various power sizes. What happens if effect size drops? \n",
    "\n",
    "effect = 0.8 # Expressed in cohen's d\n",
    "alpha = 0.05\n",
    "powers = np.linsapce(0.01, .99, 100)\n",
    "sample_sizes = []\n",
    "for power in powers:\n",
    "    ???\n",
    "\n",
    "fig, ax = plt.subplots()\n",
    "???"
   ]
  },
  {
   "cell_type": "code",
   "execution_count": null,
   "metadata": {},
   "outputs": [],
   "source": [
    "# Excerise: use .power to figure out the power of comparing the following data sets\n",
    "X1 = np.random.normal(loc=0, scale=2, size=10)\n",
    "X2 = np.random.normal(loc=0.5, scale=2, size=10)\n",
    "\n",
    "\n",
    "\n",
    "\n"
   ]
  },
  {
   "cell_type": "code",
   "execution_count": null,
   "metadata": {},
   "outputs": [],
   "source": [
    "# Exercise: use .plot_power to plot power with number of observations or effect size on x-axis\n",
    "\n",
    "\n",
    "\n",
    "\n"
   ]
  },
  {
   "cell_type": "markdown",
   "metadata": {},
   "source": [
    "## Simulating effect of sample size on reported effect size"
   ]
  },
  {
   "cell_type": "code",
   "execution_count": null,
   "metadata": {},
   "outputs": [],
   "source": [
    "sample_sizes = np.arange(5, 100, 1)  # different sample sizes to simulate\n",
    "alpha = 0.05;                       # our alpha threshold\n",
    "N_rep = 2000;                        # number of simulations to perform\n",
    "\n",
    "m1 = 0\n",
    "m2 = 1\n",
    "s = 2\n",
    "\n",
    "powers = np.empty(len(sample_sizes))\n",
    "effect_sizes = np.empty((len(sample_sizes), N_rep))\n",
    "sig_mask = np.empty((len(sample_sizes), N_rep), dtype='Bool') \n",
    "\n",
    "for i, size in enumerate(sample_sizes):\n",
    "    # calculating power for each sample size\n",
    "    analysis = smp.TTestIndPower()\n",
    "    power = analysis.power((m2 - m1)/s, size, alpha)\n",
    "    powers[i] = power\n",
    "    for j in range(N_rep):\n",
    "        # draw two samples from each distribution\n",
    "        sample1 = np.random.normal(m1, s, size)\n",
    "        sample2 = np.random.normal(m2, s, size)\n",
    "        \n",
    "        # record acutal effect size for every simulation\n",
    "        sim_effect_size = cohend(sample1, sample2) \n",
    "        effect_sizes[i, j] = sim_effect_size\n",
    "        \n",
    "        # assess whether there is a statistically significant difference in means\n",
    "        p_value = sps.ttest_ind(sample1, sample2)[1]\n",
    "        \n",
    "        # if significant, record some results\n",
    "        if p_value < alpha:\n",
    "            sig_mask[i, j] = True\n",
    "        else:\n",
    "            sig_mask[i, j] = False\n",
    "\n"
   ]
  },
  {
   "cell_type": "code",
   "execution_count": null,
   "metadata": {},
   "outputs": [],
   "source": [
    "# Calculating statistics \n",
    "all_10 = np.percentile(effect_sizes, 10, axis=1)\n",
    "all_50 = np.percentile(effect_sizes, 50, axis=1)\n",
    "all_90 = np.percentile(effect_sizes, 90, axis=1) \n",
    "\n",
    "sig_10 = [ np.percentile(vals[mask], 10) for vals, mask in zip(effect_sizes, sig_mask)]\n",
    "sig_50 = [ np.percentile(vals[mask], 50) for vals, mask in zip(effect_sizes, sig_mask)]\n",
    "sig_90 = [ np.percentile(vals[mask], 90) for vals, mask in zip(effect_sizes, sig_mask)]"
   ]
  },
  {
   "cell_type": "code",
   "execution_count": null,
   "metadata": {},
   "outputs": [],
   "source": [
    "# Plotting effect sizes as a function of sample sze\n",
    "fig, ax = plt.subplots()\n",
    "ax.plot(sample_sizes, sig_50, color='red', label='only sig.')\n",
    "ax.fill_between(sample_sizes, sig_10, sig_90, alpha=.2, color='red')\n",
    "ax.plot(sample_sizes, all_50, color='green', label='all')\n",
    "ax.fill_between(sample_sizes, all_10, all_90, alpha=.2, color='green')\n",
    "ax.axhline((m2 - m1)/s, color='.5', linewidth=1, linestyle='dotted')\n",
    "\n",
    "ax.legend()\n",
    "ax.set_xlabel('sample size')\n",
    "ax.set_ylabel(\"effect size (Cohen's d)\")"
   ]
  },
  {
   "cell_type": "code",
   "execution_count": null,
   "metadata": {},
   "outputs": [],
   "source": [
    "# Plotting effect sizes as a function of power\n",
    "fig, ax = plt.subplots()\n",
    "ax.plot(powers, sig_50, color='red', label='only sig.')\n",
    "ax.fill_between(powers, sig_10, sig_90, alpha=.2, color='red')\n",
    "ax.plot(powers, all_50, color='green', label='all')\n",
    "ax.fill_between(powers, all_10, all_90, alpha=.2, color='green')\n",
    "ax.axhline((m2 - m1)/s, color='.5', linewidth=1, linestyle='dotted')\n",
    "\n",
    "ax.legend()\n",
    "ax.set_xlabel('power ($1 - \\beta$)')\n",
    "ax.set_ylabel(\"effect size (Cohen's d)\")"
   ]
  },
  {
   "cell_type": "code",
   "execution_count": null,
   "metadata": {},
   "outputs": [],
   "source": []
  }
 ],
 "metadata": {
  "kernelspec": {
   "display_name": "Python 3 (QN)",
   "language": "python",
   "name": "py3-qn"
  },
  "language_info": {
   "codemirror_mode": {
    "name": "ipython",
    "version": 3
   },
   "file_extension": ".py",
   "mimetype": "text/x-python",
   "name": "python",
   "nbconvert_exporter": "python",
   "pygments_lexer": "ipython3",
   "version": "3.8.5"
  }
 },
 "nbformat": 4,
 "nbformat_minor": 4
}
