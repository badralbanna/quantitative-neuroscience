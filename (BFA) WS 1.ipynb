{
  "cells": [
    {
      "cell_type": "markdown",
      "source": [
        "# Data Workshop 1\n",
        "\n",
        "The training wheels are off! In this workshop you will read up on the dataset from CRCCNS pvc-6, import the data from h5py into either an xarray object or a pandas object, and plot first the raw data, and then averaged data with uncertainty measures. \n",
        "\n",
        "Our goal is to generate a few plots based on this data set\n",
        "\n",
        "1. Using the constant current inputs: a plot of firing rate vs. current input for both cell types & stimulus types (constant vs white noise)\n",
        "2. Using the ramping inputs: a plot of frequency vs. current input for both cell types. \n",
        "\n",
        "The gameplan is\n",
        "\n",
        "1. Load data using h5py\n",
        "2. Create some exploratory plots\n",
        "3. Create pandas DataFrame for stimuli\n",
        "4. Create xarrays for recordings\n",
        "5. Create pandas DataFrame for responses\n",
        "5. Using steps: Create plot of firing rate vs I (step & noise, both cells) \n",
        "6. Using ramps: Create plot of f vs I (both cells)\n",
        "\n"
      ],
      "metadata": {}
    },
    {
      "cell_type": "markdown",
      "source": [
        "## Setup notebook"
      ],
      "metadata": {}
    },
    {
      "cell_type": "code",
      "source": [
        "import numpy as np\n",
        "import matplotlib as mpl\n",
        "import matplotlib.pyplot as plt\n",
        "import h5py\n",
        "import xarray as xr\n",
        "import os\n",
        "\n",
        "from IPython.display import set_matplotlib_formats\n",
        "set_matplotlib_formats('retina')\n"
      ],
      "outputs": [],
      "execution_count": 7,
      "metadata": {}
    },
    {
      "cell_type": "code",
      "source": [
        "h5data1 = h5py.File(os.path.join(\"..\", \"data\", \"allen_data\", \"151145.04_Data.h5\"), 'r')\n",
        "h5data2 = h5py.File(os.path.join(\"..\", \"data\", \"allen_data\", \"153098.04.02_data.h5\"), 'r')"
      ],
      "outputs": [],
      "execution_count": 11,
      "metadata": {}
    },
    {
      "cell_type": "code",
      "source": [
        "h5data1.visit(print)"
      ],
      "outputs": [
        {
          "output_type": "stream",
          "name": "stdout",
          "text": [
            "Sweep_0\n",
            "Sweep_1\n",
            "Sweep_10\n",
            "Sweep_11\n",
            "Sweep_12\n",
            "Sweep_13\n",
            "Sweep_14\n",
            "Sweep_15\n",
            "Sweep_16\n",
            "Sweep_17\n",
            "Sweep_18\n",
            "Sweep_19\n",
            "Sweep_2\n",
            "Sweep_20\n",
            "Sweep_21\n",
            "Sweep_22\n",
            "Sweep_23\n",
            "Sweep_24\n",
            "Sweep_25\n",
            "Sweep_26\n",
            "Sweep_27\n",
            "Sweep_28\n",
            "Sweep_29\n",
            "Sweep_3\n",
            "Sweep_30\n",
            "Sweep_31\n",
            "Sweep_32\n",
            "Sweep_33\n",
            "Sweep_34\n",
            "Sweep_35\n",
            "Sweep_36\n",
            "Sweep_37\n",
            "Sweep_38\n",
            "Sweep_39\n",
            "Sweep_4\n",
            "Sweep_40\n",
            "Sweep_41\n",
            "Sweep_42\n",
            "Sweep_43\n",
            "Sweep_44\n",
            "Sweep_45\n",
            "Sweep_46\n",
            "Sweep_47\n",
            "Sweep_48\n",
            "Sweep_49\n",
            "Sweep_5\n",
            "Sweep_50\n",
            "Sweep_51\n",
            "Sweep_52\n",
            "Sweep_53\n",
            "Sweep_54\n",
            "Sweep_55\n",
            "Sweep_56\n",
            "Sweep_57\n",
            "Sweep_58\n",
            "Sweep_59\n",
            "Sweep_6\n",
            "Sweep_60\n",
            "Sweep_61\n",
            "Sweep_62\n",
            "Sweep_63\n",
            "Sweep_64\n",
            "Sweep_65\n",
            "Sweep_66\n",
            "Sweep_67\n",
            "Sweep_68\n",
            "Sweep_69\n",
            "Sweep_7\n",
            "Sweep_70\n",
            "Sweep_71\n",
            "Sweep_72\n",
            "Sweep_73\n",
            "Sweep_74\n",
            "Sweep_75\n",
            "Sweep_76\n",
            "Sweep_77\n",
            "Sweep_78\n",
            "Sweep_79\n",
            "Sweep_8\n",
            "Sweep_80\n",
            "Sweep_81\n",
            "Sweep_82\n",
            "Sweep_83\n",
            "Sweep_84\n",
            "Sweep_85\n",
            "Sweep_86\n",
            "Sweep_87\n",
            "Sweep_88\n",
            "Sweep_89\n",
            "Sweep_9\n",
            "Sweep_90\n",
            "Sweep_91\n",
            "qcBridge Bal Enable\n",
            "qcBridge Bal Value\n",
            "qcI-Clamp Holding Enable\n",
            "qcI-Clamp Holding Level\n",
            "qcNeut Cap Enabled\n",
            "qcNeut Cap Value\n",
            "qcSweep_key\n"
          ]
        }
      ],
      "execution_count": 12,
      "metadata": {}
    },
    {
      "cell_type": "code",
      "source": [
        "h5data2.visit(print)"
      ],
      "outputs": [
        {
          "output_type": "stream",
          "name": "stdout",
          "text": [
            "Sweep_0\n",
            "Sweep_1\n",
            "Sweep_10\n",
            "Sweep_11\n",
            "Sweep_12\n",
            "Sweep_13\n",
            "Sweep_14\n",
            "Sweep_15\n",
            "Sweep_16\n",
            "Sweep_17\n",
            "Sweep_18\n",
            "Sweep_19\n",
            "Sweep_2\n",
            "Sweep_20\n",
            "Sweep_21\n",
            "Sweep_22\n",
            "Sweep_23\n",
            "Sweep_24\n",
            "Sweep_25\n",
            "Sweep_26\n",
            "Sweep_27\n",
            "Sweep_28\n",
            "Sweep_29\n",
            "Sweep_3\n",
            "Sweep_30\n",
            "Sweep_31\n",
            "Sweep_32\n",
            "Sweep_33\n",
            "Sweep_34\n",
            "Sweep_35\n",
            "Sweep_36\n",
            "Sweep_37\n",
            "Sweep_38\n",
            "Sweep_39\n",
            "Sweep_4\n",
            "Sweep_40\n",
            "Sweep_41\n",
            "Sweep_42\n",
            "Sweep_43\n",
            "Sweep_44\n",
            "Sweep_45\n",
            "Sweep_46\n",
            "Sweep_47\n",
            "Sweep_48\n",
            "Sweep_49\n",
            "Sweep_5\n",
            "Sweep_50\n",
            "Sweep_51\n",
            "Sweep_52\n",
            "Sweep_53\n",
            "Sweep_54\n",
            "Sweep_55\n",
            "Sweep_56\n",
            "Sweep_57\n",
            "Sweep_58\n",
            "Sweep_59\n",
            "Sweep_6\n",
            "Sweep_60\n",
            "Sweep_61\n",
            "Sweep_62\n",
            "Sweep_63\n",
            "Sweep_64\n",
            "Sweep_65\n",
            "Sweep_66\n",
            "Sweep_7\n",
            "Sweep_8\n",
            "Sweep_9\n",
            "qcBridge Bal Enable\n",
            "qcBridge Bal Value (MOhm)\n",
            "qcI-Clamp Holding Enable\n",
            "qcI-Clamp Holding Level (pA)\n",
            "qcNeut Cap Enable\n",
            "qcNeut Cap Value (pF)\n",
            "qcSweep_Key\n"
          ]
        }
      ],
      "execution_count": 13,
      "metadata": {}
    },
    {
      "cell_type": "markdown",
      "source": [
        "## Exploratory plotting "
      ],
      "metadata": {}
    },
    {
      "cell_type": "code",
      "source": [
        "SWEEP_NUM = 0\n",
        "key = f\"Sweep_{SWEEP_NUM}\"\n",
        "current_sweep = np.array(h5data1[key])\n",
        "# Constructing a time variable, sampling ever 0.005 ms\n",
        "# Two options\n",
        "# arange\n",
        "# T = np.arange()\n",
        "\n",
        "# linsapce\n",
        "samples = len(current_sweep)\n",
        "end_time = samples / 200000.0\n",
        "T = np.linspace(0, end_time, samples)\n",
        "\n",
        "fig, ax = plt.subplots()\n",
        "ax.plot(T, current_sweep)\n",
        "ax.set_xlabel(\"Time (ms)\")\n",
        "ax.set_ylabel(\"Voltage (mV) / Current (pA)\")"
      ],
      "outputs": [
        {
          "output_type": "execute_result",
          "execution_count": 15,
          "data": {
            "text/plain": "Text(0, 0.5, 'Voltage (mV) / Current (pA)')"
          },
          "metadata": {}
        },
        {
          "output_type": "display_data",
          "data": {
            "image/png": "[encoded data removed]",
            "text/plain": "<Figure size 432x288 with 1 Axes>"
          },
          "metadata": {
            "image/png": {
              "height": 280,
              "width": 424
            },
            "needs_background": "light"
          }
        }
      ],
      "execution_count": 15,
      "metadata": {}
    },
    {
      "cell_type": "markdown",
      "source": [
        "## Create `xarrays` for stimulus and responses"
      ],
      "metadata": {}
    },
    {
      "cell_type": "code",
      "source": [
        "current_sweep_voltage = current_sweep[:,1]\n",
        "current_sweep_stimulus = current_sweep[:,0]"
      ],
      "outputs": [],
      "execution_count": 16,
      "metadata": {}
    },
    {
      "cell_type": "code",
      "source": [
        "xr_current_sweep_stimulus = xr.DataArray(current_sweep_stimulus, dims = (\"t\",), coords = {\"t\": T})"
      ],
      "outputs": [],
      "execution_count": 17,
      "metadata": {}
    },
    {
      "cell_type": "code",
      "source": [
        "xr_current_sweep_voltage = xr.DataArray(current_sweep_voltage, dims = (\"t\",), coords = {\"t\": T})"
      ],
      "outputs": [],
      "execution_count": 18,
      "metadata": {}
    },
    {
      "cell_type": "code",
      "source": [
        "xd_current_sweep = xr.Dataset({\"stimulus\": (('t',),current_sweep_stimulus), \n",
        "            \"voltage\": (('t',), current_sweep_voltage)}, \n",
        "           {'t': T})"
      ],
      "outputs": [],
      "execution_count": 19,
      "metadata": {}
    },
    {
      "cell_type": "code",
      "source": [
        "xd_current_sweep[\"stimulus\"]"
      ],
      "outputs": [
        {
          "output_type": "execute_result",
          "execution_count": 20,
          "data": {
            "text/html": "<div><svg style=\"position: absolute; width: 0; height: 0; overflow: hidden\">\n<defs>\n<symbol id=\"icon-database\" viewBox=\"0 0 32 32\">\n<path d=\"M16 0c-8.837 0-16 2.239-16 5v4c0 2.761 7.163 5 16 5s16-2.239 16-5v-4c0-2.761-7.163-5-16-5z\"></path>\n<path d=\"M16 17c-8.837 0-16-2.239-16-5v6c0 2.761 7.163 5 16 5s16-2.239 16-5v-6c0 2.761-7.163 5-16 5z\"></path>\n<path d=\"M16 26c-8.837 0-16-2.239-16-5v6c0 2.761 7.163 5 16 5s16-2.239 16-5v-6c0 2.761-7.163 5-16 5z\"></path>\n</symbol>\n<symbol id=\"icon-file-text2\" viewBox=\"0 0 32 32\">\n<path d=\"M28.681 7.159c-0.694-0.947-1.662-2.053-2.724-3.116s-2.169-2.030-3.116-2.724c-1.612-1.182-2.393-1.319-2.841-1.319h-15.5c-1.378 0-2.5 1.121-2.5 2.5v27c0 1.378 1.122 2.5 2.5 2.5h23c1.378 0 2.5-1.122 2.5-2.5v-19.5c0-0.448-0.137-1.23-1.319-2.841zM24.543 5.457c0.959 0.959 1.712 1.825 2.268 2.543h-4.811v-4.811c0.718 0.556 1.584 1.309 2.543 2.268zM28 29.5c0 0.271-0.229 0.5-0.5 0.5h-23c-0.271 0-0.5-0.229-0.5-0.5v-27c0-0.271 0.229-0.5 0.5-0.5 0 0 15.499-0 15.5 0v7c0 0.552 0.448 1 1 1h7v19.5z\"></path>\n<path d=\"M23 26h-14c-0.552 0-1-0.448-1-1s0.448-1 1-1h14c0.552 0 1 0.448 1 1s-0.448 1-1 1z\"></path>\n<path d=\"M23 22h-14c-0.552 0-1-0.448-1-1s0.448-1 1-1h14c0.552 0 1 0.448 1 1s-0.448 1-1 1z\"></path>\n<path d=\"M23 18h-14c-0.552 0-1-0.448-1-1s0.448-1 1-1h14c0.552 0 1 0.448 1 1s-0.448 1-1 1z\"></path>\n</symbol>\n</defs>\n</svg>\n<style>/* CSS stylesheet for displaying xarray objects in jupyterlab.\n *\n */\n\n:root {\n  --xr-font-color0: var(--jp-content-font-color0, rgba(0, 0, 0, 1));\n  --xr-font-color2: var(--jp-content-font-color2, rgba(0, 0, 0, 0.54));\n  --xr-font-color3: var(--jp-content-font-color3, rgba(0, 0, 0, 0.38));\n  --xr-border-color: var(--jp-border-color2, #e0e0e0);\n  --xr-disabled-color: var(--jp-layout-color3, #bdbdbd);\n  --xr-background-color: var(--jp-layout-color0, white);\n  --xr-background-color-row-even: var(--jp-layout-color1, white);\n  --xr-background-color-row-odd: var(--jp-layout-color2, #eeeeee);\n}\n\nhtml[theme=dark],\nbody.vscode-dark {\n  --xr-font-color0: rgba(255, 255, 255, 1);\n  --xr-font-color2: rgba(255, 255, 255, 0.54);\n  --xr-font-color3: rgba(255, 255, 255, 0.38);\n  --xr-border-color: #1F1F1F;\n  --xr-disabled-color: #515151;\n  --xr-background-color: #111111;\n  --xr-background-color-row-even: #111111;\n  --xr-background-color-row-odd: #313131;\n}\n\n.xr-wrap {\n  display: block;\n  min-width: 300px;\n  max-width: 700px;\n}\n\n.xr-text-repr-fallback {\n  /* fallback to plain text repr when CSS is not injected (untrusted notebook) */\n  display: none;\n}\n\n.xr-header {\n  padding-top: 6px;\n  padding-bottom: 6px;\n  margin-bottom: 4px;\n  border-bottom: solid 1px var(--xr-border-color);\n}\n\n.xr-header > div,\n.xr-header > ul {\n  display: inline;\n  margin-top: 0;\n  margin-bottom: 0;\n}\n\n.xr-obj-type,\n.xr-array-name {\n  margin-left: 2px;\n  margin-right: 10px;\n}\n\n.xr-obj-type {\n  color: var(--xr-font-color2);\n}\n\n.xr-sections {\n  padding-left: 0 !important;\n  display: grid;\n  grid-template-columns: 150px auto auto 1fr 20px 20px;\n}\n\n.xr-section-item {\n  display: contents;\n}\n\n.xr-section-item input {\n  display: none;\n}\n\n.xr-section-item input + label {\n  color: var(--xr-disabled-color);\n}\n\n.xr-section-item input:enabled + label {\n  cursor: pointer;\n  color: var(--xr-font-color2);\n}\n\n.xr-section-item input:enabled + label:hover {\n  color: var(--xr-font-color0);\n}\n\n.xr-section-summary {\n  grid-column: 1;\n  color: var(--xr-font-color2);\n  font-weight: 500;\n}\n\n.xr-section-summary > span {\n  display: inline-block;\n  padding-left: 0.5em;\n}\n\n.xr-section-summary-in:disabled + label {\n  color: var(--xr-font-color2);\n}\n\n.xr-section-summary-in + label:before {\n  display: inline-block;\n  content: '►';\n  font-size: 11px;\n  width: 15px;\n  text-align: center;\n}\n\n.xr-section-summary-in:disabled + label:before {\n  color: var(--xr-disabled-color);\n}\n\n.xr-section-summary-in:checked + label:before {\n  content: '▼';\n}\n\n.xr-section-summary-in:checked + label > span {\n  display: none;\n}\n\n.xr-section-summary,\n.xr-section-inline-details {\n  padding-top: 4px;\n  padding-bottom: 4px;\n}\n\n.xr-section-inline-details {\n  grid-column: 2 / -1;\n}\n\n.xr-section-details {\n  display: none;\n  grid-column: 1 / -1;\n  margin-bottom: 5px;\n}\n\n.xr-section-summary-in:checked ~ .xr-section-details {\n  display: contents;\n}\n\n.xr-array-wrap {\n  grid-column: 1 / -1;\n  display: grid;\n  grid-template-columns: 20px auto;\n}\n\n.xr-array-wrap > label {\n  grid-column: 1;\n  vertical-align: top;\n}\n\n.xr-preview {\n  color: var(--xr-font-color3);\n}\n\n.xr-array-preview,\n.xr-array-data {\n  padding: 0 5px !important;\n  grid-column: 2;\n}\n\n.xr-array-data,\n.xr-array-in:checked ~ .xr-array-preview {\n  display: none;\n}\n\n.xr-array-in:checked ~ .xr-array-data,\n.xr-array-preview {\n  display: inline-block;\n}\n\n.xr-dim-list {\n  display: inline-block !important;\n  list-style: none;\n  padding: 0 !important;\n  margin: 0;\n}\n\n.xr-dim-list li {\n  display: inline-block;\n  padding: 0;\n  margin: 0;\n}\n\n.xr-dim-list:before {\n  content: '(';\n}\n\n.xr-dim-list:after {\n  content: ')';\n}\n\n.xr-dim-list li:not(:last-child):after {\n  content: ',';\n  padding-right: 5px;\n}\n\n.xr-has-index {\n  font-weight: bold;\n}\n\n.xr-var-list,\n.xr-var-item {\n  display: contents;\n}\n\n.xr-var-item > div,\n.xr-var-item label,\n.xr-var-item > .xr-var-name span {\n  background-color: var(--xr-background-color-row-even);\n  margin-bottom: 0;\n}\n\n.xr-var-item > .xr-var-name:hover span {\n  padding-right: 5px;\n}\n\n.xr-var-list > li:nth-child(odd) > div,\n.xr-var-list > li:nth-child(odd) > label,\n.xr-var-list > li:nth-child(odd) > .xr-var-name span {\n  background-color: var(--xr-background-color-row-odd);\n}\n\n.xr-var-name {\n  grid-column: 1;\n}\n\n.xr-var-dims {\n  grid-column: 2;\n}\n\n.xr-var-dtype {\n  grid-column: 3;\n  text-align: right;\n  color: var(--xr-font-color2);\n}\n\n.xr-var-preview {\n  grid-column: 4;\n}\n\n.xr-var-name,\n.xr-var-dims,\n.xr-var-dtype,\n.xr-preview,\n.xr-attrs dt {\n  white-space: nowrap;\n  overflow: hidden;\n  text-overflow: ellipsis;\n  padding-right: 10px;\n}\n\n.xr-var-name:hover,\n.xr-var-dims:hover,\n.xr-var-dtype:hover,\n.xr-attrs dt:hover {\n  overflow: visible;\n  width: auto;\n  z-index: 1;\n}\n\n.xr-var-attrs,\n.xr-var-data {\n  display: none;\n  background-color: var(--xr-background-color) !important;\n  padding-bottom: 5px !important;\n}\n\n.xr-var-attrs-in:checked ~ .xr-var-attrs,\n.xr-var-data-in:checked ~ .xr-var-data {\n  display: block;\n}\n\n.xr-var-data > table {\n  float: right;\n}\n\n.xr-var-name span,\n.xr-var-data,\n.xr-attrs {\n  padding-left: 25px !important;\n}\n\n.xr-attrs,\n.xr-var-attrs,\n.xr-var-data {\n  grid-column: 1 / -1;\n}\n\ndl.xr-attrs {\n  padding: 0;\n  margin: 0;\n  display: grid;\n  grid-template-columns: 125px auto;\n}\n\n.xr-attrs dt, dd {\n  padding: 0;\n  margin: 0;\n  float: left;\n  padding-right: 10px;\n  width: auto;\n}\n\n.xr-attrs dt {\n  font-weight: normal;\n  grid-column: 1;\n}\n\n.xr-attrs dt:hover span {\n  display: inline-block;\n  background: var(--xr-background-color);\n  padding-right: 10px;\n}\n\n.xr-attrs dd {\n  grid-column: 2;\n  white-space: pre-wrap;\n  word-break: break-all;\n}\n\n.xr-icon-database,\n.xr-icon-file-text2 {\n  display: inline-block;\n  vertical-align: middle;\n  width: 1em;\n  height: 1.5em !important;\n  stroke-width: 0;\n  stroke: currentColor;\n  fill: currentColor;\n}\n</style><pre class='xr-text-repr-fallback'>&lt;xarray.DataArray &#x27;stimulus&#x27; (t: 1404001)&gt;\narray([0., 0., 0., ..., 0., 0., 0.])\nCoordinates:\n  * t        (t) float64 0.0 5e-06 1e-05 1.5e-05 2e-05 ... 7.02 7.02 7.02 7.02</pre><div class='xr-wrap' hidden><div class='xr-header'><div class='xr-obj-type'>xarray.DataArray</div><div class='xr-array-name'>'stimulus'</div><ul class='xr-dim-list'><li><span class='xr-has-index'>t</span>: 1404001</li></ul></div><ul class='xr-sections'><li class='xr-section-item'><div class='xr-array-wrap'><input id='section-68d61ded-a77a-449f-8e2d-54736bb37cb0' class='xr-array-in' type='checkbox' checked><label for='section-68d61ded-a77a-449f-8e2d-54736bb37cb0' title='Show/hide data repr'><svg class='icon xr-icon-database'><use xlink:href='#icon-database'></use></svg></label><div class='xr-array-preview xr-preview'><span>0.0 0.0 0.0 0.0 0.0 0.0 0.0 0.0 ... 0.0 0.0 0.0 0.0 0.0 0.0 0.0 0.0</span></div><div class='xr-array-data'><pre>array([0., 0., 0., ..., 0., 0., 0.])</pre></div></div></li><li class='xr-section-item'><input id='section-4ed17da3-2725-41b8-af11-517d15405cf3' class='xr-section-summary-in' type='checkbox'  checked><label for='section-4ed17da3-2725-41b8-af11-517d15405cf3' class='xr-section-summary' >Coordinates: <span>(1)</span></label><div class='xr-section-inline-details'></div><div class='xr-section-details'><ul class='xr-var-list'><li class='xr-var-item'><div class='xr-var-name'><span class='xr-has-index'>t</span></div><div class='xr-var-dims'>(t)</div><div class='xr-var-dtype'>float64</div><div class='xr-var-preview xr-preview'>0.0 5e-06 1e-05 ... 7.02 7.02 7.02</div><input id='attrs-212772a4-a902-4ef9-a836-be2d451721c6' class='xr-var-attrs-in' type='checkbox' disabled><label for='attrs-212772a4-a902-4ef9-a836-be2d451721c6' title='Show/Hide attributes'><svg class='icon xr-icon-file-text2'><use xlink:href='#icon-file-text2'></use></svg></label><input id='data-8268c773-2d09-4c6a-9336-02b4e21745ed' class='xr-var-data-in' type='checkbox'><label for='data-8268c773-2d09-4c6a-9336-02b4e21745ed' title='Show/Hide data repr'><svg class='icon xr-icon-database'><use xlink:href='#icon-database'></use></svg></label><div class='xr-var-attrs'><dl class='xr-attrs'></dl></div><div class='xr-var-data'><pre>array([0.000000e+00, 5.000004e-06, 1.000001e-05, ..., 7.019995e+00,\n       7.020000e+00, 7.020005e+00])</pre></div></li></ul></div></li><li class='xr-section-item'><input id='section-1444764f-6919-4b53-8a7d-63430a04e166' class='xr-section-summary-in' type='checkbox' disabled ><label for='section-1444764f-6919-4b53-8a7d-63430a04e166' class='xr-section-summary'  title='Expand/collapse section'>Attributes: <span>(0)</span></label><div class='xr-section-inline-details'></div><div class='xr-section-details'><dl class='xr-attrs'></dl></div></li></ul></div></div>",
            "text/plain": "<xarray.DataArray 'stimulus' (t: 1404001)>\narray([0., 0., 0., ..., 0., 0., 0.])\nCoordinates:\n  * t        (t) float64 0.0 5e-06 1e-05 1.5e-05 2e-05 ... 7.02 7.02 7.02 7.02"
          },
          "metadata": {}
        }
      ],
      "execution_count": 20,
      "metadata": {}
    },
    {
      "cell_type": "markdown",
      "source": [
        "## Create a function to characterize stimuli"
      ],
      "metadata": {}
    },
    {
      "cell_type": "code",
      "source": [
        "# Courtesy of team stimulus (with a few small additions: docstring & kwarg for threshold)\n",
        "\n",
        "def sweep_descriptives(xarray, true_start=1, threshold=0.01): \n",
        "    \"\"\"\n",
        "    This function takes an xarray containg a current sweep and retruns a dictionary\n",
        "    containing some descriptives about the stimulus:\n",
        "        1. start time\n",
        "        2. end time\n",
        "        3. mean\n",
        "        4. minimum\n",
        "        5. maximum\n",
        "    \"\"\"\n",
        "    #take the pulse out\n",
        "    wo_calibration = xarray.loc[true_start:]\n",
        "    #stimulus on\n",
        "    stimulus_on = np.abs(wo_calibration) > threshold\n",
        "    #times when stimulus is on \n",
        "    wo_calibration.t[stimulus_on]\n",
        "    #current value when stimulus is on\n",
        "    wo_calibration[stimulus_on]\n",
        "    \n",
        "    output = {}\n",
        "    #Start\n",
        "    stimulus_start = float(wo_calibration.t[stimulus_on][0])\n",
        "    output[\"stimulus_start\"] = stimulus_start\n",
        "    #End\n",
        "    stimulus_end = float(wo_calibration.t[stimulus_on][-1])\n",
        "    output[\"stimulus_end\"] = stimulus_end\n",
        "    #Mean\n",
        "    mean = float(np.mean(wo_calibration[stimulus_on]))\n",
        "    output[\"mean\"] = mean\n",
        "    #Min \n",
        "    minim = float(np.min(wo_calibration[stimulus_on]))\n",
        "    output[\"minim\"] = minim\n",
        "    #Max\n",
        "    maxim = float(np.max(wo_calibration[stimulus_on]))\n",
        "    output[\"maxim\"] = maxim\n",
        "    \n",
        "    return output"
      ],
      "outputs": [],
      "execution_count": 21,
      "metadata": {}
    },
    {
      "cell_type": "markdown",
      "source": [
        "## Create a function to to find spike times and counts"
      ],
      "metadata": {}
    },
    {
      "cell_type": "code",
      "source": [
        "# Courtesy of team response (with a few small additions: docstring & kwarg for \n",
        "# spike_cutoff and peak width)\n",
        "import scipy\n",
        "\n",
        "def find_spikes(xarray, start_time, end_time, spike_thresh=0, spike_width=200):\n",
        "    \"\"\"\n",
        "    This function takes an xarray of the neural response ands finds all spikes \n",
        "    between start_time and end_time. It returns a dictionary containing the \n",
        "    spike counts and spike times. \n",
        "    \"\"\"\n",
        "    during_stimulus = xarray.loc[start_time:end:time]\n",
        "    spike_indicies = scipy.signal.find_peaks(during_stimulus, height=spike_thresh, distance=spike_width)[0]\n",
        "    spike_times = during_stimulus.t[spike_indicies]\n",
        "    spike_count = len(spike_times)\n",
        "    return {'spike_count': spike_count, 'spike_times': spike_times}"
      ],
      "outputs": [],
      "execution_count": 22,
      "metadata": {}
    },
    {
      "cell_type": "code",
      "source": [],
      "outputs": [],
      "execution_count": null,
      "metadata": {}
    },
    {
      "cell_type": "markdown",
      "source": [
        "## Create a pandas `DataFrame` with the stimulus descriptives, neural responses, stimulus type indexed by sweep number"
      ],
      "metadata": {}
    },
    {
      "cell_type": "code",
      "source": [
        "# Some lists of each stimulus type\n",
        "data1_ramps = [0, 1, 2, 68, 69, 70, 71, 72]\n",
        "data1_steps = [12, 13, 14, 15, 16, 17, 22, 30, 38, 42, 46, 50, 55, 59, 63, 67, 75, 76, 77, 78, 79, 80, 81, 82, 83, 84, 85, 86, 87, 88, 89, 90]\n",
        "data1_noise = [18, 19, 20, 21, 23, 24, 25, 26, 27, 28, 29, 39, 40, 41, 43, 44, 45, 47, 48, 49, 56, 57, 58, 60, 61, 62, 64, 65, 66]\n",
        "\n",
        "# Some lists of each stimulus type\n",
        "data2_ramps = [0, 1, 55, 56, 57]\n",
        "data2_steps = [8, 9, 10, 11, 12, 16, 20, 24, 31, 35, 39, 46, 50, 54, 58, 59, 60, 61, 62, 63, 64, 65, 66]\n",
        "data2_noise = [12, 14, 15, 17, 18, 19, 21, 22, 23, 28, 29, 30, 32, 33, 34, 36, 37, 38, 43, 44, 45, 47, 48, 49, 51, 52, 53]"
      ],
      "outputs": [],
      "execution_count": 3,
      "metadata": {}
    },
    {
      "cell_type": "code",
      "source": [
        "# 1. create a list that we will store each dictionary in representing a row of \n",
        "processed_data = []\n",
        "# 2. Looping over each group in the data file\n",
        "for group in h5data1:\n",
        "    # 3. Creating a dictionary that represnets the current sweep that will eventually be added\n",
        "    #.   to the list. \n",
        "    current_data = {}\n",
        "    # 4. Check whether the current group is actually a sweep\n",
        "    # 5. If it is extract the sweep number and find the type of sweep and add these \n",
        "    #    to the dictionary. \n",
        "    # 6. Describe the current sweep and add that to the dictionary\n",
        "    # 7. Describe the response and add that to the dictionary \n",
        "# 8. Create a pandas DataFrame and set the sweep number as the index"
      ],
      "outputs": [],
      "execution_count": 24,
      "metadata": {}
    },
    {
      "cell_type": "markdown",
      "source": [
        "## Using steps: Create plot of firing rate vs I (step & noise, both cells)"
      ],
      "metadata": {}
    },
    {
      "cell_type": "code",
      "source": [],
      "outputs": [],
      "execution_count": null,
      "metadata": {}
    },
    {
      "cell_type": "markdown",
      "source": [
        "## Using ramps: Create plot of f vs I (both cells)"
      ],
      "metadata": {}
    },
    {
      "cell_type": "code",
      "source": [],
      "outputs": [],
      "execution_count": null,
      "metadata": {}
    },
    {
      "cell_type": "code",
      "source": [],
      "outputs": [],
      "execution_count": null,
      "metadata": {}
    }
  ],
  "metadata": {
    "kernelspec": {
      "display_name": "Python 3 (QN)",
      "language": "python",
      "name": "py3-qn"
    },
    "language_info": {
      "codemirror_mode": {
        "name": "ipython",
        "version": 3
      },
      "file_extension": ".py",
      "mimetype": "text/x-python",
      "name": "python",
      "nbconvert_exporter": "python",
      "pygments_lexer": "ipython3",
      "version": "3.8.5"
    },
    "nteract": {
      "version": "0.25.1"
    }
  },
  "nbformat": 4,
  "nbformat_minor": 4
}