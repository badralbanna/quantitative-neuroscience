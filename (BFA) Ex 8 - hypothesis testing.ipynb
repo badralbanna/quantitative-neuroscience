{
 "metadata": {
  "language_info": {
   "codemirror_mode": {
    "name": "ipython",
    "version": 3
   },
   "file_extension": ".py",
   "mimetype": "text/x-python",
   "name": "python",
   "nbconvert_exporter": "python",
   "pygments_lexer": "ipython3",
   "version": "3.8.5-final"
  },
  "orig_nbformat": 2,
  "kernelspec": {
   "name": "py3-qn",
   "display_name": "Python 3 (QN)"
  }
 },
 "nbformat": 4,
 "nbformat_minor": 2,
 "cells": [
  {
   "source": [
    "# Exercise 8: Hypothesis Testing \n",
    "\n",
    "\n",
    "\n",
    "## Table of Contents\n",
    "\n",
    "* Parametric tests\n",
    "    * one-sample t-test\n",
    "    * paired t-test\n",
    "    * two-sample t-test\n",
    "    * ANOVA\n",
    "* Testing parametric assumptions\n",
    "    * Verifying assumptions\n",
    "    * Modifying data \n",
    "* Non-parametric tests\n",
    "    * Signed-rank tests\n",
    "    * Bootstrapping and estimation plots\n",
    "\n",
    "## Setup"
   ],
   "cell_type": "markdown",
   "metadata": {}
  },
  {
   "cell_type": "code",
   "execution_count": null,
   "metadata": {},
   "outputs": [],
   "source": [
    "import numpy as np\n",
    "import pandas as pd\n",
    "import matplotlib as mpl\n",
    "import matplotlib.pyplot as plt\n",
    "import scipy.stats as sps\n",
    "import os\n",
    "import statsmodels.formula.api as smf\n",
    "import statsmodels.api as sm\n",
    "\n",
    "# For retina displays only \n",
    "from IPython.display import set_matplotlib_formats\n",
    "set_matplotlib_formats('retina')\n",
    "%matplotlib inline"
   ]
  },
  {
   "source": [
    "## Parametric tests"
   ],
   "cell_type": "markdown",
   "metadata": {}
  },
  {
   "source": [
    "### one-sample t-test"
   ],
   "cell_type": "markdown",
   "metadata": {}
  },
  {
   "cell_type": "code",
   "execution_count": null,
   "metadata": {},
   "outputs": [],
   "source": [
    "# Generating data \n",
    "Y = np.random.normal(loc=3, scale=2, size=100)\n",
    "\n",
    "df_one_samp = pd.DataFrame(data = {'Y': Y})"
   ]
  },
  {
   "cell_type": "code",
   "execution_count": null,
   "metadata": {},
   "outputs": [],
   "source": [
    "# Excersise: What do you expect for pvalue if popmean = 3? What happens as you move away from 3? \n",
    "\n",
    "sps.ttest_1samp(Y, popmean=3)"
   ]
  },
  {
   "cell_type": "code",
   "execution_count": null,
   "metadata": {},
   "outputs": [],
   "source": [
    "# Exersise: find p value by using statsmodels and thinking about the test as a model\n",
    "\n"
   ]
  },
  {
   "source": [
    "### Paired t-test"
   ],
   "cell_type": "markdown",
   "metadata": {}
  },
  {
   "cell_type": "code",
   "execution_count": null,
   "metadata": {},
   "outputs": [],
   "source": [
    "# Generating data \n",
    "N = 100\n",
    "X1 = np.random.normal(loc=0, scale=2, size=N)\n",
    "X2 = X1 + np.random.normal(loc=2, scale=1, size=N)\n"
   ]
  },
  {
   "cell_type": "code",
   "execution_count": null,
   "metadata": {},
   "outputs": [],
   "source": [
    "sps.ttest_rel(X1, X2)"
   ]
  },
  {
   "cell_type": "code",
   "execution_count": null,
   "metadata": {},
   "outputs": [],
   "source": [
    "# Exercise: Use ttest_1samp amd show that you get the same result if you do one-way t-test of the difference\n",
    "\n",
    "\n",
    "\n",
    "\n"
   ]
  },
  {
   "source": [
    "### Two-sample t-test "
   ],
   "cell_type": "markdown",
   "metadata": {}
  },
  {
   "cell_type": "code",
   "execution_count": null,
   "metadata": {},
   "outputs": [],
   "source": [
    "# Generating data \n",
    "N = 100\n",
    "effect_size = 1 \n",
    "std_dev = 2\n",
    "X1 = np.random.normal(loc=0, scale=std_dev, size=N)\n",
    "X2 = np.random.normal(loc=effect_size, scale=std_dev, size=N)"
   ]
  },
  {
   "cell_type": "code",
   "execution_count": null,
   "metadata": {},
   "outputs": [],
   "source": [
    "sps.ttest_ind(X1, X2)"
   ]
  },
  {
   "cell_type": "code",
   "execution_count": null,
   "metadata": {},
   "outputs": [],
   "source": [
    "# Exersise: find p value by using statsmodels and thinking about the test as a model\n",
    "\n"
   ]
  },
  {
   "source": [
    "### ANOVA"
   ],
   "cell_type": "markdown",
   "metadata": {}
  },
  {
   "cell_type": "code",
   "execution_count": null,
   "metadata": {},
   "outputs": [],
   "source": [
    "# Generating data \n",
    "N = 100\n",
    "effect_size_2 = 1\n",
    "effect_size_3 = -3\n",
    "std_dev = 2\n",
    "X1 = np.random.normal(loc=0, scale=std_dev, size=N)\n",
    "X2 = np.random.normal(loc=effect_size_2, scale=std_dev, size=N)\n",
    "X3 = np.random.normal(loc=effect_size_3, scale=std_dev, size=N)"
   ]
  },
  {
   "cell_type": "code",
   "execution_count": null,
   "metadata": {},
   "outputs": [],
   "source": [
    "sps.f_oneway(X1, X2, X3)"
   ]
  },
  {
   "cell_type": "code",
   "execution_count": null,
   "metadata": {},
   "outputs": [],
   "source": [
    "# Exersise (tougher): find p value by using statsmodels and thinking about the test as a model\n",
    "\n"
   ]
  },
  {
   "source": [
    "## Testing non-parametic assumptions"
   ],
   "cell_type": "markdown",
   "metadata": {}
  },
  {
   "cell_type": "code",
   "execution_count": null,
   "metadata": {},
   "outputs": [],
   "source": [
    "# Exercise: Generate some non-gaussian data, make sure you know how to specifcy the mean of the \n",
    "# population and your sample size\n",
    "\n",
    "\n",
    "\n",
    "\n",
    "\n",
    "\n",
    "\n",
    "\n"
   ]
  },
  {
   "cell_type": "code",
   "execution_count": null,
   "metadata": {},
   "outputs": [],
   "source": [
    "# Exercise: Test it ASSUMING it meets assumptions of parametric tests. Do you get the correct result?\n",
    "# 1. Play around with sample size, variances, etc. \n",
    "# 2. If you are feeling really into it, draw a graph showing what happens as one population gets \n",
    "# further and further from normal. \n",
    "\n",
    "\n",
    "\n",
    "\n",
    "\n"
   ]
  },
  {
   "cell_type": "code",
   "execution_count": null,
   "metadata": {},
   "outputs": [],
   "source": [
    "# Exercise: Look up one of the following and apply it to your data: \n",
    "# \n",
    "# Data are normally distributed\n",
    "#    D’Agostino-Pearson\n",
    "#    Shapiro-Wilk\n",
    "#    Kolmogorov-Smirnov\n",
    "#    Lilliefors Test\n",
    "# Equal variance between groups\n",
    "#    Levene’s Test\n",
    "\n",
    "\n",
    "\n"
   ]
  },
  {
   "source": [
    "## Non-parametric tests"
   ],
   "cell_type": "markdown",
   "metadata": {}
  },
  {
   "cell_type": "code",
   "execution_count": null,
   "metadata": {},
   "outputs": [],
   "source": []
  },
  {
   "source": [
    "### Signed-rank tests"
   ],
   "cell_type": "markdown",
   "metadata": {}
  },
  {
   "cell_type": "code",
   "execution_count": null,
   "metadata": {},
   "outputs": [],
   "source": []
  },
  {
   "source": [
    "### Bootstrapping and estimation plots"
   ],
   "cell_type": "markdown",
   "metadata": {}
  },
  {
   "cell_type": "code",
   "execution_count": null,
   "metadata": {},
   "outputs": [],
   "source": []
  }
 ]
}