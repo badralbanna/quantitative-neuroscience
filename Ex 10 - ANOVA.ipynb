{
 "cells": [
  {
   "cell_type": "markdown",
   "metadata": {},
   "source": [
    "# Exercise 10: Multivariate models\n",
    "\n",
    "## Table of Contents\n",
    "\n",
    "* ANOVA w/o interactions\n",
    "    * One-way ANOVA\n",
    "    * Post-hoc testing \n",
    "* ANOVA w/ interactions\n",
    "    * Two-way ANOVA\n",
    "    \n",
    "## Setup"
   ]
  },
  {
   "cell_type": "code",
   "execution_count": null,
   "metadata": {},
   "outputs": [],
   "source": [
    "import numpy as np\n",
    "import pandas as pd\n",
    "import matplotlib as mpl\n",
    "import matplotlib.pyplot as plt\n",
    "import scipy.stats as sps\n",
    "import pingouin as pg\n",
    "import statsmodels.api as sm\n",
    "import statsmodels.formula.api as smf\n",
    "import os\n",
    "\n",
    "# For retina displays only \n",
    "from IPython.display import set_matplotlib_formats\n",
    "set_matplotlib_formats('retina')\n",
    "%matplotlib inline"
   ]
  },
  {
   "cell_type": "markdown",
   "metadata": {},
   "source": [
    "## Multivariate models w/o interactions"
   ]
  },
  {
   "cell_type": "code",
   "execution_count": null,
   "metadata": {},
   "outputs": [],
   "source": [
    "# Creating some fake data\n",
    "n = 20\n",
    "\n",
    "X1 = np.random.normal(loc=.5, scale=2, size=n)\n",
    "X2 = np.random.normal(loc=2, scale=2, size=n)\n",
    "X3 = np.random.normal(loc=0, scale=2, size=n)"
   ]
  },
  {
   "cell_type": "code",
   "execution_count": null,
   "metadata": {},
   "outputs": [],
   "source": [
    "# Reorganizing data in dataframe for statsmodels\n",
    "df = pd.DataFrame({'X1': X1, 'X2': X2, 'X3': X3})\n",
    "df_m = df.melt(value_vars=['X1', 'X2', 'X3'], var_name='Group', value_name='X')\n",
    "df_m"
   ]
  },
  {
   "cell_type": "markdown",
   "metadata": {},
   "source": [
    "### One-way ANOVA"
   ]
  },
  {
   "cell_type": "code",
   "execution_count": null,
   "metadata": {},
   "outputs": [],
   "source": [
    "# Using scipy.stats \n",
    "sps.f_oneway(X1, X2, X3)"
   ]
  },
  {
   "cell_type": "code",
   "execution_count": null,
   "metadata": {},
   "outputs": [],
   "source": [
    "# Using statsmodels, \"C()\" indicates it is a categorical variable\n",
    "\n",
    "model = smf.ols('X ~ C(Group)', data=df_m).fit()\n",
    "sm.stats.anova_lm(model)"
   ]
  },
  {
   "cell_type": "markdown",
   "metadata": {},
   "source": [
    "### Post-hoc testing "
   ]
  },
  {
   "cell_type": "code",
   "execution_count": null,
   "metadata": {},
   "outputs": [],
   "source": [
    "# Using t-tests with bonferroni correction \n",
    "\n",
    "results = model.t_test_pairwise('C(Group)', method='bonferroni')\n",
    "results.result_frame"
   ]
  },
  {
   "cell_type": "code",
   "execution_count": null,
   "metadata": {},
   "outputs": [],
   "source": [
    "from statsmodels.stats.multicomp import pairwise_tukeyhsd"
   ]
  },
  {
   "cell_type": "code",
   "execution_count": null,
   "metadata": {},
   "outputs": [],
   "source": [
    "pairwise_tukeyhsd(df_m['X'], df_m['Group'], alpha=0.05).summary()"
   ]
  },
  {
   "cell_type": "markdown",
   "metadata": {},
   "source": [
    "### Adjusting for multiple comparisons"
   ]
  },
  {
   "cell_type": "code",
   "execution_count": null,
   "metadata": {},
   "outputs": [],
   "source": [
    "# Exercise: calculate adjusted p-values for all comparisons between X1, X2, and X3. \n",
    "\n"
   ]
  },
  {
   "cell_type": "markdown",
   "metadata": {},
   "source": [
    "## Multivariate models w/ interactions"
   ]
  },
  {
   "cell_type": "markdown",
   "metadata": {},
   "source": [
    "## Two-way ANOVA"
   ]
  },
  {
   "cell_type": "code",
   "execution_count": null,
   "metadata": {},
   "outputs": [],
   "source": [
    "# Creating some fake data with no interaction\n",
    "n = 15\n",
    "\n",
    "age_w_s = np.random.normal(loc=0, scale=2, size=n)\n",
    "age_w_l = np.random.normal(loc=2, scale=2, size=n)\n",
    "age_m_s = np.random.normal(loc=.5, scale=2, size=n)\n",
    "age_m_l = np.random.normal(loc=2.5, scale=2, size=n)\n",
    "age = np.concatenate([age_w_s, age_w_l, age_m_s, age_m_l])\n",
    "\n",
    "typ = np.repeat([\"wild-type\", \"wild-type\", \"mutant\", \"mutant\"], repeats=[len(age_w_s), len(age_w_l), len(age_m_s), len(age_m_l)])\n",
    "size = np.repeat([\"small\", \"large\", \"small\", \"large\"], repeats=[len(age_w_s), len(age_w_l), len(age_m_s), len(age_m_l)])\n",
    "df_2 = pd.DataFrame({'type': typ, 'size': size, 'age': age})\n",
    "df_2"
   ]
  },
  {
   "cell_type": "code",
   "execution_count": null,
   "metadata": {},
   "outputs": [],
   "source": [
    "# Plotting the data\n",
    "df_2.boxplot(by=['type', 'size'], figsize=(5,4))"
   ]
  },
  {
   "cell_type": "code",
   "execution_count": null,
   "metadata": {},
   "outputs": [],
   "source": [
    "two_way_result = smf.ols('age ~ C(type) + C(size)', data=df_2).fit()\n",
    "sm.stats.anova_lm(two_way_result)"
   ]
  },
  {
   "cell_type": "code",
   "execution_count": null,
   "metadata": {},
   "outputs": [],
   "source": [
    "two_way_result = smf.ols('age ~ C(type) + C(size) + C(type):C(size)', data=df_2).fit()\n",
    "sm.stats.anova_lm(two_way_result)"
   ]
  },
  {
   "cell_type": "code",
   "execution_count": null,
   "metadata": {},
   "outputs": [],
   "source": [
    "# Exercise: Generate data with an interaction effect \n",
    "\n",
    "\n",
    "\n",
    "\n",
    "\n"
   ]
  }
 ],
 "metadata": {
  "kernelspec": {
   "display_name": "Python 3.9.12 ('base')",
   "language": "python",
   "name": "python3"
  },
  "language_info": {
   "codemirror_mode": {
    "name": "ipython",
    "version": 3
   },
   "file_extension": ".py",
   "mimetype": "text/x-python",
   "name": "python",
   "nbconvert_exporter": "python",
   "pygments_lexer": "ipython3",
   "version": "3.9.12"
  },
  "vscode": {
   "interpreter": {
    "hash": "83f12c968a18c115c9a5adf87b5db7e005c9a42777344a91f23fbaed78f04bbd"
   }
  }
 },
 "nbformat": 4,
 "nbformat_minor": 4
}
