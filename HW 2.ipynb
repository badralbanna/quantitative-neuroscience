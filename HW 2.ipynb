{
 "cells": [
  {
   "cell_type": "markdown",
   "metadata": {},
   "source": [
    "# Homework 2: Data storage formats & manipulation (`pandas` and `xarray`)"
   ]
  },
  {
   "cell_type": "code",
   "execution_count": null,
   "metadata": {},
   "outputs": [],
   "source": [
    "# Creating the data needed for this assignment (only run once)\n",
    "%run \"HW 2 data generator.py\""
   ]
  },
  {
   "cell_type": "code",
   "execution_count": null,
   "metadata": {},
   "outputs": [],
   "source": [
    "import h5py\n",
    "import os\n",
    "import numpy as np\n",
    "import xarray as xr\n",
    "import pandas as pd\n",
    "import json\n",
    "import matplotlib as mpl\n",
    "import matplotlib.pyplot as plt\n",
    "%matplotlib inline"
   ]
  },
  {
   "cell_type": "markdown",
   "metadata": {},
   "source": [
    "## Problem 2.1: Loading `hdf5` data and working with data from `xarray` \n",
    "\n",
    "In your `data` directory is `animal1_session1.h5`, fake experimental data from an animal running around a behavioral rig for two minutes as it is exposed to stimuli. It includes:\n",
    "\n",
    "* Behavioral data\n",
    "    * x,y body position in rig as a function of time\n",
    "    * x,y whisker position relative to body as a function of time\n",
    "    * stimulus onset times\n",
    "    * stimulus offset times\n",
    "* Ephys data\n",
    "    * spike times from 2 cells\n",
    "    \n",
    "In this problem we'll \n",
    "1. use `h5py` to load the data, \n",
    "2. construct `xarray` objects,\n",
    "3. do some math with these, \n",
    "4. subsmple these xarrays,\n",
    "5. and plot our results using `matplotlib`. \n",
    "   "
   ]
  },
  {
   "cell_type": "code",
   "execution_count": null,
   "metadata": {},
   "outputs": [],
   "source": [
    "### 2.1.1 load this data file as `h5data` using `h5py` \n",
    "\n",
    "\n",
    "\n"
   ]
  },
  {
   "cell_type": "code",
   "execution_count": null,
   "metadata": {},
   "outputs": [],
   "source": [
    "### 2.1.2 Using the data in the h5py file construct two `DataArray` objects.\n",
    "# one for the body position x-coordinate as `x` using `t` as a coordinate \n",
    "# one for the body position y-coordinate as `y` using `t` as a coordinate \n",
    "# make sure to include the attributes \"long_name\" and \"units\" in the `DataArray`\n",
    "# (these can be found in the h5py file attributes)\n",
    "#\n",
    "# EXTRA CREDIT: read about xarray's `DataSet` object and include BOTH of these\n",
    "# data sets into one object called `pos`\n",
    "\n",
    "\n",
    "\n",
    "\n",
    "\n",
    "\n"
   ]
  },
  {
   "cell_type": "code",
   "execution_count": null,
   "metadata": {},
   "outputs": [],
   "source": [
    "### 2.1.3 Using the data in the h5py file construct two more `DataArray` objects.\n",
    "# one for the relative whiscer position x-coordinate as `rel_wsk_x` using `t` as a coordinate \n",
    "# one for the relative whiscer position y-coordinate as `rel_wsk_y` using `t` as a coordinate \n",
    "# make sure to include the attributes \"long_name\" and \"units\" in the `DataArray`\n",
    "# (these can be found in the h5py file attributes)\n",
    "#\n",
    "# EXTRA CREDIT: read about xarray's `DataSet` object and include BOTH of these\n",
    "# data sets into one object called `wsk_pos`\n",
    "#\n",
    "# combine these DataArrays with those from the previous problem to create two new\n",
    "# DataArrays for aboslute whisker position in the rig: 'wsk_x' & `wsk_y'\n",
    "\n",
    "\n",
    "\n",
    "\n",
    "\n",
    "\n",
    "\n"
   ]
  },
  {
   "cell_type": "code",
   "execution_count": null,
   "metadata": {},
   "outputs": [],
   "source": [
    "### 2.1.4 Now the stimulus information in the h5data to subsample your data:\n",
    "# Figure out how to grab two time periods from your data: (1) during the 1st\n",
    "# stimulus presentation (2) for the entire inter-stimulus period between the \n",
    "# 1st stimulus onset and the second\n",
    "# \n",
    "# HINT: the stimulus onset and offset times are not explicitly in your \"t\" coordinate.\n",
    "# Use the methods we discussed in class to either grab the nearest positions to these \n",
    "# times or interpolate from the data that we do have. \n",
    "\n",
    "\n",
    "\n",
    "\n",
    "\n",
    "\n",
    "\n"
   ]
  },
  {
   "cell_type": "code",
   "execution_count": null,
   "metadata": {},
   "outputs": [],
   "source": [
    "### 2.1.5 Let's plot our data! Make a plot of y position vs x position \n",
    "# from the beginning of stimulus 1 to the beginning of stimulus 2.\n",
    "# Your plot should include \n",
    "#\n",
    "# 1. Axes labels with units\n",
    "# 2. The animal's body position in the rig\n",
    "# 3. The animal's whisker position in the rig\n",
    "# 4. Some kind of annotation (legend, label, etc.) to indicate which curve \n",
    "#    is which.  \n",
    "# 5. Some sort of highllight or emphasis on the stimulus presentation period\n",
    "#    between stimulus onset and offset.\n",
    "#\n",
    "# To the greatest extent possible, pay attention to and modify the style of \n",
    "# the graphical elements in the plot assuming the viewer is most interested in\n",
    "# comparing how the whisker motion changes from during the stimulus to afterwards\n",
    "\n",
    "\n",
    "\n",
    "\n",
    "\n",
    "\n",
    "\n"
   ]
  },
  {
   "cell_type": "markdown",
   "metadata": {},
   "source": [
    "## Problem 2.2: Saving data to an HDF5 file \n",
    "\n",
    "This one is a little more freeform. I want you to think about data from a potetnial experimental session and figure out how you might organize that into an `hdf5` file. "
   ]
  },
  {
   "cell_type": "markdown",
   "metadata": {},
   "source": [
    "### 2.2.1 \n",
    "\n",
    "**Specify what the groups, subgroups, and arrays will be here using markdown**\n",
    "\n",
    "\n"
   ]
  },
  {
   "cell_type": "code",
   "execution_count": null,
   "metadata": {},
   "outputs": [],
   "source": [
    "### 2.2.2 Use the numpy array consruction methods to  create some fake \n",
    "# data variables (as nupy arrays) similar to what you would like to store. \n",
    "\n",
    "# this doesn't need to be realistic (it can be all oness) but as much as \n",
    "# possible the _shapes_ of the arrays should be as close to reality as you \n",
    "# can make it. \n",
    "\n",
    "\n",
    "\n",
    "\n",
    "\n",
    "\n",
    "\n",
    "\n"
   ]
  },
  {
   "cell_type": "code",
   "execution_count": null,
   "metadata": {},
   "outputs": [],
   "source": [
    "### 2.2.3 Build your hdf5 file! Make sure to annotate each section and include \n",
    "# metadata (including \"units\" and \"long_name\" as a minimum)\n",
    "\n",
    "h5data = h5py.File(\"your_name_here\", ????)\n",
    "\n",
    "h5data.create_group(?????)\n",
    "h5data.create_dataset(??????)\n",
    "#...\n",
    "\n",
    "# Don't forget to close your data when you are dome!\n",
    "h5data.close()"
   ]
  },
  {
   "cell_type": "markdown",
   "metadata": {},
   "source": [
    "## Problem 2.3: Building a `DataFrame` from a series of json files\n",
    "\n",
    "In this problem we'll be loading behavioral data across animals from a set of json files and manipulating this data in a pandas `DataFrame`. Explicetly, you will \n",
    "\n",
    "1. Load behavioral data from a set of `json` files,\n",
    "2. Create a new pandas `DataFrame` using that data, \n",
    "3. Process the datas in pandas to generate a new variable,\n",
    "4. select groups from your data\n",
    "5. plot these groups\n",
    "\n",
    "The experiment consisted of 6 animals (3 male, 3 female) being run through a behavioral assay which resulted in two behavioral scores out of 12: strength and dexterity. Animals were run in 4 behavioral sessions each a week apart. \n",
    "\n",
    "Each session for each animal is stored as a `json` file in te directory `behavioral_exp`. The file names are `ANIMAL_NAME-pAGE.json`. Take a look in the directory to make sure this makes sense. "
   ]
  },
  {
   "cell_type": "code",
   "execution_count": null,
   "metadata": {},
   "outputs": [],
   "source": [
    "### 2.3.1 Using package `json` use a for loop and any logic you need to\n",
    "# load each of these session data files as a dictionary and append them \n",
    "# to a list called `behavioral_data`. \n",
    "#\n",
    "# HINT os.list_dir(PATH) will return the list of all files in PATH\n",
    "# Only catch is that it also returns the current directory symbol `.` and \n",
    "# the super-directory `..`. You will have to write an if statment to ignore these \n",
    "# like \n",
    "#\n",
    "# if not in ['.', '..']:\n",
    "#      blah....\n"
   ]
  },
  {
   "cell_type": "code",
   "execution_count": null,
   "metadata": {},
   "outputs": [],
   "source": [
    "### 2.3.3 Construct a pandas data frame called `behavior_df` from \n",
    "# `behavioral_data`. Compare its entries to the original json files\n",
    "# to make sure it looks correct. Play around with sampling various \n",
    "# parts of the data. \n",
    "\n",
    "\n",
    "\n",
    "\n",
    "\n",
    "\n",
    "\n"
   ]
  },
  {
   "cell_type": "code",
   "execution_count": null,
   "metadata": {},
   "outputs": [],
   "source": [
    "### 2.3.4 add a new column to your `behavior_df` called `meta` \n",
    "# which is just the sum of strength and dexterity.\n",
    "\n",
    "\n",
    "\n",
    "\n",
    "\n",
    "\n"
   ]
  },
  {
   "cell_type": "code",
   "execution_count": null,
   "metadata": {},
   "outputs": [],
   "source": [
    "### 2.3.5 Construct a plot with 2 subaxes placed one on top \n",
    "# of the other. On the top axis plot strength v. age with two lines \n",
    "# one for each sex. On the bottom axis plot dexterity v. age with \n",
    "# two lines - one for each sex.\n",
    "# \n",
    "# 1. Axes labels with units\n",
    "# 2. Some kind of annotation (legend, label, etc.) to indicate which curve \n",
    "#    is which.  \n",
    "#\n",
    "# To the greatest extent possible, pay attention to and modify the style of \n",
    "# the graphical elements in the plot assuming the viewer is most interested in\n",
    "# comparing how the whisker motion changes from during the stimulus to afterwards\n",
    "\n",
    "\n",
    "\n",
    "\n",
    "\n"
   ]
  },
  {
   "cell_type": "code",
   "execution_count": null,
   "metadata": {},
   "outputs": [],
   "source": []
  }
 ],
 "metadata": {
  "kernelspec": {
   "display_name": "Python 3 (QN)",
   "language": "python",
   "name": "py3-qn"
  },
  "language_info": {
   "codemirror_mode": {
    "name": "ipython",
    "version": 3
   },
   "file_extension": ".py",
   "mimetype": "text/x-python",
   "name": "python",
   "nbconvert_exporter": "python",
   "pygments_lexer": "ipython3",
   "version": "3.8.5"
  }
 },
 "nbformat": 4,
 "nbformat_minor": 4
}
