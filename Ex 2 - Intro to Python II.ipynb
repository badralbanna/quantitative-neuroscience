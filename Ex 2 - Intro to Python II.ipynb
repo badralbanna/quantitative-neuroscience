{
 "cells": [
  {
   "cell_type": "markdown",
   "source": [
    "# Exercise 2, Introduction to Python, part 2: variable types, syntax, and logic\n",
    "\n",
    "Last class we got out feet wet. In class today, we'll work thorugh most of the key basics along with introducing our first two packages for data science: `numpy` and `scipy`.\n",
    "\n",
    "We are essentially covering the core of the Python standard Library (this is what you are installing when you \"install python\"). [The doumentaion for all the tools included can be found here](https://docs.python.org/3.8/library/index.html). \n",
    "\n",
    "It's also worth noting that python is very forgiving for a lot of user decisions relating to formatting, naming, etc. but the community has decided on a set of standards documented in [Python Enhabncement Proposal 8 (aka PEP 8)](https://www.python.org/dev/peps/pep-0008/). It's worth taking a read, but there are a few things important conventions worth knowing:\n",
    "\n",
    "1. names should reflect purpose not implimentation\n",
    "2. indents are made with 4 spaces (not 2 spaces, not tabs)\n",
    "3. variables, functions should be named all_lower_case_with_underscores\n",
    "4. class objects should be named in CamelCase\n",
    "5. packages should generally have short onewordlowercase names\n",
    "\n",
    "In general, _any_ programming requires constantly checking the docs associated with the code. I usually keep tabs open to the documentation I need. For quick reference these can be found under `Help` in the menubar. \n",
    "\n",
    "In Jupyter you can also access the documentation for a function directly when you have typed by pressing `Shift-TAB` or opening the `Conetxtual Help` window. "
   ],
   "metadata": {}
  },
  {
   "cell_type": "markdown",
   "source": [
    "## 2.1 Python variable types <a name=\"python_types\"></a>\n",
    "    \n",
    "Last class, we introduced the fundamental variable types that python uses\n",
    "\n",
    "* Numbers\n",
    "* Booleans (True / False)\n",
    "* Strings (and formatted strings)\n",
    "* Tuples\n",
    "* Lists\n",
    "* Dictionaries\n",
    "\n",
    "Today we will review these and add one more\n",
    "\n",
    "* Sets"
   ],
   "metadata": {}
  },
  {
   "cell_type": "markdown",
   "source": [
    "### 2.1.1 Introducing sets <a name=\"sets\"></a>\n",
    "\n",
    "There is one variable type built into Python that we did not discuss: Sets. Like a list or tuple it is a combination of other variables, but unlike these other types there is\n",
    "\n",
    "1. There is no notion of the order (so no subscripting aka indexing)\n",
    "2. It comes with functions that make sense for sets (intersection, union, etc)\n",
    "    \n",
    "Sets can be created from lists or tuples using the `set(.)` command."
   ],
   "metadata": {}
  },
  {
   "cell_type": "code",
   "execution_count": null,
   "source": [
    "a = [1,1,1,2,3,2,5,7,4,7,7]\n",
    "\n",
    "b = set(a)\n",
    "b"
   ],
   "outputs": [],
   "metadata": {}
  },
  {
   "cell_type": "code",
   "execution_count": null,
   "source": [
    "b[0]"
   ],
   "outputs": [],
   "metadata": {}
  },
  {
   "cell_type": "markdown",
   "source": [
    "or you can create them directly using curly brackets `{.}`"
   ],
   "metadata": {}
  },
  {
   "cell_type": "code",
   "execution_count": null,
   "source": [
    "# EXERCISE\n",
    "\n",
    "c = {3, 6, 7, 9, 10}\n",
    "\n",
    "b.??????(c)"
   ],
   "outputs": [],
   "metadata": {}
  },
  {
   "cell_type": "code",
   "execution_count": null,
   "source": [
    "# EXERCISE\n",
    "# What can we do with another set `c`? \n",
    "# Use jupyter's autofill command `TAB` to find out what functions there are. (Type `b.` and then \n",
    "# press `TAB`)\n",
    "\n",
    "b.??????(c)"
   ],
   "outputs": [],
   "metadata": {}
  },
  {
   "cell_type": "code",
   "execution_count": null,
   "source": [
    "# EXERCISE\n",
    "# Note that many functions have FUNCTION_update version. What is the difference?\n",
    "# Play around and find out. Make sure to check what `b` and `c` equal after you run your function\n",
    "\n",
    "\n"
   ],
   "outputs": [],
   "metadata": {}
  },
  {
   "cell_type": "code",
   "execution_count": null,
   "source": [
    "# EXERCISE\n",
    "# Play around with defining and manipulating sets here using autocomplete. \n",
    "\n",
    "\n",
    "b."
   ],
   "outputs": [],
   "metadata": {}
  },
  {
   "cell_type": "markdown",
   "source": [
    "### 2.1.2 Introducting formatted strings <a name=\"fstring\"></a>\n",
    "\n",
    "Very often, you want to be able to create strings that incorperates information from varaibles (for printing for example). These are called formatted strings and Python provides three ways of creating them.\n",
    "\n",
    "1. % syntax\n",
    "2. STRING.format syntax\n",
    "3. f-string syntax\n",
    "\n",
    "We're going to ignore (1) since this is mostly depreciated this point, and we're going to ignore (2) since (3) is way easier."
   ],
   "metadata": {}
  },
  {
   "cell_type": "markdown",
   "source": [
    "#### f-string syntax\n",
    "\n",
    "Basically, you can insert the string version of variables in a string if you prepend`f` to the string and use `{ }` to surround the variable name. \n",
    "\n",
    "_Read the [python docs of string formatting](https://docs.python.org/3/tutorial/inputoutput.html#formatted-string-literals)_"
   ],
   "metadata": {}
  },
  {
   "cell_type": "code",
   "execution_count": null,
   "source": [
    "age = 2\n",
    "\n",
    "f\"Ayla is {age} years old\""
   ],
   "outputs": [],
   "metadata": {}
  },
  {
   "cell_type": "markdown",
   "source": [
    "You can even do calculations using python code"
   ],
   "metadata": {}
  },
  {
   "cell_type": "code",
   "execution_count": null,
   "source": [
    "f\"Ayla is {age} years old, but if you ask her she says she is almost {age+1}\""
   ],
   "outputs": [],
   "metadata": {}
  },
  {
   "cell_type": "markdown",
   "source": [
    "You can also ask python to format the way variables are included. For example, you can add padding "
   ],
   "metadata": {}
  },
  {
   "cell_type": "code",
   "execution_count": null,
   "source": [
    "f\"Ayla is {age:10} years old\""
   ],
   "outputs": [],
   "metadata": {}
  },
  {
   "cell_type": "markdown",
   "source": [
    "or specify the precision of a number"
   ],
   "metadata": {}
  },
  {
   "cell_type": "code",
   "execution_count": null,
   "source": [
    "from math import pi\n",
    "\n",
    "f\"A circle's circumference divided by its diameter is around {pi:.3} but much closer to {pi:.20}\""
   ],
   "outputs": [],
   "metadata": {}
  },
  {
   "cell_type": "markdown",
   "source": [
    "There is a **lot** more you can ask Python to do in how it actually converts the variable to a string.To understand more read on [the format specifier mini-language](https://docs.python.org/3/library/string.html#formatspec). "
   ],
   "metadata": {}
  },
  {
   "cell_type": "markdown",
   "source": [
    "### <a name=\"plus-equals\">2.1.3 += Syntax</a>\n",
    "\n",
    "Very often, you want to modify a variable using an arithmatic operator (like `+`, `*`) etc. and resave that variable under the same name. You could write "
   ],
   "metadata": {}
  },
  {
   "cell_type": "code",
   "execution_count": null,
   "source": [
    "a = 5\n",
    "\n",
    "a = a + 2\n",
    "a"
   ],
   "outputs": [],
   "metadata": {}
  },
  {
   "cell_type": "markdown",
   "source": [
    "or you could use the syntax `+=`"
   ],
   "metadata": {}
  },
  {
   "cell_type": "code",
   "execution_count": null,
   "source": [
    "a = 5\n",
    "\n",
    "a += 2\n",
    "a"
   ],
   "outputs": [],
   "metadata": {}
  },
  {
   "cell_type": "code",
   "execution_count": null,
   "source": [
    "a = 5\n",
    "\n",
    "# Try seeing what other `?=` operators there are.\n",
    "\n",
    "a ?= 2"
   ],
   "outputs": [],
   "metadata": {}
  },
  {
   "cell_type": "markdown",
   "source": [
    "### 2.1.4 Variable type excrcises <a name=\"type-ex\">"
   ],
   "metadata": {}
  },
  {
   "cell_type": "code",
   "execution_count": null,
   "source": [
    "# EXERCISE\n",
    "# Find a list method to sort the list below\n",
    "\n",
    "r = [1, 5, 7, 1, 3, 5, 7]\n",
    "\n",
    "\n",
    "\n",
    "\n",
    "\n"
   ],
   "outputs": [],
   "metadata": {}
  },
  {
   "cell_type": "code",
   "execution_count": null,
   "source": [
    "# EXERCISE\n",
    "# find a string method that you can use to extract the file extension from the file name below. \n",
    "\n",
    "file_name = 'numpy_rocks.jpeg'\n",
    "\n",
    "\n",
    "\n",
    "\n"
   ],
   "outputs": [],
   "metadata": {}
  },
  {
   "cell_type": "markdown",
   "source": [
    "## 2.2 Function syntax <a name=\"function\"></a>"
   ],
   "metadata": {}
  },
  {
   "cell_type": "code",
   "execution_count": null,
   "source": [],
   "outputs": [],
   "metadata": {}
  },
  {
   "cell_type": "markdown",
   "source": [
    "## 2.3 Control <a name=\"control\"></a>"
   ],
   "metadata": {}
  },
  {
   "cell_type": "markdown",
   "source": [
    "### 2.3.1 `if` exercises <a name=\"if\"></a>"
   ],
   "metadata": {}
  },
  {
   "cell_type": "code",
   "execution_count": null,
   "source": [
    "# PROBLEM\n",
    "# Write a script below that prints \"even\" if `a` is even and \"odd\" if it is odd. \n",
    "# Hint: use the modulo operator %\n",
    "\n",
    "a = 5\n",
    "\n",
    "\n",
    "\n",
    "\n",
    "\n"
   ],
   "outputs": [],
   "metadata": {}
  },
  {
   "cell_type": "code",
   "execution_count": null,
   "source": [
    "# PROBLEM\n",
    "# Write a Python program to print the mean & median of three given numbers, `a`, `b`, `c`. \n",
    "# Have it print the output nicely using f-strings. \n",
    "\n",
    "\n",
    "a = 3\n",
    "b = 7\n",
    "c = 4\n",
    "\n",
    "\n",
    "\n"
   ],
   "outputs": [],
   "metadata": {}
  },
  {
   "cell_type": "markdown",
   "source": [
    "### 2.3.2 `for` loop exercises <a name=\"for\"></a>"
   ],
   "metadata": {}
  },
  {
   "cell_type": "code",
   "execution_count": null,
   "source": [
    "# EXERCISE \n",
    "# Write a Python program to print each element of the list and how often it appears\n",
    "# Hint: lists have methods of counting counting the number of items. Think about how sets might help you here.  \n",
    "\n",
    "r = [1, 5, 7, 1, 3, 5, 7]\n",
    "\n",
    "\n",
    "\n",
    "\n"
   ],
   "outputs": [],
   "metadata": {}
  },
  {
   "cell_type": "code",
   "execution_count": null,
   "source": [
    "# EXERCISE \n",
    "# Use list comprehension syntax to construct a list that squares each element of the list `nums` below\n",
    "\n",
    "nums = [-2.4, 1.2, 5.7, -5, 4.3]\n",
    "\n"
   ],
   "outputs": [],
   "metadata": {}
  },
  {
   "cell_type": "code",
   "execution_count": null,
   "source": [
    "# EXERCISE \n",
    "# Use list comprehension syntax with if to construct a list that squares each positive element of the list `nums` below\n",
    "# and ignores all negative items\n",
    "\n",
    "nums = [-2.4, 1.2, 5.7, -5, 4.3]\n",
    "\n"
   ],
   "outputs": [],
   "metadata": {}
  },
  {
   "cell_type": "code",
   "execution_count": null,
   "source": [
    "# PROBLEM \n",
    "# Write a Python program to print the mean, median, and mode of a list `nums` of arbitrary length.\n",
    "# Have it print the output nicely using f-strings. \n",
    "\n",
    "nums = [1, 1, 3, 5.7, 7, 8.3, 4.6, 5] \n",
    "\n",
    "\n",
    "\n",
    "\n"
   ],
   "outputs": [],
   "metadata": {}
  },
  {
   "cell_type": "markdown",
   "source": [
    "### 2.3.3 `while` loop exerscises <a name=\"while\"></a>"
   ],
   "metadata": {}
  },
  {
   "cell_type": "code",
   "execution_count": null,
   "source": [
    "# PROBLEM \n",
    "# Write a while loop that spits out Fibonacci sequence up until 100. \n",
    "\n",
    "\n",
    "\n",
    "\n",
    "\n",
    "\n"
   ],
   "outputs": [],
   "metadata": {}
  },
  {
   "cell_type": "markdown",
   "source": [
    "## 2.4 Accessing packages <a name=\"packages\"></a>\n",
    "\n",
    "You can acess packages using \n",
    "* `import...`: to import a package under its original name \n",
    "* `import...as...`: to importpackage under a new name\n",
    "* `from...import...`: to import particular functions from a package into your namespace without importing the whole package. \n",
    "\n",
    "Technically, there is one more way but the Python community will be very, very angry with you if you do this (and you **don't** want to see the Python community get angry).\n",
    "\n",
    "* `from...import *` to import all functions from a package into your namespace.\n",
    "    \n",
    "The Python distribution comes with a lot of submoidules. To get used to accessing packages and looking things up we'll play with two."
   ],
   "metadata": {}
  },
  {
   "cell_type": "markdown",
   "source": [
    "## 2.4.1 e.g. itertools <a name=\"itertools\"></a>\n",
    "\n",
    "This is a package for common tasks one enounters when they want to iterate over a collection of objects. "
   ],
   "metadata": {}
  },
  {
   "cell_type": "code",
   "execution_count": null,
   "source": [
    "# EXERCISE \n",
    "# Find a function in the itertools package that allows you to iterate over every combination of one element in `A` and one in `B` \n",
    "# (e.g. (1, 'y')). Import it and use list comprehension to construct a list of all combinations.\n",
    "\n",
    "A = [1, 2, 3]\n",
    "B = ['x', 'y', 'z']\n",
    "\n",
    "\n",
    "\n",
    "\n",
    "\n"
   ],
   "outputs": [],
   "metadata": {}
  },
  {
   "cell_type": "markdown",
   "source": [
    "## 2.5 Introduction to `numpy` <a name=\"intro-numpy\"></a>\n",
    "    \n",
    "`numpy` is the heart of using python for fast, efficient data processing. Python has many advantages, but it was not optimized for data manipulation - instead it was optimized for ease of use and flexiblity. Specifically, the way that python stores sets is not efficient for computations. Each element of a list is really a \"pointer\" to a memeory location that contains the object in question. These locations could be all over the place so as you can imagine if you need to conduct operations that require manipulating many elements at the same time this will be very slow as the program must constantly search all over memory to complete the task. \n",
    "    \n",
    "`numpy` introduces the notion of an `array` which stores elements sequentially in memory for fast processing. These arrays are typically numbers but they can contain any other type of python object and even custom types (see [dtype section](#dtype)). Furthermore, these arrays can be _multidimensional_ (e.g. 2D like a matrix, 3D etc.) \n",
    "    \n",
    "In addition to `arrays` numpy comes with efficient versions of many basic mathematical expressions (i.e. `np.cos`, `np.exp`, etc.) and constants (`np.pi` and `np.e`)\n",
    "    \n",
    "    \n",
    "Much of what is below comes from existing websites\n",
    "* [Numpy Beginners Tutorial](https://numpy.org/doc/stable/user/absolute_beginners.html)\n",
    "* [Numpy Tutorial on Linear Algebra](https://numpy.org/doc/stable/user/tutorial-svd.html)\n",
    "    \n",
    "If you are familiar with MatLab you may want to look at [NumPy for MatLab users](https://numpy.org/doc/stable/user/numpy-for-matlab-users.html).\n",
    "    \n",
    "Typically when numpy is imported it is renamed `np` so that you aren't stuck typing `numpy` every time you want to do anything."
   ],
   "metadata": {}
  },
  {
   "cell_type": "code",
   "execution_count": null,
   "source": [
    "# Let's go!\n",
    "\n",
    "import numpy as np"
   ],
   "outputs": [],
   "metadata": {}
  },
  {
   "cell_type": "markdown",
   "source": [
    "### 2.5.1 Creating `numpy` arrays <a name=\"create-arrays\"></a>\n",
    "    \n",
    "There are many ways to create numpy arrays:\n",
    "* `np.array(.)` \n",
    "* `np.zeros(.)` \n",
    "* `np.ones(.)`\n",
    "* `np.full(.)`\n",
    "* `np.empty(.)` \n",
    "* `np.arange(.)`\n",
    "* `np.linspace(.)`\n",
    "    \n",
    "`np.array(.)` converts another list object to an array"
   ],
   "metadata": {}
  },
  {
   "cell_type": "code",
   "execution_count": null,
   "source": [
    "# Creating an array from a list\n",
    "\n",
    "a = np.array([1, 2, 3, 4, 5, 6])\n",
    "a"
   ],
   "outputs": [],
   "metadata": {}
  },
  {
   "cell_type": "code",
   "execution_count": null,
   "source": [
    "# They can be indexed just like lists\n",
    "\n",
    "print(a[0:4])\n",
    "print(a[-1])"
   ],
   "outputs": [],
   "metadata": {}
  },
  {
   "cell_type": "markdown",
   "source": [
    "They can also be indexed in really useful ways that lists can't. For example, if you wanted to spit out the 1st, 3rd, and 4th elements of a list you might try"
   ],
   "metadata": {}
  },
  {
   "cell_type": "code",
   "execution_count": null,
   "source": [
    "# Oops\n",
    "\n",
    "a = [10,20,30,40,50]\n",
    "a[[1,3,4]]"
   ],
   "outputs": [],
   "metadata": {}
  },
  {
   "cell_type": "code",
   "execution_count": null,
   "source": [
    "# But if you make `a` an array....\n",
    "\n",
    "a = np.array([10,20,30,40,50])\n",
    "a[[1,3,4]]"
   ],
   "outputs": [],
   "metadata": {}
  },
  {
   "cell_type": "markdown",
   "source": [
    "The `==` operator also acts _on each element_ of the array **and** the array subscripting allows a Boolean list of equal length to be used. Putting these two facts together you can subselect elements of the array using conditions. "
   ],
   "metadata": {}
  },
  {
   "cell_type": "code",
   "execution_count": null,
   "source": [
    "print(a > 20)\n",
    "print(a[a>20])"
   ],
   "outputs": [],
   "metadata": {}
  },
  {
   "cell_type": "markdown",
   "source": [
    "If you want to know is _any_ elements of the array or _all_ elements of the array meet a critera use the `.any()` or `.all()` methods. "
   ],
   "metadata": {}
  },
  {
   "cell_type": "code",
   "execution_count": null,
   "source": [
    "print((a > 20).any())\n",
    "print((a > 20).all())"
   ],
   "outputs": [],
   "metadata": {}
  },
  {
   "cell_type": "code",
   "execution_count": null,
   "source": [
    "# You can use a list of lists to create a multidimensional array\n",
    "# NOTE: each of the sub-lists MUST be the same length.\n",
    "\n",
    "a = np.array([[1, 2, 3], [10, 12, 13]])\n",
    "a"
   ],
   "outputs": [],
   "metadata": {}
  },
  {
   "cell_type": "code",
   "execution_count": null,
   "source": [
    "# Indexing uses two coordinates ARRAY[ROW, COL]\n",
    "# can also ask numpy to spit out an entire row or column using `:`\n",
    "\n",
    "print(a[0,1])\n",
    "print(a[1,:])\n",
    "print(a[:,2])"
   ],
   "outputs": [],
   "metadata": {}
  },
  {
   "cell_type": "markdown",
   "source": [
    "`np.ones(.)`, `np.zeros(.)`, `np.empty(.)` take a number or a tuple to create an element "
   ],
   "metadata": {}
  },
  {
   "cell_type": "code",
   "execution_count": null,
   "source": [
    "# ones and zeros do exactly what you might expect\n",
    "np.ones(6)"
   ],
   "outputs": [],
   "metadata": {}
  },
  {
   "cell_type": "code",
   "execution_count": null,
   "source": [
    "np.ones((3,2))"
   ],
   "outputs": [],
   "metadata": {}
  },
  {
   "cell_type": "markdown",
   "source": [
    "`np.empty(.)` is a bit more subtle. Use this command if you know you'll be replacing the elements. It just crates an array without clearning memory so the numbers a garbage. It's faster than the other operations. "
   ],
   "metadata": {}
  },
  {
   "cell_type": "code",
   "execution_count": null,
   "source": [
    "np.empty(10)"
   ],
   "outputs": [],
   "metadata": {}
  },
  {
   "cell_type": "markdown",
   "source": [
    "`np.full(., .)` creates arrays filled with a specific values. "
   ],
   "metadata": {}
  },
  {
   "cell_type": "code",
   "execution_count": null,
   "source": [
    "np.full(10, 3.14)"
   ],
   "outputs": [],
   "metadata": {}
  },
  {
   "cell_type": "code",
   "execution_count": null,
   "source": [
    "# All of these functions have a function_like version. Use jupyter's `Shift+TAB` or `Contextual Help` fratures to figure out what they do. \n",
    "\n",
    "np.??????"
   ],
   "outputs": [],
   "metadata": {}
  },
  {
   "cell_type": "markdown",
   "source": [
    "You can also generate sequential numbers one of two ways: `np.arange(.)`, `np.linspace(.)`. `np.arange(.)` works just like range but it creates a numpy array. Just like range the initial number is inlcuded but final number is not. "
   ],
   "metadata": {}
  },
  {
   "cell_type": "code",
   "execution_count": null,
   "source": [
    "# np.arange(START, STOP, STEP)\n",
    "\n",
    "np.arange(1,15,1)"
   ],
   "outputs": [],
   "metadata": {}
  },
  {
   "cell_type": "code",
   "execution_count": null,
   "source": [
    "np.arange(1,15,2)"
   ],
   "outputs": [],
   "metadata": {}
  },
  {
   "cell_type": "markdown",
   "source": [
    "`np.linspace(START, END, LENGTH)` is similar but you specify how long you'd like the array to be with the third argument. Also note that the linspace command creates an array that **includes** the initial and final values. "
   ],
   "metadata": {}
  },
  {
   "cell_type": "code",
   "execution_count": null,
   "source": [
    "np.linspace(1, 15, 100)"
   ],
   "outputs": [],
   "metadata": {}
  },
  {
   "cell_type": "markdown",
   "source": [
    "`numpy`'s random subpackage also includes ways of creating arrays with random values. \n",
    "\n",
    "* `np.random.rand(SHAPE)`: create an array of numbers randomly drawn from the uniform distribution between 0 and 1\n",
    "* `np.radom.normal(MEAN, STD, SIZE)`: create an array of numbers ranomdly drawn from the normal distribution with mean = MEAN and standard deviation = STD"
   ],
   "metadata": {}
  },
  {
   "cell_type": "code",
   "execution_count": null,
   "source": [
    "np.random.rand(10)"
   ],
   "outputs": [],
   "metadata": {}
  },
  {
   "cell_type": "code",
   "execution_count": null,
   "source": [
    "np.random.normal(1, 1, 10)"
   ],
   "outputs": [],
   "metadata": {}
  },
  {
   "cell_type": "code",
   "execution_count": null,
   "source": [
    "# EXERCISE\n",
    "# Create some arrays and use the Boolean subscripting (e.g. a[a >20]) to select elements of the array. \n",
    "\n",
    "\n",
    "\n",
    "\n"
   ],
   "outputs": [],
   "metadata": {}
  },
  {
   "cell_type": "markdown",
   "source": [
    "### 2.5.2 Basic operations with numbers <a name=\"numbers\"></a>\n",
    "    \n",
    "You can do standard arithmatic with numbers and arrays (`+`, `*`, etc.). This applies the operation pointwise across each element of the array "
   ],
   "metadata": {}
  },
  {
   "cell_type": "code",
   "execution_count": null,
   "source": [
    "10*np.arange(1,10)"
   ],
   "outputs": [],
   "metadata": {}
  },
  {
   "cell_type": "code",
   "execution_count": null,
   "source": [
    "10*np.arange(1,10) + 1"
   ],
   "outputs": [],
   "metadata": {}
  },
  {
   "cell_type": "markdown",
   "source": [
    "You can apply any function you want across an array. "
   ],
   "metadata": {}
  },
  {
   "cell_type": "code",
   "execution_count": null,
   "source": [
    "def squareer(x):\n",
    "    return x**2\n",
    "\n",
    "a = np.arange(1,100)\n",
    "squareer(a)"
   ],
   "outputs": [],
   "metadata": {}
  },
  {
   "cell_type": "markdown",
   "source": [
    "### 2.5.3 Array properties and dtype <a name=\"dtype\">"
   ],
   "metadata": {}
  },
  {
   "cell_type": "markdown",
   "source": [
    "To find the shape and number of dimensions of an array you can use the `ARRAY.shape` and `ARRAY.ndim` variables. "
   ],
   "metadata": {}
  },
  {
   "cell_type": "code",
   "execution_count": null,
   "source": [
    "a = np.empty((10,5))\n",
    "\n",
    "print(a.shape)\n",
    "print(a.ndim)"
   ],
   "outputs": [],
   "metadata": {}
  },
  {
   "cell_type": "markdown",
   "source": [
    "In order to store arrays efficiently, numpy needs to know something about what type of data is in an array. This is called the array's `dtype`. To access an array's dtype use the `ARRAY.dtype` variable. "
   ],
   "metadata": {}
  },
  {
   "cell_type": "code",
   "execution_count": null,
   "source": [
    "a.dtype"
   ],
   "outputs": [],
   "metadata": {}
  },
  {
   "cell_type": "code",
   "execution_count": null,
   "source": [
    "# EXERCISE\n",
    "# Try to interpret the number in the dtype for the array below\n",
    "\n",
    "np.array(['hi', 'there'])"
   ],
   "outputs": [],
   "metadata": {}
  },
  {
   "cell_type": "markdown",
   "source": [
    "### 2.5.4 Manuplulating arrays <a name=\"manipulating\">\n",
    "    \n",
    "Numpy provides **a lot** of ways to manipulate arrays. [Check out the API reference here.](https://numpy.org/devdocs/reference/routines.array-manipulation.html) Here we will only look at a few key ones\n",
    "    \n",
    "* `ARRAY.reshape(a, newshape)`, `ARRAY.flatten(.)`, `np.transpose(a)`\n",
    "* `np.concatenate(.)`, `np.hstack(.)`, `np.c_`, `np.vstack(.)`, `np.r_`, `np.split(.)`\n",
    "* `ARRAY.sort(.)`, `ARRAY.argsort(.)`, `ARRAY.searchsorted(.)`"
   ],
   "metadata": {}
  },
  {
   "cell_type": "code",
   "execution_count": null,
   "source": [
    "a = np.arange(0,10)\n",
    "a"
   ],
   "outputs": [],
   "metadata": {}
  },
  {
   "cell_type": "code",
   "execution_count": null,
   "source": [
    "b = a.reshape((5,2))\n",
    "b"
   ],
   "outputs": [],
   "metadata": {}
  },
  {
   "cell_type": "code",
   "execution_count": null,
   "source": [
    "c = b.reshape((2,5))\n",
    "c"
   ],
   "outputs": [],
   "metadata": {}
  },
  {
   "cell_type": "markdown",
   "source": [
    "If you want to \"flatten\" a multidimensional array to a 1D array can use `ARRAY.reshape(-1)` or `ARRAY.flatten()`"
   ],
   "metadata": {}
  },
  {
   "cell_type": "code",
   "execution_count": null,
   "source": [
    "print(f\"flatten\\n{c.flatten()}\\n\")\n",
    "print(f\"reshape\\n{c.reshape(-1)}\\n\")"
   ],
   "outputs": [],
   "metadata": {}
  },
  {
   "cell_type": "code",
   "execution_count": null,
   "source": [
    "# np.concatenate, np.vstack and np.r_ all allow you to combine arrays \"vertically\" (along axis 0)\n",
    "\n",
    "a = np.ones((3, 2))\n",
    "b = np.ones((3, 2))\n",
    "\n",
    "print(f\"concatenate\\n {np.concatenate([a, b], axis=0)}\\n\")\n",
    "print(f\"hstack\\n{np.vstack([a, b])}\\n\")\n",
    "print(f\"r_\\n{np.r_[a, b]}\\n\")"
   ],
   "outputs": [],
   "metadata": {}
  },
  {
   "cell_type": "code",
   "execution_count": null,
   "source": [
    "# np.concatenate, np.hstack, and np.c_ all allow you to combine arrays \"horizontally\" (along axis 1)\n",
    "\n",
    "a = np.ones((3, 2))\n",
    "b = np.ones((3, 2))\n",
    "\n",
    "print(f\"concatenate\\n {np.concatenate([a, b], axis=1)}\\n\")\n",
    "print(f\"hstack\\n{np.hstack([a, b])}\\n\")\n",
    "print(f\"c_\\n{np.c_[a, b]}\\n\")"
   ],
   "outputs": [],
   "metadata": {}
  },
  {
   "cell_type": "code",
   "execution_count": null,
   "source": [
    "# EXERCISE\n",
    "# Build a 2D array where the first row is the first 10 multiples of 1, \n",
    "# the second is the first 10 multiples of 2, \n",
    "# ..., and the last row is the first 10 multiples of 5. \n",
    "\n",
    "\n",
    "\n",
    "\n",
    "\n",
    "\n",
    "\n",
    "\n"
   ],
   "outputs": [],
   "metadata": {}
  },
  {
   "cell_type": "markdown",
   "source": [
    "To sort arrays use the `ARRAY.sort(ARRAY)`, `ARRAY.argsort(ARRAY)`, `ARRAY.searchsorted(ARRAY, VALUE)` commands. `ARRAY.sort(ARRAY)` **does not return anything**. It simply sorts and resaves a a sorted version of an array (i.e. it acts \"in-place\")"
   ],
   "metadata": {}
  },
  {
   "cell_type": "code",
   "execution_count": null,
   "source": [
    "a = np.array([3, 7, 4, 6, 1, 0, 8, 9, 3])\n",
    "\n",
    "a.sort()\n",
    "a"
   ],
   "outputs": [],
   "metadata": {}
  },
  {
   "cell_type": "markdown",
   "source": [
    "There is a command to ranomly shuffle arrays that operates in the same way. "
   ],
   "metadata": {}
  },
  {
   "cell_type": "code",
   "execution_count": null,
   "source": [
    "# Try re-running this to see that `a` is shuffled differently each time. \n",
    "\n",
    "np.random.shuffle(a)\n",
    "a"
   ],
   "outputs": [],
   "metadata": {}
  },
  {
   "cell_type": "markdown",
   "source": [
    "`np.argsort(ARRAY)` returns a list of indicies that _would_ sort `ARRAY`"
   ],
   "metadata": {}
  },
  {
   "cell_type": "code",
   "execution_count": null,
   "source": [
    "a = 10*np.arange(0,9)\n",
    "np.random.shuffle(a)\n",
    "a"
   ],
   "outputs": [],
   "metadata": {}
  },
  {
   "cell_type": "code",
   "execution_count": null,
   "source": [
    "# EXCERSISE\n",
    "# Using argsort, sort the names accoring to their birth month. \n",
    "\n",
    "names = ['Anne', 'Abel', 'Adam', 'Ali', 'Allison']\n",
    "birth_months = [2, 7, 1, 11, 5]\n",
    "\n",
    "\n",
    "\n"
   ],
   "outputs": [],
   "metadata": {}
  },
  {
   "cell_type": "markdown",
   "source": [
    "### 2.5.5 Dealing with NaN <a name=\"NaN\">"
   ],
   "metadata": {}
  },
  {
   "cell_type": "markdown",
   "source": [
    "`numpy` includes functionality for missing data via `np.nan` (Not a number) and extremely large numebrs with `np.Infinity`. Arrays can include these values along with other objects. Numpy also includes many functions for dealing with arrays that have NaNs:\n",
    "\n",
    "* `p.nan_to_num(ARRAY)`: replaces np.nans with 0 and np.Infinity with a large number. (Can change the value with nan= keyword argument)\n",
    "* `np.nanmean(ARRAY)`: mean ignoring nans\n",
    "\n"
   ],
   "metadata": {}
  },
  {
   "cell_type": "code",
   "execution_count": null,
   "source": [
    "a = np.array([1.2, 3.4, np.nan, 10.1])"
   ],
   "outputs": [],
   "metadata": {}
  },
  {
   "cell_type": "code",
   "execution_count": null,
   "source": [
    "np.nan_to_num(a)"
   ],
   "outputs": [],
   "metadata": {}
  },
  {
   "cell_type": "code",
   "execution_count": null,
   "source": [
    "np.nan_to_num(a, nan=100)"
   ],
   "outputs": [],
   "metadata": {}
  },
  {
   "cell_type": "code",
   "execution_count": null,
   "source": [
    "# taking the regular means results in a nan value\n",
    "\n",
    "a.mean()"
   ],
   "outputs": [],
   "metadata": {}
  },
  {
   "cell_type": "code",
   "execution_count": null,
   "source": [
    "# using nanmean ignoes the np.NaN. \n",
    "\n",
    "np.nanmean(a)"
   ],
   "outputs": [],
   "metadata": {}
  },
  {
   "cell_type": "markdown",
   "source": [
    "### 2.5.6 Univerate operations <a name=\"univariate-ops\">"
   ],
   "metadata": {}
  },
  {
   "cell_type": "markdown",
   "source": [
    "Numpy provides a **lot** of functions. Go to [the numpy reference](https://numpy.org/doc/stable/reference/ufuncs.html#available-ufuncs) to see what is available. Most important ones are `np.mean`, `np.sum`, `np.maximum`, `np.minimum`, etc. "
   ],
   "metadata": {}
  },
  {
   "cell_type": "markdown",
   "source": [
    "**EXERCISE**\n",
    "\n",
    "Find the values of \n",
    "\n",
    "$$2\\cos(x/\\pi +3) -5$$\n",
    "\n",
    "for \n",
    "\n",
    "$$ x = 0, .5, 1.0, 1.5, \\dots, 12$$"
   ],
   "metadata": {}
  },
  {
   "cell_type": "code",
   "execution_count": null,
   "source": [
    "\n",
    "\n",
    "\n",
    "\n",
    "\n",
    "\n",
    "\n"
   ],
   "outputs": [],
   "metadata": {}
  },
  {
   "cell_type": "code",
   "execution_count": null,
   "source": [
    "# EXERCISE\n",
    "# Find the maximum value of each column of the array below. Also find the maximum of each row\n",
    "\n",
    "A = np.array([[1, 3, 4, 6, 2],\n",
    "             [ 4, 10, -5, 3, 4], \n",
    "             [-1, 2, 4, 1, 7]])\n",
    "\n",
    "\n",
    "\n",
    "\n",
    "\n",
    "\n",
    "\n"
   ],
   "outputs": [],
   "metadata": {}
  },
  {
   "cell_type": "markdown",
   "source": [
    "### 2.5.7 Bivariate operations <a name=\"bivariate-ops\">"
   ],
   "metadata": {}
  },
  {
   "cell_type": "markdown",
   "source": [
    "`numpy` also provides a number of ways to combine arrays. Standard operators like `*` and `+` operate _pointwise_. In other words the two arrays must bethe same size and these operators combine each entry. "
   ],
   "metadata": {}
  },
  {
   "cell_type": "code",
   "execution_count": null,
   "source": [
    "# EXERCISE\n",
    "# Define two 2D arrays of the same size and combine them using pointwise operators\n",
    "\n",
    "\n",
    "\n",
    "\n",
    "\n",
    "\n",
    "\n"
   ],
   "outputs": [],
   "metadata": {}
  },
  {
   "cell_type": "markdown",
   "source": [
    "Of course, very often we want to do _matrix_ multiplication. This is represented in Python 3 by the `@` symbol. "
   ],
   "metadata": {}
  },
  {
   "cell_type": "code",
   "execution_count": null,
   "source": [
    "a = np.random.rand(4,3)\n",
    "a"
   ],
   "outputs": [],
   "metadata": {}
  },
  {
   "cell_type": "code",
   "execution_count": null,
   "source": [
    "b = np.arange(1,4)\n",
    "b"
   ],
   "outputs": [],
   "metadata": {}
  },
  {
   "cell_type": "code",
   "execution_count": null,
   "source": [
    "a @ b"
   ],
   "outputs": [],
   "metadata": {}
  },
  {
   "cell_type": "markdown",
   "source": [
    "### 2.5.8 Subtleties: views vs copies <a name=\"subtleties\">\n",
    "\n",
    "* `np.copy(.)`\n",
    "* `np.split(.)` vs `np.array_spit(.)`"
   ],
   "metadata": {}
  },
  {
   "cell_type": "markdown",
   "source": [
    "### 2.5.8 `numpy` exercises <a name=\"numpy-exercises\">"
   ],
   "metadata": {}
  },
  {
   "cell_type": "code",
   "execution_count": null,
   "source": [
    "# create three matricies and conatenate"
   ],
   "outputs": [],
   "metadata": {}
  },
  {
   "cell_type": "code",
   "execution_count": null,
   "source": [],
   "outputs": [],
   "metadata": {}
  },
  {
   "cell_type": "markdown",
   "source": [
    "## 2.6 Introduction to `scipy` <a name=\"scipy-intro\">\n",
    "    \n",
    "`scipy` is a package which contains a number of convinience functions for mathematics and data analysis\n",
    "    \n",
    "* **scipy.cluster**: Vector quantization / Kmeans\n",
    "* **scipy.constants**: Physical and mathematical constants\n",
    "* **scipy.fftpack**: Fourier transform\n",
    "* **scipy.integrate**: Integration routines\n",
    "* **scipy.interpolate**: Interpolation\n",
    "* **scipy.io**: Data input and output\n",
    "* **scipy.linalg**: Linear algebra routines\n",
    "* **scipy.ndimage**: n-dimensional image package\n",
    "* **scipy.odr**: Orthogonal distance regression\n",
    "* **scipy.optimize**: Optimization\n",
    "* **scipy.signal**: Signal processing\n",
    "* **scipy.sparse**: Sparse matrices\n",
    "* **scipy.spatial**: Spatial data structures and algorithms\n",
    "* **scipy.special**: Any special mathematical functions\n",
    "* **scipy.stats**: Statistics"
   ],
   "metadata": {}
  },
  {
   "cell_type": "code",
   "execution_count": null,
   "source": [
    "import scipy as sp"
   ],
   "outputs": [],
   "metadata": {}
  },
  {
   "cell_type": "markdown",
   "source": [
    "### 2.6.1 `scipy` exercises <a name=\"scipy-exercises\">"
   ],
   "metadata": {}
  },
  {
   "cell_type": "code",
   "execution_count": null,
   "source": [
    "# EXCERSISE\n",
    "# scipy show and tell: Pick a submodule of interest, use the jupyter autocomplete functionality or the scipy docs to find a \n",
    "# function of interest udnerstand its arguments and try to do a calculation using that function. Play around with the arguments.  \n",
    "\n",
    "\n",
    "\n",
    "\n",
    "\n",
    "\n",
    "\n"
   ],
   "outputs": [],
   "metadata": {}
  }
 ],
 "metadata": {
  "kernelspec": {
   "display_name": "Python 3",
   "language": "python",
   "name": "python3"
  },
  "language_info": {
   "codemirror_mode": {
    "name": "ipython",
    "version": 3
   },
   "file_extension": ".py",
   "mimetype": "text/x-python",
   "name": "python",
   "nbconvert_exporter": "python",
   "pygments_lexer": "ipython3",
   "version": "3.8.5"
  }
 },
 "nbformat": 4,
 "nbformat_minor": 4
}