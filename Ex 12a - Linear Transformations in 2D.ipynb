{
  "cells": [
    {
      "cell_type": "markdown",
      "source": [
        "# Setting up the notebook"
      ],
      "metadata": {}
    },
    {
      "cell_type": "code",
      "source": [
        "import numpy as np\n",
        "from scipy.linalg import eig\n",
        "import matplotlib.pylab as plt\n",
        "import matplotlib.animation as animation\n",
        "from matplotlib import cm\n",
        "from IPython.display import HTML\n",
        "from numpy import sqrt, cos, sin, tan"
      ],
      "outputs": [],
      "execution_count": 1,
      "metadata": {
        "execution": {
          "iopub.status.busy": "2020-05-02T03:00:06.512Z",
          "iopub.execute_input": "2020-05-02T03:00:06.524Z",
          "iopub.status.idle": "2020-05-02T03:00:09.206Z",
          "shell.execute_reply": "2020-05-02T03:00:09.257Z"
        }
      }
    },
    {
      "cell_type": "markdown",
      "source": [
        "# Plotting linear transformations on sets of points"
      ],
      "metadata": {}
    },
    {
      "cell_type": "code",
      "source": [
        "# Creating a set of vectors arranged on a circle to vizualize\n",
        "\n",
        "R = 1.0 # radius the points will sit at. \n",
        "N_POINTS = 60 # the number of points to draw\n",
        "theta = np.linspace(0, 2*np.pi, N_POINTS, endpoint=False) # angles for the points\n",
        "V_sel = [0, 15] # Special points to fully draw the vectors  \n",
        "\n",
        "# Defining the set of vectors, one at each theta\n",
        "V = np.array([(R*np.cos(i), R*np.sin(i)) for i in theta]).T\n",
        "\n",
        "# Picking some pretty colors to use for the points\n",
        "hsv = cm.get_cmap('hsv', N_POINTS)\n",
        "colors = list(hsv(range(N_POINTS)))"
      ],
      "outputs": [],
      "execution_count": null,
      "metadata": {}
    },
    {
      "cell_type": "code",
      "source": [
        "theta"
      ],
      "outputs": [],
      "execution_count": null,
      "metadata": {}
    },
    {
      "cell_type": "code",
      "source": [
        "V"
      ],
      "outputs": [],
      "execution_count": null,
      "metadata": {}
    },
    {
      "cell_type": "code",
      "source": [
        "# Defining some functions to plot the points and special points in the transformation\n",
        "\n",
        "def plot_points(ax, points, colors='blue', marker='o', size=10.0, alpha=1.0, zorder=0):\n",
        "    if not isinstance(colors, list):\n",
        "        colors = len(points[0]) * [colors]   \n",
        "    out = ax.scatter(points[0,:], points[1,:], c=colors, marker=marker, s=size, alpha=alpha, zorder=zorder)\n",
        "    return(out)\n",
        "\n",
        "def plot_eigs(ax, M, zorder=3):\n",
        "    w, v = np.linalg.eig(M)\n",
        "    T = np.linspace(-100, 100, 10)\n",
        "    v1 = v[:,0]\n",
        "    v2 = v[:,1]\n",
        "    \n",
        "    X1 = v1[0]*T\n",
        "    Y1 = v1[1]*T\n",
        "    \n",
        "    X2 = v2[0]*T\n",
        "    Y2 = v2[1]*T\n",
        "    \n",
        "#     ax.plot(X1, Y1, color='k', zorder=zorder)\n",
        "#     ax.scatter(v1[0], v1[1], marker='o', color='k', zorder=zorder)\n",
        "#     ax.scatter(w[0]*v1[0], w[0]*v1[1], marker='x', color='k', zorder=zorder)\n",
        "    ax.arrow(0, 0, w[0]*v1[0], w[0]*v1[1], width=.05, length_includes_head=True, color='k')\n",
        "    ax.arrow(0, 0, v1[0], v1[1], width=.05, length_includes_head=True, color='.5')\n",
        "        \n",
        "#     ax.plot(X2, Y2, color='k', zorder=zorder)\n",
        "#     ax.scatter(v2[0], v2[1], marker='o', color='k', zorder=zorder)\n",
        "#     ax.scatter(w[1]*v2[0], w[1]*v2[1], marker='x', color='k', zorder=zorder)\n",
        "    ax.arrow(0, 0, w[1]*v2[0], w[1]*v2[1], width=.05, length_includes_head=True, color='k')\n",
        "    ax.arrow(0, 0, v2[0], v2[1], width=.05, length_includes_head=True, color='.5')\n",
        "    pass"
      ],
      "outputs": [],
      "execution_count": 2,
      "metadata": {
        "execution": {
          "iopub.status.busy": "2020-05-02T03:00:09.218Z",
          "iopub.execute_input": "2020-05-02T03:00:09.225Z",
          "iopub.status.idle": "2020-05-02T03:00:09.234Z",
          "shell.execute_reply": "2020-05-02T03:00:09.260Z"
        }
      }
    },
    {
      "cell_type": "code",
      "source": [
        "# Plotting the initial set of points V as a color wheel\n",
        "\n",
        "# Drawing the axes\n",
        "fig, ax = plt.subplots(figsize=(5,5))\n",
        "ax.set_aspect('equal')\n",
        "ax.axhline(0, color='.8', zorder=0)\n",
        "ax.axvline(0, color='.8', zorder=0)\n",
        "\n",
        "# Plotting the points\n",
        "a = plot_points(ax, V, colors=colors, zorder=1)\n",
        "for i in V_sel:\n",
        "    ax.plot([0,V[0][i]], [0, V[1][i]], color=colors[i], linewidth=2)\n",
        "\n",
        "# Setting the scale of x and y axis\n",
        "ax.set_xlim([-3, 3])\n",
        "ax.set_ylim([-3, 3])"
      ],
      "outputs": [
        {
          "output_type": "error",
          "ename": "NameError",
          "evalue": "name 'V' is not defined",
          "traceback": [
            "\u001b[0;31m---------------------------------------------------------------------------\u001b[0m",
            "\u001b[0;31mNameError\u001b[0m                                 Traceback (most recent call last)",
            "\u001b[0;32m<ipython-input-3-c1f1275ddf3e>\u001b[0m in \u001b[0;36m<module>\u001b[0;34m\u001b[0m\n\u001b[1;32m      8\u001b[0m \u001b[0;34m\u001b[0m\u001b[0m\n\u001b[1;32m      9\u001b[0m \u001b[0;31m# Plotting the points\u001b[0m\u001b[0;34m\u001b[0m\u001b[0;34m\u001b[0m\u001b[0;34m\u001b[0m\u001b[0m\n\u001b[0;32m---> 10\u001b[0;31m \u001b[0ma\u001b[0m \u001b[0;34m=\u001b[0m \u001b[0mplot_points\u001b[0m\u001b[0;34m(\u001b[0m\u001b[0max\u001b[0m\u001b[0;34m,\u001b[0m \u001b[0mV\u001b[0m\u001b[0;34m,\u001b[0m \u001b[0mcolors\u001b[0m\u001b[0;34m=\u001b[0m\u001b[0mcolors\u001b[0m\u001b[0;34m,\u001b[0m \u001b[0mzorder\u001b[0m\u001b[0;34m=\u001b[0m\u001b[0;36m1\u001b[0m\u001b[0;34m)\u001b[0m\u001b[0;34m\u001b[0m\u001b[0;34m\u001b[0m\u001b[0m\n\u001b[0m\u001b[1;32m     11\u001b[0m \u001b[0;32mfor\u001b[0m \u001b[0mi\u001b[0m \u001b[0;32min\u001b[0m \u001b[0mV_sel\u001b[0m\u001b[0;34m:\u001b[0m\u001b[0;34m\u001b[0m\u001b[0;34m\u001b[0m\u001b[0m\n\u001b[1;32m     12\u001b[0m     \u001b[0max\u001b[0m\u001b[0;34m.\u001b[0m\u001b[0mplot\u001b[0m\u001b[0;34m(\u001b[0m\u001b[0;34m[\u001b[0m\u001b[0;36m0\u001b[0m\u001b[0;34m,\u001b[0m\u001b[0mV\u001b[0m\u001b[0;34m[\u001b[0m\u001b[0;36m0\u001b[0m\u001b[0;34m]\u001b[0m\u001b[0;34m[\u001b[0m\u001b[0mi\u001b[0m\u001b[0;34m]\u001b[0m\u001b[0;34m]\u001b[0m\u001b[0;34m,\u001b[0m \u001b[0;34m[\u001b[0m\u001b[0;36m0\u001b[0m\u001b[0;34m,\u001b[0m \u001b[0mV\u001b[0m\u001b[0;34m[\u001b[0m\u001b[0;36m1\u001b[0m\u001b[0;34m]\u001b[0m\u001b[0;34m[\u001b[0m\u001b[0mi\u001b[0m\u001b[0;34m]\u001b[0m\u001b[0;34m]\u001b[0m\u001b[0;34m,\u001b[0m \u001b[0mcolor\u001b[0m\u001b[0;34m=\u001b[0m\u001b[0mcolors\u001b[0m\u001b[0;34m[\u001b[0m\u001b[0mi\u001b[0m\u001b[0;34m]\u001b[0m\u001b[0;34m,\u001b[0m \u001b[0mlinewidth\u001b[0m\u001b[0;34m=\u001b[0m\u001b[0;36m2\u001b[0m\u001b[0;34m)\u001b[0m\u001b[0;34m\u001b[0m\u001b[0;34m\u001b[0m\u001b[0m\n",
            "\u001b[0;31mNameError\u001b[0m: name 'V' is not defined"
          ]
        },
        {
          "output_type": "stream",
          "name": "stderr",
          "text": [
            "/Users/badr/anaconda/envs/Python3/lib/python3.7/site-packages/matplotlib/figure.py:2369: UserWarning: This figure includes Axes that are not compatible with tight_layout, so results might be incorrect.\n",
            "  warnings.warn(\"This figure includes Axes that are not compatible \"\n"
          ]
        },
        {
          "output_type": "display_data",
          "data": {
            "text/plain": [
              "<Figure size 360x360 with 1 Axes>"
            ],
            "image/png": "[encoded data removed]"
          },
          "metadata": {
            "image/png": {
              "width": 352,
              "height": 344
            },
            "needs_background": "light"
          }
        }
      ],
      "execution_count": 3,
      "metadata": {
        "execution": {
          "iopub.status.busy": "2020-05-02T03:00:09.242Z",
          "iopub.execute_input": "2020-05-02T03:00:09.246Z",
          "iopub.status.idle": "2020-05-02T03:00:09.754Z",
          "shell.execute_reply": "2020-05-02T03:00:09.924Z"
        }
      }
    },
    {
      "cell_type": "code",
      "source": [
        "# Definining the linear transformation using the matrix M (CHANGE THE NUMBERS BELOW)\n",
        "M = np.array(\n",
        "    [[2, 3],\n",
        "     [2, 1]]\n",
        "    )\n",
        "\n",
        "# Matrix multiplicaton (@) of points V by M to get new points V2\n",
        "V2 = M @ V"
      ],
      "outputs": [
        {
          "output_type": "error",
          "ename": "NameError",
          "evalue": "name 'V' is not defined",
          "traceback": [
            "\u001b[0;31m---------------------------------------------------------------------------\u001b[0m",
            "\u001b[0;31mNameError\u001b[0m                                 Traceback (most recent call last)",
            "\u001b[0;32m<ipython-input-4-b2f813c1bfa3>\u001b[0m in \u001b[0;36m<module>\u001b[0;34m\u001b[0m\n\u001b[1;32m      6\u001b[0m \u001b[0;34m\u001b[0m\u001b[0m\n\u001b[1;32m      7\u001b[0m \u001b[0;31m# Matrix multiplicaton (@) of points V by M to get new points V2\u001b[0m\u001b[0;34m\u001b[0m\u001b[0;34m\u001b[0m\u001b[0;34m\u001b[0m\u001b[0m\n\u001b[0;32m----> 8\u001b[0;31m \u001b[0mV2\u001b[0m \u001b[0;34m=\u001b[0m \u001b[0mM\u001b[0m \u001b[0;34m@\u001b[0m \u001b[0mV\u001b[0m\u001b[0;34m\u001b[0m\u001b[0;34m\u001b[0m\u001b[0m\n\u001b[0m",
            "\u001b[0;31mNameError\u001b[0m: name 'V' is not defined"
          ]
        }
      ],
      "execution_count": 4,
      "metadata": {
        "execution": {
          "iopub.status.busy": "2020-05-02T03:00:09.762Z",
          "iopub.execute_input": "2020-05-02T03:00:09.769Z",
          "iopub.status.idle": "2020-05-02T03:00:09.785Z",
          "shell.execute_reply": "2020-05-02T03:00:10.022Z"
        }
      }
    },
    {
      "cell_type": "code",
      "source": [
        "# Plotting the result of multiplying V by M (along with the initial set, V)\n",
        "\n",
        "# Drawing the axes\n",
        "fig, ax = plt.subplots(figsize=(5,5))\n",
        "ax.set_aspect('equal')\n",
        "ax.axhline(0, color='.8', zorder=0)\n",
        "ax.axvline(0, color='.8', zorder=0)\n",
        "\n",
        "# Plotting the points\n",
        "plot_points(ax, V, colors=colors, zorder=1, alpha=.2)\n",
        "for i in V_sel:\n",
        "    ax.plot([0,V[0][i]], [0, V[1][i]], color=colors[i], linewidth=2, alpha=.2)\n",
        "\n",
        "# Plotting the newpoints\n",
        "plot_points(ax, V2, colors=colors, zorder=3)\n",
        "for i in V_sel:\n",
        "    ax.plot([0,V2[0][i]], [0, V2[1][i]], color=colors[i], linewidth=2)\n",
        "\n",
        "# Setting the scale of x and y axis\n",
        "_ = ax.set_xlim([-5, 5])\n",
        "_ = ax.set_ylim([-5, 5])"
      ],
      "outputs": [
        {
          "output_type": "error",
          "ename": "NameError",
          "evalue": "name 'V' is not defined",
          "traceback": [
            "\u001b[0;31m---------------------------------------------------------------------------\u001b[0m",
            "\u001b[0;31mNameError\u001b[0m                                 Traceback (most recent call last)",
            "\u001b[0;32m<ipython-input-5-468920b105b7>\u001b[0m in \u001b[0;36m<module>\u001b[0;34m\u001b[0m\n\u001b[1;32m      8\u001b[0m \u001b[0;34m\u001b[0m\u001b[0m\n\u001b[1;32m      9\u001b[0m \u001b[0;31m# Plotting the points\u001b[0m\u001b[0;34m\u001b[0m\u001b[0;34m\u001b[0m\u001b[0;34m\u001b[0m\u001b[0m\n\u001b[0;32m---> 10\u001b[0;31m \u001b[0mplot_points\u001b[0m\u001b[0;34m(\u001b[0m\u001b[0max\u001b[0m\u001b[0;34m,\u001b[0m \u001b[0mV\u001b[0m\u001b[0;34m,\u001b[0m \u001b[0mcolors\u001b[0m\u001b[0;34m=\u001b[0m\u001b[0mcolors\u001b[0m\u001b[0;34m,\u001b[0m \u001b[0mzorder\u001b[0m\u001b[0;34m=\u001b[0m\u001b[0;36m1\u001b[0m\u001b[0;34m,\u001b[0m \u001b[0malpha\u001b[0m\u001b[0;34m=\u001b[0m\u001b[0;36m.2\u001b[0m\u001b[0;34m)\u001b[0m\u001b[0;34m\u001b[0m\u001b[0;34m\u001b[0m\u001b[0m\n\u001b[0m\u001b[1;32m     11\u001b[0m \u001b[0;32mfor\u001b[0m \u001b[0mi\u001b[0m \u001b[0;32min\u001b[0m \u001b[0mV_sel\u001b[0m\u001b[0;34m:\u001b[0m\u001b[0;34m\u001b[0m\u001b[0;34m\u001b[0m\u001b[0m\n\u001b[1;32m     12\u001b[0m     \u001b[0max\u001b[0m\u001b[0;34m.\u001b[0m\u001b[0mplot\u001b[0m\u001b[0;34m(\u001b[0m\u001b[0;34m[\u001b[0m\u001b[0;36m0\u001b[0m\u001b[0;34m,\u001b[0m\u001b[0mV\u001b[0m\u001b[0;34m[\u001b[0m\u001b[0;36m0\u001b[0m\u001b[0;34m]\u001b[0m\u001b[0;34m[\u001b[0m\u001b[0mi\u001b[0m\u001b[0;34m]\u001b[0m\u001b[0;34m]\u001b[0m\u001b[0;34m,\u001b[0m \u001b[0;34m[\u001b[0m\u001b[0;36m0\u001b[0m\u001b[0;34m,\u001b[0m \u001b[0mV\u001b[0m\u001b[0;34m[\u001b[0m\u001b[0;36m1\u001b[0m\u001b[0;34m]\u001b[0m\u001b[0;34m[\u001b[0m\u001b[0mi\u001b[0m\u001b[0;34m]\u001b[0m\u001b[0;34m]\u001b[0m\u001b[0;34m,\u001b[0m \u001b[0mcolor\u001b[0m\u001b[0;34m=\u001b[0m\u001b[0mcolors\u001b[0m\u001b[0;34m[\u001b[0m\u001b[0mi\u001b[0m\u001b[0;34m]\u001b[0m\u001b[0;34m,\u001b[0m \u001b[0mlinewidth\u001b[0m\u001b[0;34m=\u001b[0m\u001b[0;36m2\u001b[0m\u001b[0;34m,\u001b[0m \u001b[0malpha\u001b[0m\u001b[0;34m=\u001b[0m\u001b[0;36m.2\u001b[0m\u001b[0;34m)\u001b[0m\u001b[0;34m\u001b[0m\u001b[0;34m\u001b[0m\u001b[0m\n",
            "\u001b[0;31mNameError\u001b[0m: name 'V' is not defined"
          ]
        },
        {
          "output_type": "display_data",
          "data": {
            "text/plain": [
              "<Figure size 360x360 with 1 Axes>"
            ],
            "image/png": "[encoded data removed]"
          },
          "metadata": {
            "image/png": {
              "width": 352,
              "height": 344
            },
            "needs_background": "light"
          }
        }
      ],
      "execution_count": 5,
      "metadata": {
        "execution": {
          "iopub.status.busy": "2020-05-02T03:00:09.793Z",
          "iopub.execute_input": "2020-05-02T03:00:09.797Z",
          "iopub.status.idle": "2020-05-02T03:00:10.011Z",
          "shell.execute_reply": "2020-05-02T03:00:10.025Z"
        }
      }
    },
    {
      "cell_type": "code",
      "source": [
        "def prettyprint_eig(M):\n",
        "    vals, mat = eig(M)\n",
        "    for i in range(len(vals)):\n",
        "        if np.imag(vals[i]) == 0.0:\n",
        "            vals = np.array(vals, dtype='float')\n",
        "        print(f\"\\tEigenvalue {i+1} is {vals[i]:.3}, with vector ({mat[0,i]:.3}, {mat[1,i]:.3})\")"
      ],
      "outputs": [],
      "execution_count": null,
      "metadata": {}
    },
    {
      "cell_type": "code",
      "source": [
        "# Plotting the result of multiplying V by M (along with the initial set, V) & conserved directions (eigenvalues)\n",
        "\n",
        "# Drawing the axes\n",
        "fig, ax = plt.subplots(figsize=(5,5))\n",
        "ax.set_aspect('equal')\n",
        "ax.axhline(0, color='.8', zorder=0)\n",
        "ax.axvline(0, color='.8', zorder=0)\n",
        "\n",
        "# Plotting the points\n",
        "plot_points(ax, V, colors=colors, zorder=1, alpha=.2)\n",
        "\n",
        "# Plotting the newpoints\n",
        "plot_points(ax, V2, colors=colors, zorder=3)\n",
        "try:\n",
        "    plot_eigs(ax, M)\n",
        "except:\n",
        "    pass\n",
        "    \n",
        "# Setting the scale of x and y axis\n",
        "_ = ax.set_xlim([-5, 5])\n",
        "_ = ax.set_ylim([-5, 5])"
      ],
      "outputs": [],
      "execution_count": null,
      "metadata": {}
    },
    {
      "cell_type": "code",
      "source": [
        "# Printing the eigenvalues and vectors\n",
        "prettyprint_eig(M)"
      ],
      "outputs": [],
      "execution_count": null,
      "metadata": {}
    },
    {
      "cell_type": "code",
      "source": [
        "vals, mat = eig(M)"
      ],
      "outputs": [],
      "execution_count": null,
      "metadata": {}
    },
    {
      "cell_type": "code",
      "source": [
        "float(vals[0])"
      ],
      "outputs": [],
      "execution_count": null,
      "metadata": {}
    },
    {
      "cell_type": "code",
      "source": [],
      "outputs": [],
      "execution_count": null,
      "metadata": {}
    }
  ],
  "metadata": {
    "kernelspec": {
      "display_name": "Python 3",
      "language": "python",
      "name": "python3"
    },
    "language_info": {
      "name": "python",
      "version": "3.7.2",
      "mimetype": "text/x-python",
      "codemirror_mode": {
        "name": "ipython",
        "version": 3
      },
      "pygments_lexer": "ipython3",
      "nbconvert_exporter": "python",
      "file_extension": ".py"
    },
    "toc": {
      "toc_position": {},
      "skip_h1_title": false,
      "number_sections": true,
      "title_cell": "Table of Contents",
      "toc_window_display": false,
      "base_numbering": 1,
      "toc_section_display": true,
      "title_sidebar": "Contents",
      "toc_cell": false,
      "nav_menu": {},
      "sideBar": true
    },
    "varInspector": {
      "cols": {
        "lenName": 16,
        "lenType": 16,
        "lenVar": 40
      },
      "kernels_config": {
        "python": {
          "delete_cmd_postfix": "",
          "delete_cmd_prefix": "del ",
          "library": "var_list.py",
          "varRefreshCmd": "print(var_dic_list())"
        },
        "r": {
          "delete_cmd_postfix": ") ",
          "delete_cmd_prefix": "rm(",
          "library": "var_list.r",
          "varRefreshCmd": "cat(var_dic_list()) "
        }
      },
      "types_to_exclude": [
        "module",
        "function",
        "builtin_function_or_method",
        "instance",
        "_Feature"
      ],
      "window_display": false
    },
    "nteract": {
      "version": "0.23.1"
    }
  },
  "nbformat": 4,
  "nbformat_minor": 2
}