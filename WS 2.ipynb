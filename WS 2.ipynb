{
 "cells": [
  {
   "cell_type": "markdown",
   "metadata": {},
   "source": [
    "# Workshop 2: Casual modeling and statistics \n",
    "\n",
    "The purpose of this assignment is for you to begin the process of using the statistical tools introduced in class to begin analyzing your data (or data similar to it). The end point of this workshop will vary based on the complexity of the data and your familiarity with the programming tools, but the goal is for you to establish some of the basic workflows you will need to complete your final project. \n",
    "\n",
    "The products of this assignment are:\n",
    "1. **This notebook** which should include not only the code you use but descriptions and explanations of what you re doing using Markdown text blocks.\n",
    "2. **Related visualizations produced from your data** saved as PDFs \n",
    "\n",
    "**Both should be submitted to Canvas.** "
   ]
  },
  {
   "cell_type": "code",
   "execution_count": null,
   "metadata": {},
   "outputs": [],
   "source": [
    "# Import any packages you need here"
   ]
  },
  {
   "cell_type": "markdown",
   "metadata": {},
   "source": [
    "## Describing the data set\n",
    "\n",
    "_Note: this can be copied and modified from Workshop 1_\n",
    "\n",
    "Using markdown, describe your data set. What experiments are these data from? What specific variables were measured? How were they stored? What other details are necessary for interpreting the data (meaning of variables, meaning of category labels, units, etc)? In other words, write an explanation that would allow someone else to successfully load and interpret your data set for analysis. "
   ]
  },
  {
   "cell_type": "markdown",
   "metadata": {},
   "source": [
    "_Describe your data set here_"
   ]
  },
  {
   "cell_type": "markdown",
   "metadata": {},
   "source": [
    "## Describing your statistical analysis\n",
    "\n",
    "Describe the dependant and independent variable(s) you plan to statistically analyze. Describe your \"plan of attack\" for determining whether an effect is present including which tests you will run and how you will interpret the results. "
   ]
  },
  {
   "cell_type": "markdown",
   "metadata": {},
   "source": []
  },
  {
   "cell_type": "markdown",
   "metadata": {},
   "source": [
    "## Causal modeling of your data\n",
    "\n",
    "Using the `causalgraphicalmodels` package create a causal graph representing how the variables in your data set may be related - particularly the ones you have singled out for statistical analysis. Include any other variables you feel may be significant whether you can access them experimentally or not. \n"
   ]
  },
  {
   "cell_type": "code",
   "execution_count": null,
   "metadata": {},
   "outputs": [],
   "source": []
  },
  {
   "cell_type": "markdown",
   "metadata": {},
   "source": [
    "### Discussion of casual model \n",
    "\n",
    "Using your graph, discuss whether  $p(Y|do(X))$ (Where $Y$ is you dependant variable and $X$ are your independent variables) is \"identifiable\" in that it can be constructed from $p(Y|X)$ and other _observed_ probability distributions. Which other variables do you need to have access to (if any) to control for confounds (you can use backdoor or frontdoor criteria here)"
   ]
  },
  {
   "cell_type": "markdown",
   "metadata": {},
   "source": []
  },
  {
   "cell_type": "markdown",
   "metadata": {},
   "source": [
    "## Importing your data into python\n",
    "\n",
    "_Note: this can be copied and modified from Workshop 1_\n",
    "\n",
    "Import your data into python by whatever means are required. This will depend on your file format. I.e. excel files can be imported into pandas directly, hdf5 files can be read into numpy arrays and later other formats like xarray as needed. "
   ]
  },
  {
   "cell_type": "code",
   "execution_count": null,
   "metadata": {},
   "outputs": [],
   "source": []
  },
  {
   "cell_type": "markdown",
   "metadata": {},
   "source": [
    "## Processing your data into a form suitable for statistical analysis\n",
    "\n",
    "Process your data into the form required for visualization. The visualization need not be a figure per se. It could be plots of raw data or other basic quantities used to get a sense for your data. "
   ]
  },
  {
   "cell_type": "code",
   "execution_count": null,
   "metadata": {},
   "outputs": [],
   "source": []
  },
  {
   "cell_type": "markdown",
   "metadata": {},
   "source": [
    "## Statistical analysis \n",
    "\n",
    "Conduct the statistical analysis below. Beyond determining whether a result is present you should also determine the effect size using one of the measures from class or another recognized measure."
   ]
  },
  {
   "cell_type": "code",
   "execution_count": null,
   "metadata": {},
   "outputs": [],
   "source": []
  },
  {
   "cell_type": "markdown",
   "metadata": {},
   "source": [
    "## Power analysis \n",
    "\n",
    "Given the above, conduct a power analysis to determine your $\\beta$. Discuss whether your experiment has sufficient power. \n",
    "\n",
    "Alteratively, you can use this section to conduct a power analysis to determine an appropriate sample size for a future experiment. If you do so, please describe the relevant details below briefly. "
   ]
  },
  {
   "cell_type": "code",
   "execution_count": null,
   "metadata": {},
   "outputs": [],
   "source": []
  }
 ],
 "metadata": {
  "interpreter": {
   "hash": "74ea9c3251e3f79ef2548ec4b96230b1e502b9d3f3aaf514d159acf9b72fe34d"
  },
  "kernelspec": {
   "display_name": "Python 3.8.2 64-bit ('py3-QN': conda)",
   "name": "python3"
  },
  "language_info": {
   "codemirror_mode": {
    "name": "ipython",
    "version": 3
   },
   "file_extension": ".py",
   "mimetype": "text/x-python",
   "name": "python",
   "nbconvert_exporter": "python",
   "pygments_lexer": "ipython3",
   "version": "3.8.2"
  },
  "orig_nbformat": 4
 },
 "nbformat": 4,
 "nbformat_minor": 2
}
